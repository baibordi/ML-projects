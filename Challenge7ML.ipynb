{
 "cells": [
  {
   "cell_type": "code",
   "execution_count": 1,
   "id": "ab2e9ce3",
   "metadata": {},
   "outputs": [],
   "source": [
    "import pandas as pd\n",
    "import numpy as np"
   ]
  },
  {
   "cell_type": "code",
   "execution_count": 2,
   "id": "213c6a51",
   "metadata": {},
   "outputs": [
    {
     "data": {
      "text/html": [
       "<div>\n",
       "<style scoped>\n",
       "    .dataframe tbody tr th:only-of-type {\n",
       "        vertical-align: middle;\n",
       "    }\n",
       "\n",
       "    .dataframe tbody tr th {\n",
       "        vertical-align: top;\n",
       "    }\n",
       "\n",
       "    .dataframe thead th {\n",
       "        text-align: right;\n",
       "    }\n",
       "</style>\n",
       "<table border=\"1\" class=\"dataframe\">\n",
       "  <thead>\n",
       "    <tr style=\"text-align: right;\">\n",
       "      <th></th>\n",
       "      <th>Rooms</th>\n",
       "      <th>Age</th>\n",
       "      <th>Distance</th>\n",
       "      <th>Accessibility</th>\n",
       "      <th>Tax</th>\n",
       "      <th>DisadvantagedPosition</th>\n",
       "      <th>Crime</th>\n",
       "      <th>NitricOxides</th>\n",
       "      <th>PupilTeacher</th>\n",
       "      <th>Residential</th>\n",
       "      <th>NonRetail</th>\n",
       "      <th>Price</th>\n",
       "    </tr>\n",
       "  </thead>\n",
       "  <tbody>\n",
       "    <tr>\n",
       "      <th>0</th>\n",
       "      <td>5.565</td>\n",
       "      <td>70.6</td>\n",
       "      <td>2.0635</td>\n",
       "      <td>24</td>\n",
       "      <td>666</td>\n",
       "      <td>17.16</td>\n",
       "      <td>8.79212</td>\n",
       "      <td>0.584</td>\n",
       "      <td>20.2</td>\n",
       "      <td>0.0</td>\n",
       "      <td>18.10</td>\n",
       "      <td>11.7</td>\n",
       "    </tr>\n",
       "    <tr>\n",
       "      <th>1</th>\n",
       "      <td>6.879</td>\n",
       "      <td>77.7</td>\n",
       "      <td>3.2721</td>\n",
       "      <td>8</td>\n",
       "      <td>307</td>\n",
       "      <td>9.93</td>\n",
       "      <td>0.62356</td>\n",
       "      <td>0.507</td>\n",
       "      <td>17.4</td>\n",
       "      <td>0.0</td>\n",
       "      <td>6.20</td>\n",
       "      <td>27.5</td>\n",
       "    </tr>\n",
       "    <tr>\n",
       "      <th>2</th>\n",
       "      <td>5.972</td>\n",
       "      <td>76.7</td>\n",
       "      <td>3.1025</td>\n",
       "      <td>4</td>\n",
       "      <td>304</td>\n",
       "      <td>9.97</td>\n",
       "      <td>0.34940</td>\n",
       "      <td>0.544</td>\n",
       "      <td>18.4</td>\n",
       "      <td>0.0</td>\n",
       "      <td>9.90</td>\n",
       "      <td>20.3</td>\n",
       "    </tr>\n",
       "    <tr>\n",
       "      <th>3</th>\n",
       "      <td>6.943</td>\n",
       "      <td>97.4</td>\n",
       "      <td>1.8773</td>\n",
       "      <td>5</td>\n",
       "      <td>403</td>\n",
       "      <td>4.59</td>\n",
       "      <td>1.22358</td>\n",
       "      <td>0.605</td>\n",
       "      <td>14.7</td>\n",
       "      <td>0.0</td>\n",
       "      <td>19.58</td>\n",
       "      <td>41.3</td>\n",
       "    </tr>\n",
       "    <tr>\n",
       "      <th>4</th>\n",
       "      <td>5.926</td>\n",
       "      <td>71.0</td>\n",
       "      <td>2.9084</td>\n",
       "      <td>24</td>\n",
       "      <td>666</td>\n",
       "      <td>18.13</td>\n",
       "      <td>15.57570</td>\n",
       "      <td>0.580</td>\n",
       "      <td>20.2</td>\n",
       "      <td>0.0</td>\n",
       "      <td>18.10</td>\n",
       "      <td>19.1</td>\n",
       "    </tr>\n",
       "    <tr>\n",
       "      <th>...</th>\n",
       "      <td>...</td>\n",
       "      <td>...</td>\n",
       "      <td>...</td>\n",
       "      <td>...</td>\n",
       "      <td>...</td>\n",
       "      <td>...</td>\n",
       "      <td>...</td>\n",
       "      <td>...</td>\n",
       "      <td>...</td>\n",
       "      <td>...</td>\n",
       "      <td>...</td>\n",
       "      <td>...</td>\n",
       "    </tr>\n",
       "    <tr>\n",
       "      <th>394</th>\n",
       "      <td>6.019</td>\n",
       "      <td>65.3</td>\n",
       "      <td>2.4091</td>\n",
       "      <td>6</td>\n",
       "      <td>391</td>\n",
       "      <td>12.92</td>\n",
       "      <td>0.23912</td>\n",
       "      <td>0.585</td>\n",
       "      <td>19.2</td>\n",
       "      <td>0.0</td>\n",
       "      <td>9.69</td>\n",
       "      <td>21.2</td>\n",
       "    </tr>\n",
       "    <tr>\n",
       "      <th>395</th>\n",
       "      <td>5.936</td>\n",
       "      <td>80.3</td>\n",
       "      <td>2.7792</td>\n",
       "      <td>24</td>\n",
       "      <td>666</td>\n",
       "      <td>16.94</td>\n",
       "      <td>8.20058</td>\n",
       "      <td>0.713</td>\n",
       "      <td>20.2</td>\n",
       "      <td>0.0</td>\n",
       "      <td>18.10</td>\n",
       "      <td>13.5</td>\n",
       "    </tr>\n",
       "    <tr>\n",
       "      <th>396</th>\n",
       "      <td>6.590</td>\n",
       "      <td>40.4</td>\n",
       "      <td>5.4917</td>\n",
       "      <td>7</td>\n",
       "      <td>329</td>\n",
       "      <td>9.50</td>\n",
       "      <td>0.03537</td>\n",
       "      <td>0.433</td>\n",
       "      <td>16.1</td>\n",
       "      <td>34.0</td>\n",
       "      <td>6.09</td>\n",
       "      <td>22.0</td>\n",
       "    </tr>\n",
       "    <tr>\n",
       "      <th>397</th>\n",
       "      <td>6.405</td>\n",
       "      <td>85.4</td>\n",
       "      <td>2.7147</td>\n",
       "      <td>5</td>\n",
       "      <td>384</td>\n",
       "      <td>10.63</td>\n",
       "      <td>0.22876</td>\n",
       "      <td>0.520</td>\n",
       "      <td>20.9</td>\n",
       "      <td>0.0</td>\n",
       "      <td>8.56</td>\n",
       "      <td>18.6</td>\n",
       "    </tr>\n",
       "    <tr>\n",
       "      <th>398</th>\n",
       "      <td>6.556</td>\n",
       "      <td>29.1</td>\n",
       "      <td>4.5667</td>\n",
       "      <td>5</td>\n",
       "      <td>398</td>\n",
       "      <td>4.56</td>\n",
       "      <td>0.12579</td>\n",
       "      <td>0.437</td>\n",
       "      <td>15.2</td>\n",
       "      <td>45.0</td>\n",
       "      <td>3.44</td>\n",
       "      <td>29.8</td>\n",
       "    </tr>\n",
       "  </tbody>\n",
       "</table>\n",
       "<p>399 rows × 12 columns</p>\n",
       "</div>"
      ],
      "text/plain": [
       "     Rooms   Age  Distance  Accessibility  Tax  DisadvantagedPosition  \\\n",
       "0    5.565  70.6    2.0635             24  666                  17.16   \n",
       "1    6.879  77.7    3.2721              8  307                   9.93   \n",
       "2    5.972  76.7    3.1025              4  304                   9.97   \n",
       "3    6.943  97.4    1.8773              5  403                   4.59   \n",
       "4    5.926  71.0    2.9084             24  666                  18.13   \n",
       "..     ...   ...       ...            ...  ...                    ...   \n",
       "394  6.019  65.3    2.4091              6  391                  12.92   \n",
       "395  5.936  80.3    2.7792             24  666                  16.94   \n",
       "396  6.590  40.4    5.4917              7  329                   9.50   \n",
       "397  6.405  85.4    2.7147              5  384                  10.63   \n",
       "398  6.556  29.1    4.5667              5  398                   4.56   \n",
       "\n",
       "        Crime  NitricOxides  PupilTeacher  Residential  NonRetail  Price  \n",
       "0     8.79212         0.584          20.2          0.0      18.10   11.7  \n",
       "1     0.62356         0.507          17.4          0.0       6.20   27.5  \n",
       "2     0.34940         0.544          18.4          0.0       9.90   20.3  \n",
       "3     1.22358         0.605          14.7          0.0      19.58   41.3  \n",
       "4    15.57570         0.580          20.2          0.0      18.10   19.1  \n",
       "..        ...           ...           ...          ...        ...    ...  \n",
       "394   0.23912         0.585          19.2          0.0       9.69   21.2  \n",
       "395   8.20058         0.713          20.2          0.0      18.10   13.5  \n",
       "396   0.03537         0.433          16.1         34.0       6.09   22.0  \n",
       "397   0.22876         0.520          20.9          0.0       8.56   18.6  \n",
       "398   0.12579         0.437          15.2         45.0       3.44   29.8  \n",
       "\n",
       "[399 rows x 12 columns]"
      ]
     },
     "execution_count": 2,
     "metadata": {},
     "output_type": "execute_result"
    }
   ],
   "source": [
    "df=pd.read_csv(r\"C:\\Users\\Kyle\\Desktop\\Middlesex uni\\Machine Learning\\Week7\\house_data.csv\")\n",
    "df"
   ]
  },
  {
   "cell_type": "code",
   "execution_count": 3,
   "id": "709fdeb9",
   "metadata": {},
   "outputs": [
    {
     "name": "stdout",
     "output_type": "stream",
     "text": [
      "<class 'pandas.core.frame.DataFrame'>\n",
      "RangeIndex: 399 entries, 0 to 398\n",
      "Data columns (total 12 columns):\n",
      " #   Column                 Non-Null Count  Dtype  \n",
      "---  ------                 --------------  -----  \n",
      " 0   Rooms                  399 non-null    float64\n",
      " 1   Age                    399 non-null    float64\n",
      " 2   Distance               399 non-null    float64\n",
      " 3   Accessibility          399 non-null    int64  \n",
      " 4   Tax                    399 non-null    int64  \n",
      " 5   DisadvantagedPosition  399 non-null    float64\n",
      " 6   Crime                  399 non-null    float64\n",
      " 7   NitricOxides           399 non-null    float64\n",
      " 8   PupilTeacher           399 non-null    float64\n",
      " 9   Residential            399 non-null    float64\n",
      " 10  NonRetail              399 non-null    float64\n",
      " 11  Price                  399 non-null    float64\n",
      "dtypes: float64(10), int64(2)\n",
      "memory usage: 37.5 KB\n"
     ]
    }
   ],
   "source": [
    "df.info()"
   ]
  },
  {
   "cell_type": "code",
   "execution_count": 4,
   "id": "5247438e",
   "metadata": {},
   "outputs": [],
   "source": [
    "import sklearn\n",
    "from sklearn.model_selection import train_test_split"
   ]
  },
  {
   "cell_type": "code",
   "execution_count": 5,
   "id": "2583834a",
   "metadata": {},
   "outputs": [
    {
     "data": {
      "text/html": [
       "<div>\n",
       "<style scoped>\n",
       "    .dataframe tbody tr th:only-of-type {\n",
       "        vertical-align: middle;\n",
       "    }\n",
       "\n",
       "    .dataframe tbody tr th {\n",
       "        vertical-align: top;\n",
       "    }\n",
       "\n",
       "    .dataframe thead th {\n",
       "        text-align: right;\n",
       "    }\n",
       "</style>\n",
       "<table border=\"1\" class=\"dataframe\">\n",
       "  <thead>\n",
       "    <tr style=\"text-align: right;\">\n",
       "      <th></th>\n",
       "      <th>Rooms</th>\n",
       "      <th>Age</th>\n",
       "      <th>Distance</th>\n",
       "      <th>Accessibility</th>\n",
       "      <th>Tax</th>\n",
       "      <th>DisadvantagedPosition</th>\n",
       "      <th>Crime</th>\n",
       "      <th>NitricOxides</th>\n",
       "      <th>PupilTeacher</th>\n",
       "      <th>Residential</th>\n",
       "      <th>NonRetail</th>\n",
       "    </tr>\n",
       "  </thead>\n",
       "  <tbody>\n",
       "    <tr>\n",
       "      <th>0</th>\n",
       "      <td>5.565</td>\n",
       "      <td>70.6</td>\n",
       "      <td>2.0635</td>\n",
       "      <td>24</td>\n",
       "      <td>666</td>\n",
       "      <td>17.16</td>\n",
       "      <td>8.79212</td>\n",
       "      <td>0.584</td>\n",
       "      <td>20.2</td>\n",
       "      <td>0.0</td>\n",
       "      <td>18.10</td>\n",
       "    </tr>\n",
       "    <tr>\n",
       "      <th>1</th>\n",
       "      <td>6.879</td>\n",
       "      <td>77.7</td>\n",
       "      <td>3.2721</td>\n",
       "      <td>8</td>\n",
       "      <td>307</td>\n",
       "      <td>9.93</td>\n",
       "      <td>0.62356</td>\n",
       "      <td>0.507</td>\n",
       "      <td>17.4</td>\n",
       "      <td>0.0</td>\n",
       "      <td>6.20</td>\n",
       "    </tr>\n",
       "    <tr>\n",
       "      <th>2</th>\n",
       "      <td>5.972</td>\n",
       "      <td>76.7</td>\n",
       "      <td>3.1025</td>\n",
       "      <td>4</td>\n",
       "      <td>304</td>\n",
       "      <td>9.97</td>\n",
       "      <td>0.34940</td>\n",
       "      <td>0.544</td>\n",
       "      <td>18.4</td>\n",
       "      <td>0.0</td>\n",
       "      <td>9.90</td>\n",
       "    </tr>\n",
       "    <tr>\n",
       "      <th>3</th>\n",
       "      <td>6.943</td>\n",
       "      <td>97.4</td>\n",
       "      <td>1.8773</td>\n",
       "      <td>5</td>\n",
       "      <td>403</td>\n",
       "      <td>4.59</td>\n",
       "      <td>1.22358</td>\n",
       "      <td>0.605</td>\n",
       "      <td>14.7</td>\n",
       "      <td>0.0</td>\n",
       "      <td>19.58</td>\n",
       "    </tr>\n",
       "    <tr>\n",
       "      <th>4</th>\n",
       "      <td>5.926</td>\n",
       "      <td>71.0</td>\n",
       "      <td>2.9084</td>\n",
       "      <td>24</td>\n",
       "      <td>666</td>\n",
       "      <td>18.13</td>\n",
       "      <td>15.57570</td>\n",
       "      <td>0.580</td>\n",
       "      <td>20.2</td>\n",
       "      <td>0.0</td>\n",
       "      <td>18.10</td>\n",
       "    </tr>\n",
       "    <tr>\n",
       "      <th>...</th>\n",
       "      <td>...</td>\n",
       "      <td>...</td>\n",
       "      <td>...</td>\n",
       "      <td>...</td>\n",
       "      <td>...</td>\n",
       "      <td>...</td>\n",
       "      <td>...</td>\n",
       "      <td>...</td>\n",
       "      <td>...</td>\n",
       "      <td>...</td>\n",
       "      <td>...</td>\n",
       "    </tr>\n",
       "    <tr>\n",
       "      <th>394</th>\n",
       "      <td>6.019</td>\n",
       "      <td>65.3</td>\n",
       "      <td>2.4091</td>\n",
       "      <td>6</td>\n",
       "      <td>391</td>\n",
       "      <td>12.92</td>\n",
       "      <td>0.23912</td>\n",
       "      <td>0.585</td>\n",
       "      <td>19.2</td>\n",
       "      <td>0.0</td>\n",
       "      <td>9.69</td>\n",
       "    </tr>\n",
       "    <tr>\n",
       "      <th>395</th>\n",
       "      <td>5.936</td>\n",
       "      <td>80.3</td>\n",
       "      <td>2.7792</td>\n",
       "      <td>24</td>\n",
       "      <td>666</td>\n",
       "      <td>16.94</td>\n",
       "      <td>8.20058</td>\n",
       "      <td>0.713</td>\n",
       "      <td>20.2</td>\n",
       "      <td>0.0</td>\n",
       "      <td>18.10</td>\n",
       "    </tr>\n",
       "    <tr>\n",
       "      <th>396</th>\n",
       "      <td>6.590</td>\n",
       "      <td>40.4</td>\n",
       "      <td>5.4917</td>\n",
       "      <td>7</td>\n",
       "      <td>329</td>\n",
       "      <td>9.50</td>\n",
       "      <td>0.03537</td>\n",
       "      <td>0.433</td>\n",
       "      <td>16.1</td>\n",
       "      <td>34.0</td>\n",
       "      <td>6.09</td>\n",
       "    </tr>\n",
       "    <tr>\n",
       "      <th>397</th>\n",
       "      <td>6.405</td>\n",
       "      <td>85.4</td>\n",
       "      <td>2.7147</td>\n",
       "      <td>5</td>\n",
       "      <td>384</td>\n",
       "      <td>10.63</td>\n",
       "      <td>0.22876</td>\n",
       "      <td>0.520</td>\n",
       "      <td>20.9</td>\n",
       "      <td>0.0</td>\n",
       "      <td>8.56</td>\n",
       "    </tr>\n",
       "    <tr>\n",
       "      <th>398</th>\n",
       "      <td>6.556</td>\n",
       "      <td>29.1</td>\n",
       "      <td>4.5667</td>\n",
       "      <td>5</td>\n",
       "      <td>398</td>\n",
       "      <td>4.56</td>\n",
       "      <td>0.12579</td>\n",
       "      <td>0.437</td>\n",
       "      <td>15.2</td>\n",
       "      <td>45.0</td>\n",
       "      <td>3.44</td>\n",
       "    </tr>\n",
       "  </tbody>\n",
       "</table>\n",
       "<p>399 rows × 11 columns</p>\n",
       "</div>"
      ],
      "text/plain": [
       "     Rooms   Age  Distance  Accessibility  Tax  DisadvantagedPosition  \\\n",
       "0    5.565  70.6    2.0635             24  666                  17.16   \n",
       "1    6.879  77.7    3.2721              8  307                   9.93   \n",
       "2    5.972  76.7    3.1025              4  304                   9.97   \n",
       "3    6.943  97.4    1.8773              5  403                   4.59   \n",
       "4    5.926  71.0    2.9084             24  666                  18.13   \n",
       "..     ...   ...       ...            ...  ...                    ...   \n",
       "394  6.019  65.3    2.4091              6  391                  12.92   \n",
       "395  5.936  80.3    2.7792             24  666                  16.94   \n",
       "396  6.590  40.4    5.4917              7  329                   9.50   \n",
       "397  6.405  85.4    2.7147              5  384                  10.63   \n",
       "398  6.556  29.1    4.5667              5  398                   4.56   \n",
       "\n",
       "        Crime  NitricOxides  PupilTeacher  Residential  NonRetail  \n",
       "0     8.79212         0.584          20.2          0.0      18.10  \n",
       "1     0.62356         0.507          17.4          0.0       6.20  \n",
       "2     0.34940         0.544          18.4          0.0       9.90  \n",
       "3     1.22358         0.605          14.7          0.0      19.58  \n",
       "4    15.57570         0.580          20.2          0.0      18.10  \n",
       "..        ...           ...           ...          ...        ...  \n",
       "394   0.23912         0.585          19.2          0.0       9.69  \n",
       "395   8.20058         0.713          20.2          0.0      18.10  \n",
       "396   0.03537         0.433          16.1         34.0       6.09  \n",
       "397   0.22876         0.520          20.9          0.0       8.56  \n",
       "398   0.12579         0.437          15.2         45.0       3.44  \n",
       "\n",
       "[399 rows x 11 columns]"
      ]
     },
     "execution_count": 5,
     "metadata": {},
     "output_type": "execute_result"
    }
   ],
   "source": [
    "X=df.drop(columns=['Price'])\n",
    "X"
   ]
  },
  {
   "cell_type": "code",
   "execution_count": 6,
   "id": "0b5956f4",
   "metadata": {},
   "outputs": [
    {
     "data": {
      "text/plain": [
       "0      11.7\n",
       "1      27.5\n",
       "2      20.3\n",
       "3      41.3\n",
       "4      19.1\n",
       "       ... \n",
       "394    21.2\n",
       "395    13.5\n",
       "396    22.0\n",
       "397    18.6\n",
       "398    29.8\n",
       "Name: Price, Length: 399, dtype: float64"
      ]
     },
     "execution_count": 6,
     "metadata": {},
     "output_type": "execute_result"
    }
   ],
   "source": [
    "Y=df['Price']\n",
    "Y"
   ]
  },
  {
   "cell_type": "code",
   "execution_count": 7,
   "id": "765c2291",
   "metadata": {},
   "outputs": [],
   "source": [
    "from sklearn.preprocessing import StandardScaler"
   ]
  },
  {
   "cell_type": "code",
   "execution_count": 8,
   "id": "42199d90",
   "metadata": {},
   "outputs": [
    {
     "data": {
      "text/html": [
       "<style>#sk-container-id-1 {color: black;}#sk-container-id-1 pre{padding: 0;}#sk-container-id-1 div.sk-toggleable {background-color: white;}#sk-container-id-1 label.sk-toggleable__label {cursor: pointer;display: block;width: 100%;margin-bottom: 0;padding: 0.3em;box-sizing: border-box;text-align: center;}#sk-container-id-1 label.sk-toggleable__label-arrow:before {content: \"▸\";float: left;margin-right: 0.25em;color: #696969;}#sk-container-id-1 label.sk-toggleable__label-arrow:hover:before {color: black;}#sk-container-id-1 div.sk-estimator:hover label.sk-toggleable__label-arrow:before {color: black;}#sk-container-id-1 div.sk-toggleable__content {max-height: 0;max-width: 0;overflow: hidden;text-align: left;background-color: #f0f8ff;}#sk-container-id-1 div.sk-toggleable__content pre {margin: 0.2em;color: black;border-radius: 0.25em;background-color: #f0f8ff;}#sk-container-id-1 input.sk-toggleable__control:checked~div.sk-toggleable__content {max-height: 200px;max-width: 100%;overflow: auto;}#sk-container-id-1 input.sk-toggleable__control:checked~label.sk-toggleable__label-arrow:before {content: \"▾\";}#sk-container-id-1 div.sk-estimator input.sk-toggleable__control:checked~label.sk-toggleable__label {background-color: #d4ebff;}#sk-container-id-1 div.sk-label input.sk-toggleable__control:checked~label.sk-toggleable__label {background-color: #d4ebff;}#sk-container-id-1 input.sk-hidden--visually {border: 0;clip: rect(1px 1px 1px 1px);clip: rect(1px, 1px, 1px, 1px);height: 1px;margin: -1px;overflow: hidden;padding: 0;position: absolute;width: 1px;}#sk-container-id-1 div.sk-estimator {font-family: monospace;background-color: #f0f8ff;border: 1px dotted black;border-radius: 0.25em;box-sizing: border-box;margin-bottom: 0.5em;}#sk-container-id-1 div.sk-estimator:hover {background-color: #d4ebff;}#sk-container-id-1 div.sk-parallel-item::after {content: \"\";width: 100%;border-bottom: 1px solid gray;flex-grow: 1;}#sk-container-id-1 div.sk-label:hover label.sk-toggleable__label {background-color: #d4ebff;}#sk-container-id-1 div.sk-serial::before {content: \"\";position: absolute;border-left: 1px solid gray;box-sizing: border-box;top: 0;bottom: 0;left: 50%;z-index: 0;}#sk-container-id-1 div.sk-serial {display: flex;flex-direction: column;align-items: center;background-color: white;padding-right: 0.2em;padding-left: 0.2em;position: relative;}#sk-container-id-1 div.sk-item {position: relative;z-index: 1;}#sk-container-id-1 div.sk-parallel {display: flex;align-items: stretch;justify-content: center;background-color: white;position: relative;}#sk-container-id-1 div.sk-item::before, #sk-container-id-1 div.sk-parallel-item::before {content: \"\";position: absolute;border-left: 1px solid gray;box-sizing: border-box;top: 0;bottom: 0;left: 50%;z-index: -1;}#sk-container-id-1 div.sk-parallel-item {display: flex;flex-direction: column;z-index: 1;position: relative;background-color: white;}#sk-container-id-1 div.sk-parallel-item:first-child::after {align-self: flex-end;width: 50%;}#sk-container-id-1 div.sk-parallel-item:last-child::after {align-self: flex-start;width: 50%;}#sk-container-id-1 div.sk-parallel-item:only-child::after {width: 0;}#sk-container-id-1 div.sk-dashed-wrapped {border: 1px dashed gray;margin: 0 0.4em 0.5em 0.4em;box-sizing: border-box;padding-bottom: 0.4em;background-color: white;}#sk-container-id-1 div.sk-label label {font-family: monospace;font-weight: bold;display: inline-block;line-height: 1.2em;}#sk-container-id-1 div.sk-label-container {text-align: center;}#sk-container-id-1 div.sk-container {/* jupyter's `normalize.less` sets `[hidden] { display: none; }` but bootstrap.min.css set `[hidden] { display: none !important; }` so we also need the `!important` here to be able to override the default hidden behavior on the sphinx rendered scikit-learn.org. See: https://github.com/scikit-learn/scikit-learn/issues/21755 */display: inline-block !important;position: relative;}#sk-container-id-1 div.sk-text-repr-fallback {display: none;}</style><div id=\"sk-container-id-1\" class=\"sk-top-container\"><div class=\"sk-text-repr-fallback\"><pre>StandardScaler()</pre><b>In a Jupyter environment, please rerun this cell to show the HTML representation or trust the notebook. <br />On GitHub, the HTML representation is unable to render, please try loading this page with nbviewer.org.</b></div><div class=\"sk-container\" hidden><div class=\"sk-item\"><div class=\"sk-estimator sk-toggleable\"><input class=\"sk-toggleable__control sk-hidden--visually\" id=\"sk-estimator-id-1\" type=\"checkbox\" checked><label for=\"sk-estimator-id-1\" class=\"sk-toggleable__label sk-toggleable__label-arrow\">StandardScaler</label><div class=\"sk-toggleable__content\"><pre>StandardScaler()</pre></div></div></div></div></div>"
      ],
      "text/plain": [
       "StandardScaler()"
      ]
     },
     "execution_count": 8,
     "metadata": {},
     "output_type": "execute_result"
    }
   ],
   "source": [
    "scaler=StandardScaler()\n",
    "scaler"
   ]
  },
  {
   "cell_type": "code",
   "execution_count": 9,
   "id": "1cb27c42",
   "metadata": {},
   "outputs": [],
   "source": [
    "Xtrain,Xtest,Ytrain,Ytest=train_test_split(X,Y, test_size=0.3,random_state=40)"
   ]
  },
  {
   "cell_type": "code",
   "execution_count": 10,
   "id": "95dc4fdd",
   "metadata": {},
   "outputs": [],
   "source": [
    "Xtrain_scaler=scaler.fit_transform(Xtrain)\n",
    "Xtest_scaler=scaler.transform(Xtest)"
   ]
  },
  {
   "cell_type": "code",
   "execution_count": 11,
   "id": "81ed92d6",
   "metadata": {},
   "outputs": [
    {
     "data": {
      "text/plain": [
       "array([[-1.24596698, -2.16594085, -0.0402613 , ...,  0.00965288,\n",
       "        -0.47700418, -0.0998847 ],\n",
       "       [-0.78308076,  1.00181072, -0.9758738 , ...,  0.76562612,\n",
       "        -0.47700418,  0.99237252],\n",
       "       [-0.36855579,  0.64272777,  0.37432693, ...,  1.14361274,\n",
       "        -0.47700418, -0.45621362],\n",
       "       ...,\n",
       "       [ 2.23189754,  0.90581825, -0.77837104, ..., -1.83303188,\n",
       "        -0.47700418,  1.20762428],\n",
       "       [-1.79866695,  0.61428556, -0.98698184, ..., -1.83303188,\n",
       "        -0.47700418,  1.20762428],\n",
       "       [-0.58825402, -0.82204624,  1.74669585, ...,  1.19086106,\n",
       "         2.74069809, -1.05833677]])"
      ]
     },
     "execution_count": 11,
     "metadata": {},
     "output_type": "execute_result"
    }
   ],
   "source": [
    "Xtrain_scaler"
   ]
  },
  {
   "cell_type": "code",
   "execution_count": 12,
   "id": "4d9478bf",
   "metadata": {},
   "outputs": [
    {
     "data": {
      "text/plain": [
       "array([[-0.83558726,  0.98758961, -0.98075751, ..., -1.83303188,\n",
       "        -0.47700418,  1.20762428],\n",
       "       [ 0.04320569, -1.79974734,  1.98997138, ..., -1.78578355,\n",
       "         2.5261846 , -1.31431183],\n",
       "       [-0.49291328,  1.04091876, -0.89486176, ...,  0.76562612,\n",
       "        -0.47700418,  0.99237252],\n",
       "       ...,\n",
       "       [ 0.41765991, -0.44874219, -0.14439913, ..., -0.08484377,\n",
       "         0.93878482, -1.32303825],\n",
       "       [-0.10187806, -1.93484786,  0.36264434, ...,  0.00965288,\n",
       "         0.38104976, -0.62783326],\n",
       "       [ 0.44391316, -1.45844078,  2.23712514, ..., -0.74632035,\n",
       "         2.95521157, -1.34776312]])"
      ]
     },
     "execution_count": 12,
     "metadata": {},
     "output_type": "execute_result"
    }
   ],
   "source": [
    "Xtest_scaler"
   ]
  },
  {
   "cell_type": "code",
   "execution_count": 13,
   "id": "a966dac8",
   "metadata": {},
   "outputs": [
    {
     "data": {
      "text/plain": [
       "(279, 11)"
      ]
     },
     "execution_count": 13,
     "metadata": {},
     "output_type": "execute_result"
    }
   ],
   "source": [
    "Xtrain_scaler.shape"
   ]
  },
  {
   "cell_type": "code",
   "execution_count": 14,
   "id": "8179c62a",
   "metadata": {},
   "outputs": [
    {
     "data": {
      "text/plain": [
       "(120, 11)"
      ]
     },
     "execution_count": 14,
     "metadata": {},
     "output_type": "execute_result"
    }
   ],
   "source": [
    "Xtest_scaler.shape"
   ]
  },
  {
   "cell_type": "code",
   "execution_count": 15,
   "id": "fd6637b8",
   "metadata": {},
   "outputs": [],
   "source": [
    "from sklearn.linear_model import LinearRegression"
   ]
  },
  {
   "cell_type": "code",
   "execution_count": 16,
   "id": "ff4a9cfd",
   "metadata": {},
   "outputs": [
    {
     "data": {
      "text/html": [
       "<style>#sk-container-id-2 {color: black;}#sk-container-id-2 pre{padding: 0;}#sk-container-id-2 div.sk-toggleable {background-color: white;}#sk-container-id-2 label.sk-toggleable__label {cursor: pointer;display: block;width: 100%;margin-bottom: 0;padding: 0.3em;box-sizing: border-box;text-align: center;}#sk-container-id-2 label.sk-toggleable__label-arrow:before {content: \"▸\";float: left;margin-right: 0.25em;color: #696969;}#sk-container-id-2 label.sk-toggleable__label-arrow:hover:before {color: black;}#sk-container-id-2 div.sk-estimator:hover label.sk-toggleable__label-arrow:before {color: black;}#sk-container-id-2 div.sk-toggleable__content {max-height: 0;max-width: 0;overflow: hidden;text-align: left;background-color: #f0f8ff;}#sk-container-id-2 div.sk-toggleable__content pre {margin: 0.2em;color: black;border-radius: 0.25em;background-color: #f0f8ff;}#sk-container-id-2 input.sk-toggleable__control:checked~div.sk-toggleable__content {max-height: 200px;max-width: 100%;overflow: auto;}#sk-container-id-2 input.sk-toggleable__control:checked~label.sk-toggleable__label-arrow:before {content: \"▾\";}#sk-container-id-2 div.sk-estimator input.sk-toggleable__control:checked~label.sk-toggleable__label {background-color: #d4ebff;}#sk-container-id-2 div.sk-label input.sk-toggleable__control:checked~label.sk-toggleable__label {background-color: #d4ebff;}#sk-container-id-2 input.sk-hidden--visually {border: 0;clip: rect(1px 1px 1px 1px);clip: rect(1px, 1px, 1px, 1px);height: 1px;margin: -1px;overflow: hidden;padding: 0;position: absolute;width: 1px;}#sk-container-id-2 div.sk-estimator {font-family: monospace;background-color: #f0f8ff;border: 1px dotted black;border-radius: 0.25em;box-sizing: border-box;margin-bottom: 0.5em;}#sk-container-id-2 div.sk-estimator:hover {background-color: #d4ebff;}#sk-container-id-2 div.sk-parallel-item::after {content: \"\";width: 100%;border-bottom: 1px solid gray;flex-grow: 1;}#sk-container-id-2 div.sk-label:hover label.sk-toggleable__label {background-color: #d4ebff;}#sk-container-id-2 div.sk-serial::before {content: \"\";position: absolute;border-left: 1px solid gray;box-sizing: border-box;top: 0;bottom: 0;left: 50%;z-index: 0;}#sk-container-id-2 div.sk-serial {display: flex;flex-direction: column;align-items: center;background-color: white;padding-right: 0.2em;padding-left: 0.2em;position: relative;}#sk-container-id-2 div.sk-item {position: relative;z-index: 1;}#sk-container-id-2 div.sk-parallel {display: flex;align-items: stretch;justify-content: center;background-color: white;position: relative;}#sk-container-id-2 div.sk-item::before, #sk-container-id-2 div.sk-parallel-item::before {content: \"\";position: absolute;border-left: 1px solid gray;box-sizing: border-box;top: 0;bottom: 0;left: 50%;z-index: -1;}#sk-container-id-2 div.sk-parallel-item {display: flex;flex-direction: column;z-index: 1;position: relative;background-color: white;}#sk-container-id-2 div.sk-parallel-item:first-child::after {align-self: flex-end;width: 50%;}#sk-container-id-2 div.sk-parallel-item:last-child::after {align-self: flex-start;width: 50%;}#sk-container-id-2 div.sk-parallel-item:only-child::after {width: 0;}#sk-container-id-2 div.sk-dashed-wrapped {border: 1px dashed gray;margin: 0 0.4em 0.5em 0.4em;box-sizing: border-box;padding-bottom: 0.4em;background-color: white;}#sk-container-id-2 div.sk-label label {font-family: monospace;font-weight: bold;display: inline-block;line-height: 1.2em;}#sk-container-id-2 div.sk-label-container {text-align: center;}#sk-container-id-2 div.sk-container {/* jupyter's `normalize.less` sets `[hidden] { display: none; }` but bootstrap.min.css set `[hidden] { display: none !important; }` so we also need the `!important` here to be able to override the default hidden behavior on the sphinx rendered scikit-learn.org. See: https://github.com/scikit-learn/scikit-learn/issues/21755 */display: inline-block !important;position: relative;}#sk-container-id-2 div.sk-text-repr-fallback {display: none;}</style><div id=\"sk-container-id-2\" class=\"sk-top-container\"><div class=\"sk-text-repr-fallback\"><pre>LinearRegression()</pre><b>In a Jupyter environment, please rerun this cell to show the HTML representation or trust the notebook. <br />On GitHub, the HTML representation is unable to render, please try loading this page with nbviewer.org.</b></div><div class=\"sk-container\" hidden><div class=\"sk-item\"><div class=\"sk-estimator sk-toggleable\"><input class=\"sk-toggleable__control sk-hidden--visually\" id=\"sk-estimator-id-2\" type=\"checkbox\" checked><label for=\"sk-estimator-id-2\" class=\"sk-toggleable__label sk-toggleable__label-arrow\">LinearRegression</label><div class=\"sk-toggleable__content\"><pre>LinearRegression()</pre></div></div></div></div></div>"
      ],
      "text/plain": [
       "LinearRegression()"
      ]
     },
     "execution_count": 16,
     "metadata": {},
     "output_type": "execute_result"
    }
   ],
   "source": [
    "model=LinearRegression()\n",
    "model"
   ]
  },
  {
   "cell_type": "code",
   "execution_count": 17,
   "id": "3e420196",
   "metadata": {},
   "outputs": [
    {
     "data": {
      "text/html": [
       "<style>#sk-container-id-3 {color: black;}#sk-container-id-3 pre{padding: 0;}#sk-container-id-3 div.sk-toggleable {background-color: white;}#sk-container-id-3 label.sk-toggleable__label {cursor: pointer;display: block;width: 100%;margin-bottom: 0;padding: 0.3em;box-sizing: border-box;text-align: center;}#sk-container-id-3 label.sk-toggleable__label-arrow:before {content: \"▸\";float: left;margin-right: 0.25em;color: #696969;}#sk-container-id-3 label.sk-toggleable__label-arrow:hover:before {color: black;}#sk-container-id-3 div.sk-estimator:hover label.sk-toggleable__label-arrow:before {color: black;}#sk-container-id-3 div.sk-toggleable__content {max-height: 0;max-width: 0;overflow: hidden;text-align: left;background-color: #f0f8ff;}#sk-container-id-3 div.sk-toggleable__content pre {margin: 0.2em;color: black;border-radius: 0.25em;background-color: #f0f8ff;}#sk-container-id-3 input.sk-toggleable__control:checked~div.sk-toggleable__content {max-height: 200px;max-width: 100%;overflow: auto;}#sk-container-id-3 input.sk-toggleable__control:checked~label.sk-toggleable__label-arrow:before {content: \"▾\";}#sk-container-id-3 div.sk-estimator input.sk-toggleable__control:checked~label.sk-toggleable__label {background-color: #d4ebff;}#sk-container-id-3 div.sk-label input.sk-toggleable__control:checked~label.sk-toggleable__label {background-color: #d4ebff;}#sk-container-id-3 input.sk-hidden--visually {border: 0;clip: rect(1px 1px 1px 1px);clip: rect(1px, 1px, 1px, 1px);height: 1px;margin: -1px;overflow: hidden;padding: 0;position: absolute;width: 1px;}#sk-container-id-3 div.sk-estimator {font-family: monospace;background-color: #f0f8ff;border: 1px dotted black;border-radius: 0.25em;box-sizing: border-box;margin-bottom: 0.5em;}#sk-container-id-3 div.sk-estimator:hover {background-color: #d4ebff;}#sk-container-id-3 div.sk-parallel-item::after {content: \"\";width: 100%;border-bottom: 1px solid gray;flex-grow: 1;}#sk-container-id-3 div.sk-label:hover label.sk-toggleable__label {background-color: #d4ebff;}#sk-container-id-3 div.sk-serial::before {content: \"\";position: absolute;border-left: 1px solid gray;box-sizing: border-box;top: 0;bottom: 0;left: 50%;z-index: 0;}#sk-container-id-3 div.sk-serial {display: flex;flex-direction: column;align-items: center;background-color: white;padding-right: 0.2em;padding-left: 0.2em;position: relative;}#sk-container-id-3 div.sk-item {position: relative;z-index: 1;}#sk-container-id-3 div.sk-parallel {display: flex;align-items: stretch;justify-content: center;background-color: white;position: relative;}#sk-container-id-3 div.sk-item::before, #sk-container-id-3 div.sk-parallel-item::before {content: \"\";position: absolute;border-left: 1px solid gray;box-sizing: border-box;top: 0;bottom: 0;left: 50%;z-index: -1;}#sk-container-id-3 div.sk-parallel-item {display: flex;flex-direction: column;z-index: 1;position: relative;background-color: white;}#sk-container-id-3 div.sk-parallel-item:first-child::after {align-self: flex-end;width: 50%;}#sk-container-id-3 div.sk-parallel-item:last-child::after {align-self: flex-start;width: 50%;}#sk-container-id-3 div.sk-parallel-item:only-child::after {width: 0;}#sk-container-id-3 div.sk-dashed-wrapped {border: 1px dashed gray;margin: 0 0.4em 0.5em 0.4em;box-sizing: border-box;padding-bottom: 0.4em;background-color: white;}#sk-container-id-3 div.sk-label label {font-family: monospace;font-weight: bold;display: inline-block;line-height: 1.2em;}#sk-container-id-3 div.sk-label-container {text-align: center;}#sk-container-id-3 div.sk-container {/* jupyter's `normalize.less` sets `[hidden] { display: none; }` but bootstrap.min.css set `[hidden] { display: none !important; }` so we also need the `!important` here to be able to override the default hidden behavior on the sphinx rendered scikit-learn.org. See: https://github.com/scikit-learn/scikit-learn/issues/21755 */display: inline-block !important;position: relative;}#sk-container-id-3 div.sk-text-repr-fallback {display: none;}</style><div id=\"sk-container-id-3\" class=\"sk-top-container\"><div class=\"sk-text-repr-fallback\"><pre>LinearRegression()</pre><b>In a Jupyter environment, please rerun this cell to show the HTML representation or trust the notebook. <br />On GitHub, the HTML representation is unable to render, please try loading this page with nbviewer.org.</b></div><div class=\"sk-container\" hidden><div class=\"sk-item\"><div class=\"sk-estimator sk-toggleable\"><input class=\"sk-toggleable__control sk-hidden--visually\" id=\"sk-estimator-id-3\" type=\"checkbox\" checked><label for=\"sk-estimator-id-3\" class=\"sk-toggleable__label sk-toggleable__label-arrow\">LinearRegression</label><div class=\"sk-toggleable__content\"><pre>LinearRegression()</pre></div></div></div></div></div>"
      ],
      "text/plain": [
       "LinearRegression()"
      ]
     },
     "execution_count": 17,
     "metadata": {},
     "output_type": "execute_result"
    }
   ],
   "source": [
    "model.fit(Xtrain_scaler,Ytrain)"
   ]
  },
  {
   "cell_type": "code",
   "execution_count": 18,
   "id": "f14b4abf",
   "metadata": {},
   "outputs": [
    {
     "data": {
      "text/plain": [
       "array([ 2.19259075,  0.01625177, -3.49398044,  2.58918744, -2.04370267,\n",
       "       -4.58796371, -1.271813  , -2.79169921, -2.32975972,  0.95301321,\n",
       "        0.64559176])"
      ]
     },
     "execution_count": 18,
     "metadata": {},
     "output_type": "execute_result"
    }
   ],
   "source": [
    "model.coef_"
   ]
  },
  {
   "cell_type": "code",
   "execution_count": 19,
   "id": "989c792c",
   "metadata": {},
   "outputs": [
    {
     "data": {
      "text/plain": [
       "22.313261648745517"
      ]
     },
     "execution_count": 19,
     "metadata": {},
     "output_type": "execute_result"
    }
   ],
   "source": [
    "model.intercept_"
   ]
  },
  {
   "cell_type": "code",
   "execution_count": 20,
   "id": "bd4dce5e",
   "metadata": {},
   "outputs": [
    {
     "data": {
      "text/plain": [
       "array([17.98194221, 29.91519988,  7.13376418,  4.57979728, 23.86385402,\n",
       "       39.65960301, 25.91238991, 18.96073811, 27.45327724, 20.53925161,\n",
       "       35.11735006, 42.17669185, 41.8946472 , 22.87269048, 38.10386281,\n",
       "       34.58480731, 22.97379176, 16.57858362, 24.06183793, 30.09014454,\n",
       "       37.02869775, 15.7346546 , 20.41432137, 24.24430833, 21.53567079,\n",
       "       30.80803373, 28.57823488, 37.66242391, 29.72353382, 19.71276973,\n",
       "       13.42076315, 14.4687609 , 34.69831676, 25.99188463, 20.12855084,\n",
       "       17.81608653, 16.46044331, 21.85244321, 12.641605  , 25.32026785,\n",
       "       23.97507873, 20.43244888, 20.81009193, 32.33737945, 19.96468567,\n",
       "       33.69062307, 22.73928958, 28.5510258 ,  4.57683478, 15.2615551 ,\n",
       "        4.40640414, 15.80403779, 32.48183774, 23.71506903, 24.3159292 ,\n",
       "        3.3972622 ,  7.06028395, 34.25480422, 17.30872009, 26.68937248,\n",
       "       19.75945932, 23.01848315, 24.33619477, 21.93400365, 20.38524165,\n",
       "       23.48741899, 24.02758932, 20.90019057, 26.16234413, 25.61014439,\n",
       "       11.88576421, 23.81225442, 28.97811612, 16.79185791, 16.1652359 ,\n",
       "        9.14813586, 35.61175187, 25.60299016, 18.4204165 , 10.35351173,\n",
       "       18.80079042, 18.28405021, 22.19713312, 24.46265706, 27.73612292,\n",
       "       23.20485084, 17.07481487, 31.5789151 , 19.28688849, 28.31077149,\n",
       "       25.2178521 , 15.55413812, 25.95573503, 15.28371266, 21.86417045,\n",
       "       34.17182688, 39.03117668, 22.2607862 , 28.63467248, 23.27719789,\n",
       "       22.02167979, 14.87911233, 20.3174337 , 24.38782861, 26.17360935,\n",
       "       25.83212667, 34.98283834, 30.14829507, 31.59103627, 35.04763303,\n",
       "       21.4965527 , 16.84287273, 24.2575499 , 32.3536199 , 17.43114994,\n",
       "       11.73156268, 13.65176255, 30.64955501, 27.91849063, 27.04305655])"
      ]
     },
     "execution_count": 20,
     "metadata": {},
     "output_type": "execute_result"
    }
   ],
   "source": [
    "Ypred=model.predict(Xtest_scaler)\n",
    "Ypred"
   ]
  },
  {
   "cell_type": "code",
   "execution_count": 21,
   "id": "8a55f5c6",
   "metadata": {},
   "outputs": [],
   "source": [
    "from sklearn.metrics import mean_squared_error ,r2_score"
   ]
  },
  {
   "cell_type": "code",
   "execution_count": 22,
   "id": "e0687dee",
   "metadata": {},
   "outputs": [
    {
     "data": {
      "text/plain": [
       "27.56217044369218"
      ]
     },
     "execution_count": 22,
     "metadata": {},
     "output_type": "execute_result"
    }
   ],
   "source": [
    "mean_squared_error(Ytest,Ypred)"
   ]
  },
  {
   "cell_type": "code",
   "execution_count": 23,
   "id": "636b1719",
   "metadata": {},
   "outputs": [
    {
     "data": {
      "text/plain": [
       "0.7220003775284445"
      ]
     },
     "execution_count": 23,
     "metadata": {},
     "output_type": "execute_result"
    }
   ],
   "source": [
    "r2 = r2_score(Ytest, Ypred)\n",
    "r2"
   ]
  },
  {
   "cell_type": "code",
   "execution_count": 24,
   "id": "082c985b",
   "metadata": {},
   "outputs": [
    {
     "name": "stdout",
     "output_type": "stream",
     "text": [
      "Correlation coefficient: [[1.         0.85076322]\n",
      " [0.85076322 1.        ]]\n"
     ]
    }
   ],
   "source": [
    "import numpy as np\n",
    "\n",
    "# Calculate Pearson correlation coefficient\n",
    "correlation = np.corrcoef(Ypred, Ytest)\n",
    "print(\"Correlation coefficient:\", correlation)\n"
   ]
  },
  {
   "cell_type": "code",
   "execution_count": 25,
   "id": "69af52fd",
   "metadata": {},
   "outputs": [
    {
     "name": "stdout",
     "output_type": "stream",
     "text": [
      "Correlation matrix:\n",
      "[[1.         0.85076322]\n",
      " [0.85076322 1.        ]]\n"
     ]
    }
   ],
   "source": [
    "import numpy as np\n",
    "\n",
    "# Combine Y_pred and Y_test into a single matrix\n",
    "total_matrix = np.vstack((Ypred, Ytest))\n",
    "\n",
    "# Calculate the correlation matrix\n",
    "correlation_matrix = np.corrcoef(total_matrix)\n",
    "\n",
    "print(\"Correlation matrix:\")\n",
    "print(correlation_matrix)\n"
   ]
  },
  {
   "cell_type": "code",
   "execution_count": 26,
   "id": "69cc2de5",
   "metadata": {},
   "outputs": [
    {
     "data": {
      "text/plain": [
       "{'Rooms': 2.192590752730583,\n",
       " 'Age': 0.016251769309010563,\n",
       " 'Distance': -3.4939804438531064,\n",
       " 'Accessibility': 2.5891874439224583,\n",
       " 'Tax': -2.043702669314388,\n",
       " 'DisadvantagedPosition': -4.587963706171804,\n",
       " 'Crime': -1.2718129954120008,\n",
       " 'NitricOxides': -2.791699212763481,\n",
       " 'PupilTeacher': -2.3297597151883394,\n",
       " 'Residential': 0.953013208647779,\n",
       " 'NonRetail': 0.6455917639520338}"
      ]
     },
     "execution_count": 26,
     "metadata": {},
     "output_type": "execute_result"
    }
   ],
   "source": [
    "# Assuming model is the trained linear regression model\n",
    "# And X_train is the standardized training feature set\n",
    "\n",
    "# Extracting coefficients and corresponding feature names\n",
    "coefficients = model.coef_\n",
    "feature_names = Xtrain.columns\n",
    "\n",
    "# Creating a dictionary to map feature names to coefficients\n",
    "coefficients_dict = dict(zip(feature_names, coefficients))\n",
    "coefficients_dict\n",
    "# Sorting the dictionary by absolute coefficient values\n",
    "\n",
    "\n"
   ]
  },
  {
   "cell_type": "code",
   "execution_count": 27,
   "id": "706e74c9",
   "metadata": {},
   "outputs": [
    {
     "data": {
      "text/html": [
       "<div>\n",
       "<style scoped>\n",
       "    .dataframe tbody tr th:only-of-type {\n",
       "        vertical-align: middle;\n",
       "    }\n",
       "\n",
       "    .dataframe tbody tr th {\n",
       "        vertical-align: top;\n",
       "    }\n",
       "\n",
       "    .dataframe thead th {\n",
       "        text-align: right;\n",
       "    }\n",
       "</style>\n",
       "<table border=\"1\" class=\"dataframe\">\n",
       "  <thead>\n",
       "    <tr style=\"text-align: right;\">\n",
       "      <th></th>\n",
       "      <th>Rooms</th>\n",
       "      <th>Age</th>\n",
       "      <th>Distance</th>\n",
       "      <th>Accessibility</th>\n",
       "      <th>Tax</th>\n",
       "      <th>DisadvantagedPosition</th>\n",
       "      <th>Crime</th>\n",
       "      <th>NitricOxides</th>\n",
       "      <th>PupilTeacher</th>\n",
       "      <th>Residential</th>\n",
       "      <th>NonRetail</th>\n",
       "      <th>Price</th>\n",
       "    </tr>\n",
       "  </thead>\n",
       "  <tbody>\n",
       "    <tr>\n",
       "      <th>Rooms</th>\n",
       "      <td>1.000000</td>\n",
       "      <td>-0.246985</td>\n",
       "      <td>0.210110</td>\n",
       "      <td>-0.225986</td>\n",
       "      <td>-0.313500</td>\n",
       "      <td>-0.610217</td>\n",
       "      <td>-0.221452</td>\n",
       "      <td>-0.324485</td>\n",
       "      <td>-0.355299</td>\n",
       "      <td>0.305636</td>\n",
       "      <td>-0.397908</td>\n",
       "      <td>0.687792</td>\n",
       "    </tr>\n",
       "    <tr>\n",
       "      <th>Age</th>\n",
       "      <td>-0.246985</td>\n",
       "      <td>1.000000</td>\n",
       "      <td>-0.744664</td>\n",
       "      <td>0.463769</td>\n",
       "      <td>0.511034</td>\n",
       "      <td>0.589540</td>\n",
       "      <td>0.349846</td>\n",
       "      <td>0.733982</td>\n",
       "      <td>0.292160</td>\n",
       "      <td>-0.585534</td>\n",
       "      <td>0.649564</td>\n",
       "      <td>-0.384552</td>\n",
       "    </tr>\n",
       "    <tr>\n",
       "      <th>Distance</th>\n",
       "      <td>0.210110</td>\n",
       "      <td>-0.744664</td>\n",
       "      <td>1.000000</td>\n",
       "      <td>-0.495243</td>\n",
       "      <td>-0.523743</td>\n",
       "      <td>-0.498760</td>\n",
       "      <td>-0.372976</td>\n",
       "      <td>-0.764173</td>\n",
       "      <td>-0.232624</td>\n",
       "      <td>0.674534</td>\n",
       "      <td>-0.705691</td>\n",
       "      <td>0.258080</td>\n",
       "    </tr>\n",
       "    <tr>\n",
       "      <th>Accessibility</th>\n",
       "      <td>-0.225986</td>\n",
       "      <td>0.463769</td>\n",
       "      <td>-0.495243</td>\n",
       "      <td>1.000000</td>\n",
       "      <td>0.903577</td>\n",
       "      <td>0.509284</td>\n",
       "      <td>0.629406</td>\n",
       "      <td>0.609319</td>\n",
       "      <td>0.457630</td>\n",
       "      <td>-0.321656</td>\n",
       "      <td>0.594555</td>\n",
       "      <td>-0.396367</td>\n",
       "    </tr>\n",
       "    <tr>\n",
       "      <th>Tax</th>\n",
       "      <td>-0.313500</td>\n",
       "      <td>0.511034</td>\n",
       "      <td>-0.523743</td>\n",
       "      <td>0.903577</td>\n",
       "      <td>1.000000</td>\n",
       "      <td>0.562811</td>\n",
       "      <td>0.580812</td>\n",
       "      <td>0.663271</td>\n",
       "      <td>0.465694</td>\n",
       "      <td>-0.326599</td>\n",
       "      <td>0.721836</td>\n",
       "      <td>-0.484625</td>\n",
       "    </tr>\n",
       "    <tr>\n",
       "      <th>DisadvantagedPosition</th>\n",
       "      <td>-0.610217</td>\n",
       "      <td>0.589540</td>\n",
       "      <td>-0.498760</td>\n",
       "      <td>0.509284</td>\n",
       "      <td>0.562811</td>\n",
       "      <td>1.000000</td>\n",
       "      <td>0.464586</td>\n",
       "      <td>0.616221</td>\n",
       "      <td>0.377729</td>\n",
       "      <td>-0.418836</td>\n",
       "      <td>0.609658</td>\n",
       "      <td>-0.755573</td>\n",
       "    </tr>\n",
       "    <tr>\n",
       "      <th>Crime</th>\n",
       "      <td>-0.221452</td>\n",
       "      <td>0.349846</td>\n",
       "      <td>-0.372976</td>\n",
       "      <td>0.629406</td>\n",
       "      <td>0.580812</td>\n",
       "      <td>0.464586</td>\n",
       "      <td>1.000000</td>\n",
       "      <td>0.420050</td>\n",
       "      <td>0.290104</td>\n",
       "      <td>-0.204487</td>\n",
       "      <td>0.403862</td>\n",
       "      <td>-0.397300</td>\n",
       "    </tr>\n",
       "    <tr>\n",
       "      <th>NitricOxides</th>\n",
       "      <td>-0.324485</td>\n",
       "      <td>0.733982</td>\n",
       "      <td>-0.764173</td>\n",
       "      <td>0.609319</td>\n",
       "      <td>0.663271</td>\n",
       "      <td>0.616221</td>\n",
       "      <td>0.420050</td>\n",
       "      <td>1.000000</td>\n",
       "      <td>0.184955</td>\n",
       "      <td>-0.527367</td>\n",
       "      <td>0.763697</td>\n",
       "      <td>-0.442540</td>\n",
       "    </tr>\n",
       "    <tr>\n",
       "      <th>PupilTeacher</th>\n",
       "      <td>-0.355299</td>\n",
       "      <td>0.292160</td>\n",
       "      <td>-0.232624</td>\n",
       "      <td>0.457630</td>\n",
       "      <td>0.465694</td>\n",
       "      <td>0.377729</td>\n",
       "      <td>0.290104</td>\n",
       "      <td>0.184955</td>\n",
       "      <td>1.000000</td>\n",
       "      <td>-0.383902</td>\n",
       "      <td>0.392209</td>\n",
       "      <td>-0.513362</td>\n",
       "    </tr>\n",
       "    <tr>\n",
       "      <th>Residential</th>\n",
       "      <td>0.305636</td>\n",
       "      <td>-0.585534</td>\n",
       "      <td>0.674534</td>\n",
       "      <td>-0.321656</td>\n",
       "      <td>-0.326599</td>\n",
       "      <td>-0.418836</td>\n",
       "      <td>-0.204487</td>\n",
       "      <td>-0.527367</td>\n",
       "      <td>-0.383902</td>\n",
       "      <td>1.000000</td>\n",
       "      <td>-0.534437</td>\n",
       "      <td>0.356004</td>\n",
       "    </tr>\n",
       "    <tr>\n",
       "      <th>NonRetail</th>\n",
       "      <td>-0.397908</td>\n",
       "      <td>0.649564</td>\n",
       "      <td>-0.705691</td>\n",
       "      <td>0.594555</td>\n",
       "      <td>0.721836</td>\n",
       "      <td>0.609658</td>\n",
       "      <td>0.403862</td>\n",
       "      <td>0.763697</td>\n",
       "      <td>0.392209</td>\n",
       "      <td>-0.534437</td>\n",
       "      <td>1.000000</td>\n",
       "      <td>-0.481494</td>\n",
       "    </tr>\n",
       "    <tr>\n",
       "      <th>Price</th>\n",
       "      <td>0.687792</td>\n",
       "      <td>-0.384552</td>\n",
       "      <td>0.258080</td>\n",
       "      <td>-0.396367</td>\n",
       "      <td>-0.484625</td>\n",
       "      <td>-0.755573</td>\n",
       "      <td>-0.397300</td>\n",
       "      <td>-0.442540</td>\n",
       "      <td>-0.513362</td>\n",
       "      <td>0.356004</td>\n",
       "      <td>-0.481494</td>\n",
       "      <td>1.000000</td>\n",
       "    </tr>\n",
       "  </tbody>\n",
       "</table>\n",
       "</div>"
      ],
      "text/plain": [
       "                          Rooms       Age  Distance  Accessibility       Tax  \\\n",
       "Rooms                  1.000000 -0.246985  0.210110      -0.225986 -0.313500   \n",
       "Age                   -0.246985  1.000000 -0.744664       0.463769  0.511034   \n",
       "Distance               0.210110 -0.744664  1.000000      -0.495243 -0.523743   \n",
       "Accessibility         -0.225986  0.463769 -0.495243       1.000000  0.903577   \n",
       "Tax                   -0.313500  0.511034 -0.523743       0.903577  1.000000   \n",
       "DisadvantagedPosition -0.610217  0.589540 -0.498760       0.509284  0.562811   \n",
       "Crime                 -0.221452  0.349846 -0.372976       0.629406  0.580812   \n",
       "NitricOxides          -0.324485  0.733982 -0.764173       0.609319  0.663271   \n",
       "PupilTeacher          -0.355299  0.292160 -0.232624       0.457630  0.465694   \n",
       "Residential            0.305636 -0.585534  0.674534      -0.321656 -0.326599   \n",
       "NonRetail             -0.397908  0.649564 -0.705691       0.594555  0.721836   \n",
       "Price                  0.687792 -0.384552  0.258080      -0.396367 -0.484625   \n",
       "\n",
       "                       DisadvantagedPosition     Crime  NitricOxides  \\\n",
       "Rooms                              -0.610217 -0.221452     -0.324485   \n",
       "Age                                 0.589540  0.349846      0.733982   \n",
       "Distance                           -0.498760 -0.372976     -0.764173   \n",
       "Accessibility                       0.509284  0.629406      0.609319   \n",
       "Tax                                 0.562811  0.580812      0.663271   \n",
       "DisadvantagedPosition               1.000000  0.464586      0.616221   \n",
       "Crime                               0.464586  1.000000      0.420050   \n",
       "NitricOxides                        0.616221  0.420050      1.000000   \n",
       "PupilTeacher                        0.377729  0.290104      0.184955   \n",
       "Residential                        -0.418836 -0.204487     -0.527367   \n",
       "NonRetail                           0.609658  0.403862      0.763697   \n",
       "Price                              -0.755573 -0.397300     -0.442540   \n",
       "\n",
       "                       PupilTeacher  Residential  NonRetail     Price  \n",
       "Rooms                     -0.355299     0.305636  -0.397908  0.687792  \n",
       "Age                        0.292160    -0.585534   0.649564 -0.384552  \n",
       "Distance                  -0.232624     0.674534  -0.705691  0.258080  \n",
       "Accessibility              0.457630    -0.321656   0.594555 -0.396367  \n",
       "Tax                        0.465694    -0.326599   0.721836 -0.484625  \n",
       "DisadvantagedPosition      0.377729    -0.418836   0.609658 -0.755573  \n",
       "Crime                      0.290104    -0.204487   0.403862 -0.397300  \n",
       "NitricOxides               0.184955    -0.527367   0.763697 -0.442540  \n",
       "PupilTeacher               1.000000    -0.383902   0.392209 -0.513362  \n",
       "Residential               -0.383902     1.000000  -0.534437  0.356004  \n",
       "NonRetail                  0.392209    -0.534437   1.000000 -0.481494  \n",
       "Price                     -0.513362     0.356004  -0.481494  1.000000  "
      ]
     },
     "execution_count": 27,
     "metadata": {},
     "output_type": "execute_result"
    }
   ],
   "source": [
    "correlation_matrix = df.corr()\n",
    "correlation_matrix"
   ]
  },
  {
   "cell_type": "code",
   "execution_count": 28,
   "id": "5e47bab8",
   "metadata": {},
   "outputs": [
    {
     "data": {
      "image/png": "[encoded data removed]",
      "text/plain": [
       "<Figure size 640x480 with 2 Axes>"
      ]
     },
     "metadata": {},
     "output_type": "display_data"
    }
   ],
   "source": [
    "import seaborn as sns\n",
    "import matplotlib.pyplot as plt\n",
    "\n",
    "sns.heatmap(correlation_matrix, annot=True)\n",
    "# Set the plot title\n",
    "plt.title(\"Correlation Heatmap\")\n",
    "# Show the plot\n",
    "plt.show()\n"
   ]
  },
  {
   "cell_type": "code",
   "execution_count": 29,
   "id": "e23b22aa",
   "metadata": {},
   "outputs": [
    {
     "name": "stdout",
     "output_type": "stream",
     "text": [
      "DisadvantagedPosition: -4.587963706171804\n",
      "Distance: -3.4939804438531064\n",
      "NitricOxides: -2.791699212763481\n",
      "Accessibility: 2.5891874439224583\n",
      "PupilTeacher: -2.3297597151883394\n",
      "Rooms: 2.192590752730583\n",
      "Tax: -2.043702669314388\n",
      "Crime: -1.2718129954120008\n",
      "Residential: 0.953013208647779\n",
      "NonRetail: 0.6455917639520338\n",
      "Age: 0.016251769309010563\n"
     ]
    }
   ],
   "source": [
    "# Assuming model is the trained linear regression model\n",
    "# And X_train is the standardized training feature set\n",
    "\n",
    "# Extracting coefficients and corresponding feature names\n",
    "coefficients = model.coef_\n",
    "feature_names = Xtrain.columns\n",
    "\n",
    "# Creating a dictionary to map feature names to coefficients\n",
    "coefficients_dict = dict(zip(feature_names, coefficients))\n",
    "\n",
    "# Sorting the dictionary by absolute coefficient values\n",
    "sorted_coefficients = sorted(coefficients_dict.items(), key=lambda x: abs(x[1]), reverse=True)\n",
    "\n",
    "# Printing the sorted coefficients\n",
    "for feature, coefficient in sorted_coefficients:\n",
    "    print(f\"{feature}: {coefficient}\")\n"
   ]
  },
  {
   "cell_type": "code",
   "execution_count": 30,
   "id": "f6fe1d3c",
   "metadata": {},
   "outputs": [
    {
     "name": "stdout",
     "output_type": "stream",
     "text": [
      "Interpretation of Coefficients:\n",
      "A one standard deviation increase in DisadvantagedPosition is associated with a decrease of 4.59 standard deviations in house prices.\n",
      "A one standard deviation increase in Distance is associated with a decrease of 3.49 standard deviations in house prices.\n",
      "A one standard deviation increase in NitricOxides is associated with a decrease of 2.79 standard deviations in house prices.\n",
      "A one standard deviation increase in Accessibility is associated with an increase of 2.59 standard deviations in house prices.\n",
      "A one standard deviation increase in PupilTeacher is associated with a decrease of 2.33 standard deviations in house prices.\n",
      "A one standard deviation increase in Rooms is associated with an increase of 2.19 standard deviations in house prices.\n",
      "A one standard deviation increase in Tax is associated with a decrease of 2.04 standard deviations in house prices.\n",
      "A one standard deviation increase in Crime is associated with a decrease of 1.27 standard deviations in house prices.\n",
      "A one standard deviation increase in Residential is associated with an increase of 0.95 standard deviations in house prices.\n",
      "A one standard deviation increase in NonRetail is associated with an increase of 0.65 standard deviations in house prices.\n",
      "A one standard deviation increase in Age is associated with an increase of 0.02 standard deviations in house prices.\n"
     ]
    }
   ],
   "source": [
    "# Assuming model is the trained linear regression model\n",
    "# And X_train is the standardized training feature set\n",
    "\n",
    "# Extracting coefficients and corresponding feature names\n",
    "coefficients = model.coef_\n",
    "feature_names = Xtrain.columns\n",
    "\n",
    "# Creating a dictionary to map feature names to coefficients\n",
    "coefficients_dict = dict(zip(feature_names, coefficients))\n",
    "\n",
    "# Sorting the dictionary by absolute coefficient values\n",
    "sorted_coefficients = sorted(coefficients_dict.items(), key=lambda x: abs(x[1]), reverse=True)\n",
    "\n",
    "# Printing the sorted coefficients\n",
    "print(\"Interpretation of Coefficients:\")\n",
    "for feature, coefficient in sorted_coefficients:\n",
    "    if coefficient > 0:\n",
    "        print(f\"A one standard deviation increase in {feature} is associated with an increase of {coefficient:.2f} standard deviations in house prices.\")\n",
    "    else:\n",
    "        print(f\"A one standard deviation increase in {feature} is associated with a decrease of {abs(coefficient):.2f} standard deviations in house prices.\")\n"
   ]
  },
  {
   "cell_type": "code",
   "execution_count": 31,
   "id": "d87901c3",
   "metadata": {},
   "outputs": [
    {
     "data": {
      "text/plain": [
       "<matplotlib.lines.Line2D at 0x28f0ba77510>"
      ]
     },
     "execution_count": 31,
     "metadata": {},
     "output_type": "execute_result"
    },
    {
     "data": {
      "image/png": "[encoded data removed]",
      "text/plain": [
       "<Figure size 640x480 with 1 Axes>"
      ]
     },
     "metadata": {},
     "output_type": "display_data"
    }
   ],
   "source": [
    "##residuals are obtained by subtracting the predicted values from the actual observed values.residuals = Ytest - Ypred\n",
    "residuals=Ytest-Ypred\n",
    "#sns.scatterplot(x=Ypred, Ytest-Ypred)\n",
    "sns.scatterplot(x=Ypred, y=residuals,color='black')\n",
    "#plt.axhline(y=1, color='red', linestyle='--', label='Reference Line')\n",
    "\n",
    "plt.axhline(y=0, color='red', linestyle='--', label='Reference Line')"
   ]
  },
  {
   "cell_type": "code",
   "execution_count": 32,
   "id": "856c3c58",
   "metadata": {},
   "outputs": [],
   "source": [
    "import seaborn as sns"
   ]
  },
  {
   "cell_type": "code",
   "execution_count": 33,
   "id": "9858f376",
   "metadata": {},
   "outputs": [
    {
     "name": "stderr",
     "output_type": "stream",
     "text": [
      "C:\\ProgramData\\anaconda3\\Lib\\site-packages\\seaborn\\axisgrid.py:118: UserWarning: The figure layout has changed to tight\n",
      "  self._figure.tight_layout(*args, **kwargs)\n"
     ]
    },
    {
     "data": {
      "text/plain": [
       "<seaborn.axisgrid.FacetGrid at 0x28f0bc2cb90>"
      ]
     },
     "execution_count": 33,
     "metadata": {},
     "output_type": "execute_result"
    },
    {
     "data": {
      "image/png": "[encoded data removed]",
      "text/plain": [
       "<Figure size 500x500 with 1 Axes>"
      ]
     },
     "metadata": {},
     "output_type": "display_data"
    }
   ],
   "source": [
    "sns.displot(residuals)"
   ]
  },
  {
   "cell_type": "code",
   "execution_count": 34,
   "id": "989862df",
   "metadata": {},
   "outputs": [
    {
     "data": {
      "text/plain": [
       "<matplotlib.lines.Line2D at 0x28f0bc7d510>"
      ]
     },
     "execution_count": 34,
     "metadata": {},
     "output_type": "execute_result"
    },
    {
     "data": {
      "image/png": "[encoded data removed]",
      "text/plain": [
       "<Figure size 640x480 with 1 Axes>"
      ]
     },
     "metadata": {},
     "output_type": "display_data"
    }
   ],
   "source": [
    "sns.scatterplot(x=Ypred, y=np.sqrt(np.abs(residuals)), color='blue')\n",
    "plt.axhline(y=1, color='r')"
   ]
  },
  {
   "cell_type": "code",
   "execution_count": 38,
   "id": "4753f0dd",
   "metadata": {},
   "outputs": [
    {
     "data": {
      "text/plain": [
       "<Axes: xlabel='Price', ylabel='Count'>"
      ]
     },
     "execution_count": 38,
     "metadata": {},
     "output_type": "execute_result"
    },
    {
     "data": {
      "image/png": "[encoded data removed]",
      "text/plain": [
       "<Figure size 640x480 with 1 Axes>"
      ]
     },
     "metadata": {},
     "output_type": "display_data"
    }
   ],
   "source": [
    "sns.histplot(residuals, bins=20, kde=True, color='skyblue', edgecolor='black')"
   ]
  },
  {
   "cell_type": "code",
   "execution_count": 39,
   "id": "5b176848",
   "metadata": {},
   "outputs": [],
   "source": [
    "import pylab\n",
    "import scipy.stats as stats"
   ]
  },
  {
   "cell_type": "code",
   "execution_count": 42,
   "id": "ec82c894",
   "metadata": {},
   "outputs": [
    {
     "data": {
      "text/plain": [
       "((array([-2.52654228, -2.1978944 , -2.0086642 , -1.8721281 , -1.76356639,\n",
       "         -1.67252351, -1.59354821, -1.5234211 , -1.46007481, -1.40209915,\n",
       "         -1.3484871 , -1.29849326, -1.25154963, -1.20721295, -1.16513026,\n",
       "         -1.12501567, -1.08663416, -1.04979006, -1.01431855, -0.98007946,\n",
       "         -0.94695242, -0.9148333 , -0.8836313 , -0.85326673, -0.82366923,\n",
       "         -0.79477627, -0.76653206, -0.73888652, -0.71179451, -0.68521516,\n",
       "         -0.65911132, -0.6334491 , -0.60819743, -0.58332778, -0.55881382,\n",
       "         -0.53463119, -0.51075726, -0.48717098, -0.46385269, -0.44078394,\n",
       "         -0.41794744, -0.39532687, -0.37290682, -0.35067268, -0.32861058,\n",
       "         -0.3067073 , -0.28495019, -0.26332716, -0.24182657, -0.2204372 ,\n",
       "         -0.19914822, -0.17794913, -0.15682971, -0.13578003, -0.11479034,\n",
       "         -0.09385111, -0.07295295, -0.05208661, -0.03124292, -0.0104128 ,\n",
       "          0.0104128 ,  0.03124292,  0.05208661,  0.07295295,  0.09385111,\n",
       "          0.11479034,  0.13578003,  0.15682971,  0.17794913,  0.19914822,\n",
       "          0.2204372 ,  0.24182657,  0.26332716,  0.28495019,  0.3067073 ,\n",
       "          0.32861058,  0.35067268,  0.37290682,  0.39532687,  0.41794744,\n",
       "          0.44078394,  0.46385269,  0.48717098,  0.51075726,  0.53463119,\n",
       "          0.55881382,  0.58332778,  0.60819743,  0.6334491 ,  0.65911132,\n",
       "          0.68521516,  0.71179451,  0.73888652,  0.76653206,  0.79477627,\n",
       "          0.82366923,  0.85326673,  0.8836313 ,  0.9148333 ,  0.94695242,\n",
       "          0.98007946,  1.01431855,  1.04979006,  1.08663416,  1.12501567,\n",
       "          1.16513026,  1.20721295,  1.25154963,  1.29849326,  1.3484871 ,\n",
       "          1.40209915,  1.46007481,  1.5234211 ,  1.59354821,  1.67252351,\n",
       "          1.76356639,  1.8721281 ,  2.0086642 ,  2.1978944 ,  2.52654228]),\n",
       "  array([-10.97269048,  -9.51276973,  -8.14430833,  -7.41519988,\n",
       "          -7.33212667,  -7.19014454,  -6.59188463,  -6.58405021,\n",
       "          -6.2174337 ,  -5.91432137,  -5.73114994,  -5.4159292 ,\n",
       "          -5.35244321,  -5.19062307,  -4.94763303,  -4.7510258 ,\n",
       "          -4.73612292,  -4.57811612,  -4.56234413,  -4.48937248,\n",
       "          -4.02855084,  -4.02758932,  -3.83619477,  -3.8178521 ,\n",
       "          -3.75327724,  -3.71848315,  -3.61608653,  -3.56385402,\n",
       "          -3.41506903,  -3.38183774,  -2.97360935,  -2.71849063,\n",
       "          -2.71014439,  -2.63400365,  -2.58480731,  -2.54305655,\n",
       "          -2.4346546 ,  -2.24955501,  -2.17182688,  -2.15413812,\n",
       "          -2.14813586,  -2.13928958,  -1.94287273,  -1.92026785,\n",
       "          -1.7615551 ,  -1.3965527 ,  -1.36265706,  -1.33567079,\n",
       "          -1.27379176,  -1.25945932,  -0.99713312,  -0.97507873,\n",
       "          -0.88741899,  -0.8687609 ,  -0.81009193,  -0.7789151 ,\n",
       "          -0.7652359 ,  -0.46073811,  -0.45480422,  -0.30803373,\n",
       "          -0.30485084,  -0.18688849,  -0.09831676,  -0.04829507,\n",
       "           0.13582955,   0.1424501 ,   0.24823745,   0.33816207,\n",
       "           0.41716166,   0.72088767,   0.79920958,   0.79980943,\n",
       "           0.86262055,   0.89700984,   0.90896373,   1.03955669,\n",
       "           1.0795835 ,   1.09127991,   1.11475835,   1.16074839,\n",
       "           1.41805779,   1.42280211,   1.66623582,   1.86843732,\n",
       "           1.91423579,   2.18761009,   2.38774558,   2.51628734,\n",
       "           2.52141638,   2.56755112,   2.70814209,   2.97832021,\n",
       "           3.02518513,   3.04648827,   3.69359586,   3.77923685,\n",
       "           3.82316522,   3.84039699,   4.0027378 ,   4.13531433,\n",
       "           4.76532752,   4.79596221,   5.17646618,   5.27130225,\n",
       "           5.71217139,   5.858395  ,   5.92020272,   6.18264994,\n",
       "           6.33757609,   6.36882332,   7.53971605,   7.82330815,\n",
       "           7.88922851,   7.89613719,   8.1053528 ,  10.7392138 ,\n",
       "          14.22176512,  14.38824813,  17.6463801 ,  24.04426497])),\n",
       " (5.123565101102322, 0.26245113940052545, 0.9603471335858697))"
      ]
     },
     "execution_count": 42,
     "metadata": {},
     "output_type": "execute_result"
    },
    {
     "data": {
      "image/png": "[encoded data removed]",
      "text/plain": [
       "<Figure size 640x480 with 1 Axes>"
      ]
     },
     "metadata": {},
     "output_type": "display_data"
    }
   ],
   "source": [
    "stats.probplot(residuals, dist='norm', plot=pylab)"
   ]
  },
  {
   "cell_type": "code",
   "execution_count": null,
   "id": "c07b32ec",
   "metadata": {},
   "outputs": [],
   "source": []
  },
  {
   "cell_type": "code",
   "execution_count": null,
   "id": "00acecd5",
   "metadata": {},
   "outputs": [],
   "source": []
  },
  {
   "cell_type": "code",
   "execution_count": null,
   "id": "c563c185",
   "metadata": {},
   "outputs": [],
   "source": []
  },
  {
   "cell_type": "code",
   "execution_count": null,
   "id": "a504a146",
   "metadata": {},
   "outputs": [],
   "source": []
  }
 ],
 "metadata": {
  "kernelspec": {
   "display_name": "Python 3 (ipykernel)",
   "language": "python",
   "name": "python3"
  },
  "language_info": {
   "codemirror_mode": {
    "name": "ipython",
    "version": 3
   },
   "file_extension": ".py",
   "mimetype": "text/x-python",
   "name": "python",
   "nbconvert_exporter": "python",
   "pygments_lexer": "ipython3",
   "version": "3.11.7"
  }
 },
 "nbformat": 4,
 "nbformat_minor": 5
}
