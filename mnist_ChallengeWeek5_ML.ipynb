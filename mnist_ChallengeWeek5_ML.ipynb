{
 "cells": [
  {
   "cell_type": "code",
   "execution_count": 1,
   "id": "f2fd5436",
   "metadata": {},
   "outputs": [],
   "source": [
    "import numpy as np\n",
    "import pandas as pd"
   ]
  },
  {
   "cell_type": "code",
   "execution_count": 2,
   "id": "25eb34d8",
   "metadata": {},
   "outputs": [],
   "source": [
    "from scipy.linalg import svd\n",
    "from numpy.linalg import eigh, norm"
   ]
  },
  {
   "cell_type": "code",
   "execution_count": 49,
   "id": "95b16be3",
   "metadata": {},
   "outputs": [
    {
     "data": {
      "text/html": [
       "<div>\n",
       "<style scoped>\n",
       "    .dataframe tbody tr th:only-of-type {\n",
       "        vertical-align: middle;\n",
       "    }\n",
       "\n",
       "    .dataframe tbody tr th {\n",
       "        vertical-align: top;\n",
       "    }\n",
       "\n",
       "    .dataframe thead th {\n",
       "        text-align: right;\n",
       "    }\n",
       "</style>\n",
       "<table border=\"1\" class=\"dataframe\">\n",
       "  <thead>\n",
       "    <tr style=\"text-align: right;\">\n",
       "      <th></th>\n",
       "      <th>label</th>\n",
       "      <th>1x1</th>\n",
       "      <th>1x2</th>\n",
       "      <th>1x3</th>\n",
       "      <th>1x4</th>\n",
       "      <th>1x5</th>\n",
       "      <th>1x6</th>\n",
       "      <th>1x7</th>\n",
       "      <th>1x8</th>\n",
       "      <th>1x9</th>\n",
       "      <th>...</th>\n",
       "      <th>28x19</th>\n",
       "      <th>28x20</th>\n",
       "      <th>28x21</th>\n",
       "      <th>28x22</th>\n",
       "      <th>28x23</th>\n",
       "      <th>28x24</th>\n",
       "      <th>28x25</th>\n",
       "      <th>28x26</th>\n",
       "      <th>28x27</th>\n",
       "      <th>28x28</th>\n",
       "    </tr>\n",
       "  </thead>\n",
       "  <tbody>\n",
       "    <tr>\n",
       "      <th>0</th>\n",
       "      <td>5</td>\n",
       "      <td>0</td>\n",
       "      <td>0</td>\n",
       "      <td>0</td>\n",
       "      <td>0</td>\n",
       "      <td>0</td>\n",
       "      <td>0</td>\n",
       "      <td>0</td>\n",
       "      <td>0</td>\n",
       "      <td>0</td>\n",
       "      <td>...</td>\n",
       "      <td>0</td>\n",
       "      <td>0</td>\n",
       "      <td>0</td>\n",
       "      <td>0</td>\n",
       "      <td>0</td>\n",
       "      <td>0</td>\n",
       "      <td>0</td>\n",
       "      <td>0</td>\n",
       "      <td>0</td>\n",
       "      <td>0</td>\n",
       "    </tr>\n",
       "    <tr>\n",
       "      <th>1</th>\n",
       "      <td>0</td>\n",
       "      <td>0</td>\n",
       "      <td>0</td>\n",
       "      <td>0</td>\n",
       "      <td>0</td>\n",
       "      <td>0</td>\n",
       "      <td>0</td>\n",
       "      <td>0</td>\n",
       "      <td>0</td>\n",
       "      <td>0</td>\n",
       "      <td>...</td>\n",
       "      <td>0</td>\n",
       "      <td>0</td>\n",
       "      <td>0</td>\n",
       "      <td>0</td>\n",
       "      <td>0</td>\n",
       "      <td>0</td>\n",
       "      <td>0</td>\n",
       "      <td>0</td>\n",
       "      <td>0</td>\n",
       "      <td>0</td>\n",
       "    </tr>\n",
       "    <tr>\n",
       "      <th>2</th>\n",
       "      <td>4</td>\n",
       "      <td>0</td>\n",
       "      <td>0</td>\n",
       "      <td>0</td>\n",
       "      <td>0</td>\n",
       "      <td>0</td>\n",
       "      <td>0</td>\n",
       "      <td>0</td>\n",
       "      <td>0</td>\n",
       "      <td>0</td>\n",
       "      <td>...</td>\n",
       "      <td>0</td>\n",
       "      <td>0</td>\n",
       "      <td>0</td>\n",
       "      <td>0</td>\n",
       "      <td>0</td>\n",
       "      <td>0</td>\n",
       "      <td>0</td>\n",
       "      <td>0</td>\n",
       "      <td>0</td>\n",
       "      <td>0</td>\n",
       "    </tr>\n",
       "    <tr>\n",
       "      <th>3</th>\n",
       "      <td>1</td>\n",
       "      <td>0</td>\n",
       "      <td>0</td>\n",
       "      <td>0</td>\n",
       "      <td>0</td>\n",
       "      <td>0</td>\n",
       "      <td>0</td>\n",
       "      <td>0</td>\n",
       "      <td>0</td>\n",
       "      <td>0</td>\n",
       "      <td>...</td>\n",
       "      <td>0</td>\n",
       "      <td>0</td>\n",
       "      <td>0</td>\n",
       "      <td>0</td>\n",
       "      <td>0</td>\n",
       "      <td>0</td>\n",
       "      <td>0</td>\n",
       "      <td>0</td>\n",
       "      <td>0</td>\n",
       "      <td>0</td>\n",
       "    </tr>\n",
       "    <tr>\n",
       "      <th>4</th>\n",
       "      <td>9</td>\n",
       "      <td>0</td>\n",
       "      <td>0</td>\n",
       "      <td>0</td>\n",
       "      <td>0</td>\n",
       "      <td>0</td>\n",
       "      <td>0</td>\n",
       "      <td>0</td>\n",
       "      <td>0</td>\n",
       "      <td>0</td>\n",
       "      <td>...</td>\n",
       "      <td>0</td>\n",
       "      <td>0</td>\n",
       "      <td>0</td>\n",
       "      <td>0</td>\n",
       "      <td>0</td>\n",
       "      <td>0</td>\n",
       "      <td>0</td>\n",
       "      <td>0</td>\n",
       "      <td>0</td>\n",
       "      <td>0</td>\n",
       "    </tr>\n",
       "    <tr>\n",
       "      <th>...</th>\n",
       "      <td>...</td>\n",
       "      <td>...</td>\n",
       "      <td>...</td>\n",
       "      <td>...</td>\n",
       "      <td>...</td>\n",
       "      <td>...</td>\n",
       "      <td>...</td>\n",
       "      <td>...</td>\n",
       "      <td>...</td>\n",
       "      <td>...</td>\n",
       "      <td>...</td>\n",
       "      <td>...</td>\n",
       "      <td>...</td>\n",
       "      <td>...</td>\n",
       "      <td>...</td>\n",
       "      <td>...</td>\n",
       "      <td>...</td>\n",
       "      <td>...</td>\n",
       "      <td>...</td>\n",
       "      <td>...</td>\n",
       "      <td>...</td>\n",
       "    </tr>\n",
       "    <tr>\n",
       "      <th>59995</th>\n",
       "      <td>8</td>\n",
       "      <td>0</td>\n",
       "      <td>0</td>\n",
       "      <td>0</td>\n",
       "      <td>0</td>\n",
       "      <td>0</td>\n",
       "      <td>0</td>\n",
       "      <td>0</td>\n",
       "      <td>0</td>\n",
       "      <td>0</td>\n",
       "      <td>...</td>\n",
       "      <td>0</td>\n",
       "      <td>0</td>\n",
       "      <td>0</td>\n",
       "      <td>0</td>\n",
       "      <td>0</td>\n",
       "      <td>0</td>\n",
       "      <td>0</td>\n",
       "      <td>0</td>\n",
       "      <td>0</td>\n",
       "      <td>0</td>\n",
       "    </tr>\n",
       "    <tr>\n",
       "      <th>59996</th>\n",
       "      <td>3</td>\n",
       "      <td>0</td>\n",
       "      <td>0</td>\n",
       "      <td>0</td>\n",
       "      <td>0</td>\n",
       "      <td>0</td>\n",
       "      <td>0</td>\n",
       "      <td>0</td>\n",
       "      <td>0</td>\n",
       "      <td>0</td>\n",
       "      <td>...</td>\n",
       "      <td>0</td>\n",
       "      <td>0</td>\n",
       "      <td>0</td>\n",
       "      <td>0</td>\n",
       "      <td>0</td>\n",
       "      <td>0</td>\n",
       "      <td>0</td>\n",
       "      <td>0</td>\n",
       "      <td>0</td>\n",
       "      <td>0</td>\n",
       "    </tr>\n",
       "    <tr>\n",
       "      <th>59997</th>\n",
       "      <td>5</td>\n",
       "      <td>0</td>\n",
       "      <td>0</td>\n",
       "      <td>0</td>\n",
       "      <td>0</td>\n",
       "      <td>0</td>\n",
       "      <td>0</td>\n",
       "      <td>0</td>\n",
       "      <td>0</td>\n",
       "      <td>0</td>\n",
       "      <td>...</td>\n",
       "      <td>0</td>\n",
       "      <td>0</td>\n",
       "      <td>0</td>\n",
       "      <td>0</td>\n",
       "      <td>0</td>\n",
       "      <td>0</td>\n",
       "      <td>0</td>\n",
       "      <td>0</td>\n",
       "      <td>0</td>\n",
       "      <td>0</td>\n",
       "    </tr>\n",
       "    <tr>\n",
       "      <th>59998</th>\n",
       "      <td>6</td>\n",
       "      <td>0</td>\n",
       "      <td>0</td>\n",
       "      <td>0</td>\n",
       "      <td>0</td>\n",
       "      <td>0</td>\n",
       "      <td>0</td>\n",
       "      <td>0</td>\n",
       "      <td>0</td>\n",
       "      <td>0</td>\n",
       "      <td>...</td>\n",
       "      <td>0</td>\n",
       "      <td>0</td>\n",
       "      <td>0</td>\n",
       "      <td>0</td>\n",
       "      <td>0</td>\n",
       "      <td>0</td>\n",
       "      <td>0</td>\n",
       "      <td>0</td>\n",
       "      <td>0</td>\n",
       "      <td>0</td>\n",
       "    </tr>\n",
       "    <tr>\n",
       "      <th>59999</th>\n",
       "      <td>8</td>\n",
       "      <td>0</td>\n",
       "      <td>0</td>\n",
       "      <td>0</td>\n",
       "      <td>0</td>\n",
       "      <td>0</td>\n",
       "      <td>0</td>\n",
       "      <td>0</td>\n",
       "      <td>0</td>\n",
       "      <td>0</td>\n",
       "      <td>...</td>\n",
       "      <td>0</td>\n",
       "      <td>0</td>\n",
       "      <td>0</td>\n",
       "      <td>0</td>\n",
       "      <td>0</td>\n",
       "      <td>0</td>\n",
       "      <td>0</td>\n",
       "      <td>0</td>\n",
       "      <td>0</td>\n",
       "      <td>0</td>\n",
       "    </tr>\n",
       "  </tbody>\n",
       "</table>\n",
       "<p>60000 rows × 785 columns</p>\n",
       "</div>"
      ],
      "text/plain": [
       "       label  1x1  1x2  1x3  1x4  1x5  1x6  1x7  1x8  1x9  ...  28x19  28x20  \\\n",
       "0          5    0    0    0    0    0    0    0    0    0  ...      0      0   \n",
       "1          0    0    0    0    0    0    0    0    0    0  ...      0      0   \n",
       "2          4    0    0    0    0    0    0    0    0    0  ...      0      0   \n",
       "3          1    0    0    0    0    0    0    0    0    0  ...      0      0   \n",
       "4          9    0    0    0    0    0    0    0    0    0  ...      0      0   \n",
       "...      ...  ...  ...  ...  ...  ...  ...  ...  ...  ...  ...    ...    ...   \n",
       "59995      8    0    0    0    0    0    0    0    0    0  ...      0      0   \n",
       "59996      3    0    0    0    0    0    0    0    0    0  ...      0      0   \n",
       "59997      5    0    0    0    0    0    0    0    0    0  ...      0      0   \n",
       "59998      6    0    0    0    0    0    0    0    0    0  ...      0      0   \n",
       "59999      8    0    0    0    0    0    0    0    0    0  ...      0      0   \n",
       "\n",
       "       28x21  28x22  28x23  28x24  28x25  28x26  28x27  28x28  \n",
       "0          0      0      0      0      0      0      0      0  \n",
       "1          0      0      0      0      0      0      0      0  \n",
       "2          0      0      0      0      0      0      0      0  \n",
       "3          0      0      0      0      0      0      0      0  \n",
       "4          0      0      0      0      0      0      0      0  \n",
       "...      ...    ...    ...    ...    ...    ...    ...    ...  \n",
       "59995      0      0      0      0      0      0      0      0  \n",
       "59996      0      0      0      0      0      0      0      0  \n",
       "59997      0      0      0      0      0      0      0      0  \n",
       "59998      0      0      0      0      0      0      0      0  \n",
       "59999      0      0      0      0      0      0      0      0  \n",
       "\n",
       "[60000 rows x 785 columns]"
      ]
     },
     "execution_count": 49,
     "metadata": {},
     "output_type": "execute_result"
    }
   ],
   "source": [
    "data=pd.read_csv(r\"C:\\Users\\Kyle\\Desktop\\Middlesex uni\\Machine Learning\\Week5\\mnist.csv\")    # Read the dataset from the folder in computer\n",
    "data"
   ]
  },
  {
   "cell_type": "code",
   "execution_count": 61,
   "id": "fd3c89f0",
   "metadata": {},
   "outputs": [
    {
     "data": {
      "text/html": [
       "<div>\n",
       "<style scoped>\n",
       "    .dataframe tbody tr th:only-of-type {\n",
       "        vertical-align: middle;\n",
       "    }\n",
       "\n",
       "    .dataframe tbody tr th {\n",
       "        vertical-align: top;\n",
       "    }\n",
       "\n",
       "    .dataframe thead th {\n",
       "        text-align: right;\n",
       "    }\n",
       "</style>\n",
       "<table border=\"1\" class=\"dataframe\">\n",
       "  <thead>\n",
       "    <tr style=\"text-align: right;\">\n",
       "      <th></th>\n",
       "      <th>label</th>\n",
       "      <th>1x1</th>\n",
       "      <th>1x2</th>\n",
       "      <th>1x3</th>\n",
       "      <th>1x4</th>\n",
       "      <th>1x5</th>\n",
       "      <th>1x6</th>\n",
       "      <th>1x7</th>\n",
       "      <th>1x8</th>\n",
       "      <th>1x9</th>\n",
       "      <th>...</th>\n",
       "      <th>28x19</th>\n",
       "      <th>28x20</th>\n",
       "      <th>28x21</th>\n",
       "      <th>28x22</th>\n",
       "      <th>28x23</th>\n",
       "      <th>28x24</th>\n",
       "      <th>28x25</th>\n",
       "      <th>28x26</th>\n",
       "      <th>28x27</th>\n",
       "      <th>28x28</th>\n",
       "    </tr>\n",
       "  </thead>\n",
       "  <tbody>\n",
       "    <tr>\n",
       "      <th>15297</th>\n",
       "      <td>3</td>\n",
       "      <td>0</td>\n",
       "      <td>0</td>\n",
       "      <td>0</td>\n",
       "      <td>0</td>\n",
       "      <td>0</td>\n",
       "      <td>0</td>\n",
       "      <td>0</td>\n",
       "      <td>0</td>\n",
       "      <td>0</td>\n",
       "      <td>...</td>\n",
       "      <td>0</td>\n",
       "      <td>0</td>\n",
       "      <td>0</td>\n",
       "      <td>0</td>\n",
       "      <td>0</td>\n",
       "      <td>0</td>\n",
       "      <td>0</td>\n",
       "      <td>0</td>\n",
       "      <td>0</td>\n",
       "      <td>0</td>\n",
       "    </tr>\n",
       "  </tbody>\n",
       "</table>\n",
       "<p>1 rows × 785 columns</p>\n",
       "</div>"
      ],
      "text/plain": [
       "       label  1x1  1x2  1x3  1x4  1x5  1x6  1x7  1x8  1x9  ...  28x19  28x20  \\\n",
       "15297      3    0    0    0    0    0    0    0    0    0  ...      0      0   \n",
       "\n",
       "       28x21  28x22  28x23  28x24  28x25  28x26  28x27  28x28  \n",
       "15297      0      0      0      0      0      0      0      0  \n",
       "\n",
       "[1 rows x 785 columns]"
      ]
     },
     "execution_count": 61,
     "metadata": {},
     "output_type": "execute_result"
    }
   ],
   "source": [
    "data.sample(n=1)"
   ]
  },
  {
   "cell_type": "code",
   "execution_count": 53,
   "id": "12cb30fc",
   "metadata": {},
   "outputs": [
    {
     "data": {
      "text/plain": [
       "<matplotlib.image.AxesImage at 0x270dbf6c150>"
      ]
     },
     "execution_count": 53,
     "metadata": {},
     "output_type": "execute_result"
    },
    {
     "data": {
      "image/png": "[encoded data removed]",
      "text/plain": [
       "<Figure size 640x480 with 1 Axes>"
      ]
     },
     "metadata": {},
     "output_type": "display_data"
    }
   ],
   "source": [
    "plt.imshow(data.iloc[26419,1:].values.reshape(28,28))"
   ]
  },
  {
   "cell_type": "code",
   "execution_count": 58,
   "id": "e8a5bbec",
   "metadata": {},
   "outputs": [
    {
     "data": {
      "text/plain": [
       "<matplotlib.image.AxesImage at 0x270dbd61e90>"
      ]
     },
     "execution_count": 58,
     "metadata": {},
     "output_type": "execute_result"
    },
    {
     "data": {
      "image/png": "[encoded data removed]",
      "text/plain": [
       "<Figure size 640x480 with 1 Axes>"
      ]
     },
     "metadata": {},
     "output_type": "display_data"
    }
   ],
   "source": [
    "plt.imshow(data.iloc[5,1:].values.reshape(28,28))"
   ]
  },
  {
   "cell_type": "code",
   "execution_count": null,
   "id": "69ae145a",
   "metadata": {},
   "outputs": [],
   "source": []
  },
  {
   "cell_type": "code",
   "execution_count": 4,
   "id": "c1ad4fcd",
   "metadata": {},
   "outputs": [],
   "source": [
    "U, S, Vt = np.linalg.svd(data, full_matrices=False)   #This function, svd, computes the Singular Value Decomposition of the input matrix data SVD function returns three arrays U,S,Vt(Overall, this line of code computes the SVD of the data matrix, providing the necessary components to perform dimensionality reduction or other analyses)"
   ]
  },
  {
   "cell_type": "code",
   "execution_count": 5,
   "id": "359a7f75",
   "metadata": {},
   "outputs": [
    {
     "data": {
      "text/plain": [
       "array([[-4.29841626e-03,  3.62493036e-04,  2.55192730e-03, ...,\n",
       "        -5.28454383e-04, -5.78890514e-03, -7.78291947e-04],\n",
       "       [-4.54857219e-03, -7.14880936e-03,  2.55014122e-03, ...,\n",
       "         0.00000000e+00,  0.00000000e+00,  8.66854255e-01],\n",
       "       [-2.07737432e-03, -2.57879532e-03, -3.12060128e-03, ...,\n",
       "        -1.61925105e-06, -1.77379373e-05,  2.99714635e-01],\n",
       "       ...,\n",
       "       [-3.24630156e-03,  1.08603979e-03, -1.33811872e-03, ...,\n",
       "         1.16230441e-04,  3.09538394e-04, -3.55122546e-05],\n",
       "       [-2.90199917e-03, -2.50421949e-03,  1.22677669e-04, ...,\n",
       "        -3.50669158e-05, -4.63444514e-04, -1.14894637e-03],\n",
       "       [-3.03802396e-03,  1.02166026e-03,  1.77264594e-04, ...,\n",
       "        -7.29603675e-05, -3.77596984e-04, -1.71748656e-04]])"
      ]
     },
     "execution_count": 5,
     "metadata": {},
     "output_type": "execute_result"
    }
   ],
   "source": [
    "U                                                    #This is the left singular vectors matrix and It contains the eigenvectors "
   ]
  },
  {
   "cell_type": "code",
   "execution_count": 6,
   "id": "7cbe0cf6",
   "metadata": {},
   "outputs": [
    {
     "data": {
      "text/plain": [
       "array([3.85504139e+05, 1.30874643e+05, 1.20812026e+05, 1.12183413e+05,\n",
       "       1.04260893e+05, 9.42606927e+04, 8.65145265e+04, 7.74167253e+04,\n",
       "       7.69581859e+04, 6.97232596e+04, 6.61272776e+04, 6.49572882e+04,\n",
       "       5.94153362e+04, 5.92384372e+04, 5.72089876e+04, 5.53554533e+04,\n",
       "       5.30100594e+04, 5.16275974e+04, 4.94663659e+04, 4.86967111e+04,\n",
       "       4.68335936e+04, 4.55128331e+04, 4.43122290e+04, 4.33773258e+04,\n",
       "       4.26497202e+04, 4.15688849e+04, 4.09293116e+04, 4.02216114e+04,\n",
       "       3.91414914e+04, 3.77017652e+04, 3.68035262e+04, 3.65201006e+04,\n",
       "       3.52185424e+04, 3.48565881e+04, 3.42463962e+04, 3.34621632e+04,\n",
       "       3.22562904e+04, 3.16794808e+04, 3.14709157e+04, 3.11819105e+04,\n",
       "       3.06713063e+04, 3.02531573e+04, 2.94011093e+04, 2.86237256e+04,\n",
       "       2.81603361e+04, 2.77819976e+04, 2.72923898e+04, 2.68999376e+04,\n",
       "       2.64777498e+04, 2.57800328e+04, 2.56764402e+04, 2.53844283e+04,\n",
       "       2.46774450e+04, 2.45230813e+04, 2.41802090e+04, 2.36453593e+04,\n",
       "       2.35832289e+04, 2.30725707e+04, 2.28491078e+04, 2.24403522e+04,\n",
       "       2.22635903e+04, 2.21896040e+04, 2.17723678e+04, 2.13500678e+04,\n",
       "       2.09694152e+04, 2.06810465e+04, 2.04433962e+04, 2.01381326e+04,\n",
       "       1.99179288e+04, 1.96996863e+04, 1.96123830e+04, 1.93813042e+04,\n",
       "       1.91117592e+04, 1.89705267e+04, 1.84657731e+04, 1.83663673e+04,\n",
       "       1.82279928e+04, 1.78690420e+04, 1.74288805e+04, 1.71616875e+04,\n",
       "       1.70967183e+04, 1.70566806e+04, 1.69808791e+04, 1.67212228e+04,\n",
       "       1.65983363e+04, 1.65092411e+04, 1.63892983e+04, 1.60957128e+04,\n",
       "       1.59166750e+04, 1.58211450e+04, 1.55310787e+04, 1.53767699e+04,\n",
       "       1.52736137e+04, 1.51035068e+04, 1.49792420e+04, 1.48321555e+04,\n",
       "       1.46403848e+04, 1.46321647e+04, 1.44370547e+04, 1.43829639e+04,\n",
       "       1.42283535e+04, 1.39833788e+04, 1.39246518e+04, 1.37297739e+04,\n",
       "       1.36662548e+04, 1.35928217e+04, 1.33423074e+04, 1.32775227e+04,\n",
       "       1.31901958e+04, 1.30078391e+04, 1.27838176e+04, 1.27253699e+04,\n",
       "       1.27136897e+04, 1.25897163e+04, 1.25377349e+04, 1.24569524e+04,\n",
       "       1.23110239e+04, 1.22317264e+04, 1.21670792e+04, 1.20584674e+04,\n",
       "       1.19754287e+04, 1.19428819e+04, 1.18558605e+04, 1.17765450e+04,\n",
       "       1.17137305e+04, 1.15236135e+04, 1.14370279e+04, 1.14005689e+04,\n",
       "       1.13429842e+04, 1.11596451e+04, 1.11493913e+04, 1.10584667e+04,\n",
       "       1.10016504e+04, 1.09862352e+04, 1.09355393e+04, 1.08956411e+04,\n",
       "       1.07846655e+04, 1.06839285e+04, 1.04933646e+04, 1.04034978e+04,\n",
       "       1.03941699e+04, 1.02466838e+04, 1.01717662e+04, 1.01526389e+04,\n",
       "       1.01312142e+04, 1.00507307e+04, 1.00052423e+04, 9.96677955e+03,\n",
       "       9.87529502e+03, 9.81750455e+03, 9.79741587e+03, 9.76266947e+03,\n",
       "       9.72017117e+03, 9.62529125e+03, 9.60898468e+03, 9.54321235e+03,\n",
       "       9.47777395e+03, 9.37805604e+03, 9.35509294e+03, 9.31806733e+03,\n",
       "       9.24665890e+03, 9.17975499e+03, 9.08032095e+03, 9.04708641e+03,\n",
       "       9.00451536e+03, 8.96419900e+03, 8.91180028e+03, 8.84201198e+03,\n",
       "       8.83136077e+03, 8.77443952e+03, 8.71848866e+03, 8.66722370e+03,\n",
       "       8.65099795e+03, 8.60403460e+03, 8.54126879e+03, 8.52130080e+03,\n",
       "       8.45361310e+03, 8.43633428e+03, 8.38115874e+03, 8.33679740e+03,\n",
       "       8.33226339e+03, 8.24214070e+03, 8.22719700e+03, 8.18809258e+03,\n",
       "       8.15071876e+03, 8.12947626e+03, 8.08027646e+03, 8.06483737e+03,\n",
       "       7.99883400e+03, 7.97964840e+03, 7.93540613e+03, 7.90040207e+03,\n",
       "       7.88772316e+03, 7.87711929e+03, 7.81489840e+03, 7.79996848e+03,\n",
       "       7.76976311e+03, 7.76046170e+03, 7.69368225e+03, 7.64860045e+03,\n",
       "       7.61592824e+03, 7.57733922e+03, 7.53166542e+03, 7.48673364e+03,\n",
       "       7.44486911e+03, 7.42095023e+03, 7.38642924e+03, 7.37397405e+03,\n",
       "       7.33977187e+03, 7.30577404e+03, 7.29471292e+03, 7.26985289e+03,\n",
       "       7.23923549e+03, 7.21260444e+03, 7.20430736e+03, 7.16592808e+03,\n",
       "       7.15005598e+03, 7.11588111e+03, 7.08444080e+03, 7.05360751e+03,\n",
       "       7.04052015e+03, 7.03285310e+03, 7.00171011e+03, 6.98067393e+03,\n",
       "       6.91688758e+03, 6.89797045e+03, 6.88075696e+03, 6.84974648e+03,\n",
       "       6.84238251e+03, 6.76972346e+03, 6.75564371e+03, 6.73449719e+03,\n",
       "       6.69459783e+03, 6.67590466e+03, 6.65445778e+03, 6.63889477e+03,\n",
       "       6.61731517e+03, 6.57838423e+03, 6.56913226e+03, 6.52483033e+03,\n",
       "       6.48946964e+03, 6.48229942e+03, 6.43521918e+03, 6.43041134e+03,\n",
       "       6.39805713e+03, 6.37675448e+03, 6.34703493e+03, 6.31390813e+03,\n",
       "       6.30003243e+03, 6.28121053e+03, 6.27815900e+03, 6.23656227e+03,\n",
       "       6.21904272e+03, 6.19216921e+03, 6.18346031e+03, 6.16261053e+03,\n",
       "       6.14746923e+03, 6.13798623e+03, 6.11692999e+03, 6.08284942e+03,\n",
       "       6.04360847e+03, 6.02878251e+03, 6.01637583e+03, 5.98110866e+03,\n",
       "       5.97312410e+03, 5.95967861e+03, 5.93761904e+03, 5.91442388e+03,\n",
       "       5.90294767e+03, 5.87883124e+03, 5.85990890e+03, 5.85156264e+03,\n",
       "       5.81210115e+03, 5.79909537e+03, 5.78470586e+03, 5.77101493e+03,\n",
       "       5.75310038e+03, 5.73419417e+03, 5.71612941e+03, 5.68931996e+03,\n",
       "       5.67839118e+03, 5.64520567e+03, 5.62492632e+03, 5.61134302e+03,\n",
       "       5.59302337e+03, 5.55571380e+03, 5.54956372e+03, 5.52194955e+03,\n",
       "       5.51187546e+03, 5.48264646e+03, 5.45490464e+03, 5.42908641e+03,\n",
       "       5.41891922e+03, 5.40606848e+03, 5.39989796e+03, 5.37589797e+03,\n",
       "       5.33264436e+03, 5.32755121e+03, 5.30558234e+03, 5.28885932e+03,\n",
       "       5.28527861e+03, 5.26047251e+03, 5.24303527e+03, 5.21768325e+03,\n",
       "       5.18530030e+03, 5.17502495e+03, 5.15458729e+03, 5.13360427e+03,\n",
       "       5.12165339e+03, 5.11589967e+03, 5.09810691e+03, 5.08840858e+03,\n",
       "       5.06546189e+03, 5.04173748e+03, 5.02236714e+03, 5.00090690e+03,\n",
       "       4.98965373e+03, 4.96776229e+03, 4.95646681e+03, 4.94662689e+03,\n",
       "       4.92413363e+03, 4.90745612e+03, 4.89529683e+03, 4.88708381e+03,\n",
       "       4.85401583e+03, 4.84719318e+03, 4.80865904e+03, 4.78482642e+03,\n",
       "       4.76857950e+03, 4.76618741e+03, 4.75821795e+03, 4.73494478e+03,\n",
       "       4.72079224e+03, 4.70462228e+03, 4.69198675e+03, 4.67418925e+03,\n",
       "       4.66818728e+03, 4.64887081e+03, 4.61242470e+03, 4.58624575e+03,\n",
       "       4.58167085e+03, 4.55471115e+03, 4.54163720e+03, 4.52651516e+03,\n",
       "       4.52126406e+03, 4.49278781e+03, 4.48062578e+03, 4.46310532e+03,\n",
       "       4.43292103e+03, 4.41007475e+03, 4.39287309e+03, 4.39088627e+03,\n",
       "       4.36194930e+03, 4.34052769e+03, 4.33609400e+03, 4.31892993e+03,\n",
       "       4.30457810e+03, 4.28771011e+03, 4.28253021e+03, 4.26099334e+03,\n",
       "       4.23850119e+03, 4.21361571e+03, 4.19570665e+03, 4.18546655e+03,\n",
       "       4.17171609e+03, 4.13982009e+03, 4.13149427e+03, 4.11964665e+03,\n",
       "       4.10500256e+03, 4.08428352e+03, 4.07952767e+03, 4.04687364e+03,\n",
       "       4.04324380e+03, 4.02175777e+03, 4.00721650e+03, 3.99086264e+03,\n",
       "       3.96933214e+03, 3.94884530e+03, 3.91767164e+03, 3.89755854e+03,\n",
       "       3.89021910e+03, 3.87024100e+03, 3.86756835e+03, 3.85030261e+03,\n",
       "       3.83287427e+03, 3.81657566e+03, 3.78526873e+03, 3.77416694e+03,\n",
       "       3.74857793e+03, 3.73837100e+03, 3.71420339e+03, 3.69131836e+03,\n",
       "       3.66344786e+03, 3.63414729e+03, 3.62018261e+03, 3.61288717e+03,\n",
       "       3.57244357e+03, 3.55065362e+03, 3.52250714e+03, 3.51120719e+03,\n",
       "       3.49505234e+03, 3.47582735e+03, 3.47257747e+03, 3.43587753e+03,\n",
       "       3.41644649e+03, 3.40605006e+03, 3.38251447e+03, 3.36115825e+03,\n",
       "       3.35594727e+03, 3.34748838e+03, 3.31246938e+03, 3.29427702e+03,\n",
       "       3.28776979e+03, 3.27683396e+03, 3.26617815e+03, 3.24001944e+03,\n",
       "       3.21929597e+03, 3.19926797e+03, 3.17702839e+03, 3.16513666e+03,\n",
       "       3.14039169e+03, 3.11626347e+03, 3.09813167e+03, 3.09100147e+03,\n",
       "       3.06277278e+03, 3.03947041e+03, 2.99870695e+03, 2.97179519e+03,\n",
       "       2.96056747e+03, 2.95279881e+03, 2.94543870e+03, 2.93182570e+03,\n",
       "       2.91781386e+03, 2.89867834e+03, 2.87877967e+03, 2.81745540e+03,\n",
       "       2.80534033e+03, 2.80108744e+03, 2.79163381e+03, 2.77124390e+03,\n",
       "       2.76162922e+03, 2.74352066e+03, 2.71240012e+03, 2.69691928e+03,\n",
       "       2.69294916e+03, 2.67839581e+03, 2.66598210e+03, 2.65949991e+03,\n",
       "       2.62130281e+03, 2.60542678e+03, 2.57361359e+03, 2.56332508e+03,\n",
       "       2.55123132e+03, 2.52580760e+03, 2.50141050e+03, 2.49078532e+03,\n",
       "       2.48031480e+03, 2.45140969e+03, 2.43682261e+03, 2.42215833e+03,\n",
       "       2.40279211e+03, 2.39598862e+03, 2.37927068e+03, 2.35448423e+03,\n",
       "       2.30257991e+03, 2.28096801e+03, 2.27523768e+03, 2.26005372e+03,\n",
       "       2.25365434e+03, 2.23838462e+03, 2.23645413e+03, 2.23342917e+03,\n",
       "       2.20919959e+03, 2.19170592e+03, 2.18539821e+03, 2.15225332e+03,\n",
       "       2.14496414e+03, 2.13305756e+03, 2.09971822e+03, 2.09301022e+03,\n",
       "       2.08182821e+03, 2.07134220e+03, 2.04737053e+03, 2.03288828e+03,\n",
       "       2.02145537e+03, 2.00920774e+03, 2.00366677e+03, 1.97504055e+03,\n",
       "       1.94814729e+03, 1.93421435e+03, 1.92971730e+03, 1.92212983e+03,\n",
       "       1.90220397e+03, 1.89245431e+03, 1.83442027e+03, 1.82399904e+03,\n",
       "       1.82036687e+03, 1.80877801e+03, 1.78793481e+03, 1.76860710e+03,\n",
       "       1.76634229e+03, 1.75550258e+03, 1.74238888e+03, 1.73175707e+03,\n",
       "       1.71838825e+03, 1.70773305e+03, 1.69479337e+03, 1.68424526e+03,\n",
       "       1.67724199e+03, 1.65622332e+03, 1.64187175e+03, 1.60684667e+03,\n",
       "       1.59592555e+03, 1.58330152e+03, 1.57124618e+03, 1.56540656e+03,\n",
       "       1.55646765e+03, 1.55341841e+03, 1.52997355e+03, 1.52577661e+03,\n",
       "       1.52100932e+03, 1.50443491e+03, 1.49994193e+03, 1.47461347e+03,\n",
       "       1.47236976e+03, 1.45091010e+03, 1.43589878e+03, 1.40346051e+03,\n",
       "       1.38855300e+03, 1.38024936e+03, 1.37739713e+03, 1.35091447e+03,\n",
       "       1.34625612e+03, 1.32950975e+03, 1.29566103e+03, 1.28047607e+03,\n",
       "       1.27215454e+03, 1.26136411e+03, 1.25395358e+03, 1.24849997e+03,\n",
       "       1.24474752e+03, 1.23116911e+03, 1.22285335e+03, 1.21266039e+03,\n",
       "       1.19668481e+03, 1.18976058e+03, 1.17541213e+03, 1.17011914e+03,\n",
       "       1.15971227e+03, 1.15367403e+03, 1.12387319e+03, 1.10428572e+03,\n",
       "       1.08544039e+03, 1.08073405e+03, 1.06898773e+03, 1.04900583e+03,\n",
       "       1.04126387e+03, 1.03251911e+03, 1.01813747e+03, 1.01372484e+03,\n",
       "       1.00731904e+03, 1.00406538e+03, 9.94787502e+02, 9.82881977e+02,\n",
       "       9.75214967e+02, 9.67982571e+02, 9.29406190e+02, 9.27834501e+02,\n",
       "       9.08551351e+02, 9.07276540e+02, 9.00868421e+02, 8.84154491e+02,\n",
       "       8.81918967e+02, 8.25432383e+02, 8.16147350e+02, 8.12988293e+02,\n",
       "       8.08252731e+02, 8.01146970e+02, 7.96255180e+02, 7.88953893e+02,\n",
       "       7.87186089e+02, 7.81724981e+02, 7.79783934e+02, 7.75636732e+02,\n",
       "       7.59454756e+02, 7.35364795e+02, 7.24251042e+02, 6.97014045e+02,\n",
       "       6.90180183e+02, 6.82305736e+02, 6.79550544e+02, 6.73912473e+02,\n",
       "       6.65252442e+02, 6.64516977e+02, 6.57583528e+02, 6.48079331e+02,\n",
       "       6.21775517e+02, 6.19409155e+02, 6.17260272e+02, 6.15968918e+02,\n",
       "       6.08604124e+02, 6.00738678e+02, 5.76998352e+02, 5.74670651e+02,\n",
       "       5.56139427e+02, 5.48311418e+02, 5.39199506e+02, 5.34412375e+02,\n",
       "       5.20743087e+02, 5.17784600e+02, 5.14106169e+02, 5.06451427e+02,\n",
       "       4.79834204e+02, 4.73184360e+02, 4.68713991e+02, 4.64271993e+02,\n",
       "       4.62631604e+02, 4.61514944e+02, 4.49228091e+02, 4.45861094e+02,\n",
       "       4.38447453e+02, 4.34020932e+02, 4.32574010e+02, 4.29941461e+02,\n",
       "       4.24330821e+02, 4.13967760e+02, 3.99567275e+02, 3.91459660e+02,\n",
       "       3.85336197e+02, 3.70273839e+02, 3.68387186e+02, 3.61958214e+02,\n",
       "       3.58712452e+02, 3.58680762e+02, 3.48652172e+02, 3.46270986e+02,\n",
       "       3.41493962e+02, 3.39696295e+02, 3.29648271e+02, 3.27778413e+02,\n",
       "       3.13402170e+02, 3.11488004e+02, 3.09659111e+02, 2.98199771e+02,\n",
       "       2.94077736e+02, 2.89157927e+02, 2.81011072e+02, 2.72937367e+02,\n",
       "       2.70865711e+02, 2.53461487e+02, 2.47104280e+02, 2.39315287e+02,\n",
       "       2.36838812e+02, 2.30140769e+02, 2.29275769e+02, 2.22788065e+02,\n",
       "       2.20195945e+02, 2.17486736e+02, 2.15305145e+02, 2.10300011e+02,\n",
       "       2.04117003e+02, 2.03560314e+02, 2.00876878e+02, 1.90672201e+02,\n",
       "       1.87677915e+02, 1.76239770e+02, 1.75504426e+02, 1.67626690e+02,\n",
       "       1.66831692e+02, 1.62301108e+02, 1.48392649e+02, 1.39417484e+02,\n",
       "       1.34416716e+02, 1.30876742e+02, 1.29619274e+02, 1.18698574e+02,\n",
       "       1.17604754e+02, 1.14931863e+02, 1.10714820e+02, 1.06754692e+02,\n",
       "       9.79196171e+01, 9.72073213e+01, 9.14457340e+01, 8.99797951e+01,\n",
       "       8.60982969e+01, 8.56884610e+01, 8.16404852e+01, 7.96967775e+01,\n",
       "       7.86183093e+01, 7.71128071e+01, 7.03007089e+01, 6.22642591e+01,\n",
       "       6.03847924e+01, 5.84879547e+01, 5.77360013e+01, 4.78916883e+01,\n",
       "       4.60454847e+01, 4.55775082e+01, 4.21696442e+01, 4.04598874e+01,\n",
       "       3.77192371e+01, 3.76343346e+01, 3.34279534e+01, 3.19612728e+01,\n",
       "       2.75817533e+01, 2.49260090e+01, 1.99777665e+01, 1.33575966e+01,\n",
       "       1.20699091e+01, 1.19333101e+01, 7.22122568e+00, 6.97078644e+00,\n",
       "       1.77440995e+00, 1.71198229e-10, 3.18097509e-11, 3.18097509e-11,\n",
       "       3.18097509e-11, 3.18097509e-11, 3.18097509e-11, 3.18097509e-11,\n",
       "       3.18097509e-11, 3.18097509e-11, 3.18097509e-11, 3.18097509e-11,\n",
       "       3.18097509e-11, 3.18097509e-11, 3.18097509e-11, 3.18097509e-11,\n",
       "       3.18097509e-11, 3.18097509e-11, 3.18097509e-11, 3.18097509e-11,\n",
       "       3.18097509e-11, 3.18097509e-11, 3.18097509e-11, 3.18097509e-11,\n",
       "       3.18097509e-11, 3.18097509e-11, 3.18097509e-11, 3.18097509e-11,\n",
       "       3.18097509e-11, 3.18097509e-11, 3.18097509e-11, 3.18097509e-11,\n",
       "       3.18097509e-11, 3.18097509e-11, 3.18097509e-11, 3.18097509e-11,\n",
       "       3.18097509e-11, 3.18097509e-11, 3.18097509e-11, 3.18097509e-11,\n",
       "       3.18097509e-11, 3.18097509e-11, 3.18097509e-11, 3.18097509e-11,\n",
       "       3.18097509e-11, 3.18097509e-11, 3.18097509e-11, 3.18097509e-11,\n",
       "       3.18097509e-11, 3.18097509e-11, 3.18097509e-11, 3.18097509e-11,\n",
       "       3.18097509e-11, 3.18097509e-11, 3.18097509e-11, 3.18097509e-11,\n",
       "       3.18097509e-11, 3.18097509e-11, 3.18097509e-11, 3.18097509e-11,\n",
       "       3.18097509e-11, 3.18097509e-11, 3.18097509e-11, 3.18097509e-11,\n",
       "       3.18097509e-11, 3.18097509e-11, 3.18097509e-11, 3.18097509e-11,\n",
       "       3.18097509e-11, 3.18097509e-11, 3.18097509e-11, 3.18097509e-11,\n",
       "       1.79249450e-11])"
      ]
     },
     "execution_count": 6,
     "metadata": {},
     "output_type": "execute_result"
    }
   ],
   "source": [
    "S                                               #This is a 1D array containing the singular values of the data"
   ]
  },
  {
   "cell_type": "code",
   "execution_count": 7,
   "id": "f08a62ed",
   "metadata": {},
   "outputs": [
    {
     "data": {
      "text/plain": [
       "array([[-2.75605352e-03,  0.00000000e+00,  0.00000000e+00, ...,\n",
       "         0.00000000e+00,  0.00000000e+00,  0.00000000e+00],\n",
       "       [ 2.12002877e-03, -2.77555756e-17, -1.11022302e-16, ...,\n",
       "         0.00000000e+00,  0.00000000e+00,  0.00000000e+00],\n",
       "       [-2.94110277e-03, -1.38777878e-17, -1.11022302e-16, ...,\n",
       "         0.00000000e+00,  0.00000000e+00,  0.00000000e+00],\n",
       "       ...,\n",
       "       [ 0.00000000e+00,  0.00000000e+00,  0.00000000e+00, ...,\n",
       "         0.00000000e+00,  1.00000000e+00,  0.00000000e+00],\n",
       "       [ 0.00000000e+00,  0.00000000e+00,  0.00000000e+00, ...,\n",
       "         0.00000000e+00,  0.00000000e+00,  1.00000000e+00],\n",
       "       [ 0.00000000e+00,  1.95759178e-02,  1.26126725e-01, ...,\n",
       "         0.00000000e+00,  0.00000000e+00,  0.00000000e+00]])"
      ]
     },
     "execution_count": 7,
     "metadata": {},
     "output_type": "execute_result"
    }
   ],
   "source": [
    "Vt                                           #This is the transpose of the right singular vectors matrix."
   ]
  },
  {
   "cell_type": "code",
   "execution_count": 8,
   "id": "6d507dd4",
   "metadata": {},
   "outputs": [
    {
     "data": {
      "text/plain": [
       "(60000, 785)"
      ]
     },
     "execution_count": 8,
     "metadata": {},
     "output_type": "execute_result"
    }
   ],
   "source": [
    "U.shape       #gives the information about the dimensions of the left singular vectors matrix U"
   ]
  },
  {
   "cell_type": "code",
   "execution_count": 9,
   "id": "c6de9d8e",
   "metadata": {},
   "outputs": [
    {
     "data": {
      "text/plain": [
       "(785,)"
      ]
     },
     "execution_count": 9,
     "metadata": {},
     "output_type": "execute_result"
    }
   ],
   "source": [
    "S.shape     #provides information about the number of singular values obtained from the SVD"
   ]
  },
  {
   "cell_type": "code",
   "execution_count": 10,
   "id": "5cd0955a",
   "metadata": {},
   "outputs": [
    {
     "data": {
      "text/plain": [
       "(785, 785)"
      ]
     },
     "execution_count": 10,
     "metadata": {},
     "output_type": "execute_result"
    }
   ],
   "source": [
    "Vt.shape   # provides information about the dimensions of the right singular vectors matrix"
   ]
  },
  {
   "cell_type": "code",
   "execution_count": 11,
   "id": "6f558589",
   "metadata": {},
   "outputs": [
    {
     "data": {
      "text/plain": [
       "(60000, 785)"
      ]
     },
     "execution_count": 11,
     "metadata": {},
     "output_type": "execute_result"
    }
   ],
   "source": [
    "data.shape"
   ]
  },
  {
   "cell_type": "code",
   "execution_count": 12,
   "id": "b2d669be",
   "metadata": {},
   "outputs": [],
   "source": [
    "U_reduced = U[100, :100]       #This line extracts the first 100 rows and first 100 columns from the matrix U, containing the left singular vectors.\n",
    "Vt_reduced = Vt[:100, :]       #extracts the first 100 rows from the matrix Vt and specifies the slicing operation\n",
    "S_reduced=S[:100]"
   ]
  },
  {
   "cell_type": "code",
   "execution_count": 13,
   "id": "ba446e77",
   "metadata": {},
   "outputs": [
    {
     "data": {
      "text/plain": [
       "array([-2.88102478e-03,  1.53305494e-03, -1.21031059e-03, -1.06663538e-03,\n",
       "        1.57348869e-03,  4.26341796e-03, -3.95903543e-04,  3.49232453e-03,\n",
       "       -1.68106642e-03, -6.55178881e-03, -1.48536724e-03,  8.27828423e-03,\n",
       "       -8.94434728e-04, -2.27077785e-03, -5.39193389e-03, -5.09745141e-03,\n",
       "       -9.03810956e-05,  5.61313684e-04,  1.65632044e-03,  1.05087360e-03,\n",
       "        4.14564446e-03, -5.77590726e-03,  4.78945431e-03, -7.01871323e-03,\n",
       "       -7.71861567e-04, -1.01087475e-02,  6.10666422e-04,  4.43167024e-03,\n",
       "       -2.38092937e-03, -5.32747652e-03, -1.01023725e-02,  7.08177900e-03,\n",
       "       -1.61493617e-03,  1.29390658e-03,  4.51854132e-03, -1.38255178e-03,\n",
       "       -3.21945277e-03,  1.18567896e-03, -1.93068938e-03, -3.93160293e-03,\n",
       "       -5.12784933e-03, -5.38585043e-03,  3.84706656e-03,  2.32776020e-03,\n",
       "        5.91684273e-03,  8.14139836e-03, -4.75878054e-03,  6.66453235e-03,\n",
       "       -2.10042564e-03, -1.27337327e-02, -3.73300146e-03, -2.10131963e-03,\n",
       "        4.80667011e-03,  9.05696405e-04,  1.09438935e-03,  1.14348031e-03,\n",
       "       -8.99258929e-04,  1.36656319e-03,  3.15045337e-03, -2.81375731e-04,\n",
       "       -6.15583348e-04, -9.67260383e-03, -4.50680305e-03, -1.00811660e-02,\n",
       "       -9.78932193e-04, -5.38305525e-03, -7.06459335e-03, -7.88622539e-03,\n",
       "       -1.20887601e-03,  8.45840095e-03,  3.87556563e-03,  2.59605637e-03,\n",
       "       -4.73748428e-04, -1.74624422e-03,  7.78053538e-04,  3.89455085e-03,\n",
       "       -1.59464699e-03,  1.01795200e-03, -4.76681011e-03,  5.14429603e-03,\n",
       "       -9.40220688e-04, -3.01507649e-03,  6.27294807e-05,  7.46622049e-03,\n",
       "        1.54516484e-03,  2.02960524e-03,  3.58248040e-03, -3.21147905e-03,\n",
       "       -5.52395261e-03,  1.91924909e-03, -9.48199112e-05,  9.26514534e-04,\n",
       "        6.59004862e-03,  1.92024112e-03, -4.96248780e-03,  3.59735446e-03,\n",
       "        9.86952924e-04,  2.82792656e-03,  1.72801063e-03, -6.36809725e-04])"
      ]
     },
     "execution_count": 13,
     "metadata": {},
     "output_type": "execute_result"
    }
   ],
   "source": [
    "U_reduced                     #show the matrix of U which is reduced"
   ]
  },
  {
   "cell_type": "code",
   "execution_count": 14,
   "id": "33fabffb",
   "metadata": {},
   "outputs": [
    {
     "data": {
      "text/plain": [
       "array([[-2.75605352e-03,  0.00000000e+00,  0.00000000e+00, ...,\n",
       "         0.00000000e+00,  0.00000000e+00,  0.00000000e+00],\n",
       "       [ 2.12002877e-03, -2.77555756e-17, -1.11022302e-16, ...,\n",
       "         0.00000000e+00,  0.00000000e+00,  0.00000000e+00],\n",
       "       [-2.94110277e-03, -1.38777878e-17, -1.11022302e-16, ...,\n",
       "         0.00000000e+00,  0.00000000e+00,  0.00000000e+00],\n",
       "       ...,\n",
       "       [-1.45891673e-03,  3.99853761e-16,  7.11236625e-17, ...,\n",
       "         0.00000000e+00,  0.00000000e+00,  0.00000000e+00],\n",
       "       [ 6.95797884e-04, -5.51316805e-17,  1.60461922e-16, ...,\n",
       "         0.00000000e+00,  0.00000000e+00,  0.00000000e+00],\n",
       "       [-1.74335431e-03, -1.31296883e-16, -2.42861287e-17, ...,\n",
       "         0.00000000e+00,  0.00000000e+00,  0.00000000e+00]])"
      ]
     },
     "execution_count": 14,
     "metadata": {},
     "output_type": "execute_result"
    }
   ],
   "source": [
    "Vt_reduced         #show the matrix of Vt which is reduced"
   ]
  },
  {
   "cell_type": "code",
   "execution_count": 15,
   "id": "ded11a92",
   "metadata": {},
   "outputs": [
    {
     "data": {
      "text/plain": [
       "array([385504.13942449, 130874.64296793, 120812.0258936 , 112183.41319245,\n",
       "       104260.8929488 ,  94260.69268522,  86514.52645599,  77416.72531252,\n",
       "        76958.18586028,  69723.25961137,  66127.27757486,  64957.2882495 ,\n",
       "        59415.33619218,  59238.43723922,  57208.98755065,  55355.45333841,\n",
       "        53010.05937774,  51627.59737432,  49466.36588848,  48696.71112522,\n",
       "        46833.59364601,  45512.83306328,  44312.22902833,  43377.32576686,\n",
       "        42649.72024776,  41568.88488954,  40929.31160626,  40221.61138898,\n",
       "        39141.49137419,  37701.76519175,  36803.52618124,  36520.10055823,\n",
       "        35218.54236189,  34856.58808703,  34246.39619411,  33462.16320924,\n",
       "        32256.2903541 ,  31679.48081976,  31470.91571681,  31181.91046099,\n",
       "        30671.30628326,  30253.15729754,  29401.10931047,  28623.72558709,\n",
       "        28160.33606549,  27781.99757431,  27292.38984045,  26899.93763106,\n",
       "        26477.7497571 ,  25780.03280169,  25676.44019224,  25384.42834769,\n",
       "        24677.44499894,  24523.08130786,  24180.20902085,  23645.35926102,\n",
       "        23583.22888385,  23072.57069539,  22849.10777166,  22440.35218322,\n",
       "        22263.59026512,  22189.60395543,  21772.3678491 ,  21350.06775743,\n",
       "        20969.41524458,  20681.0465423 ,  20443.39617583,  20138.1326114 ,\n",
       "        19917.92880927,  19699.68628126,  19612.38302054,  19381.30418791,\n",
       "        19111.75920674,  18970.52665928,  18465.7730709 ,  18366.36728111,\n",
       "        18227.99281226,  17869.04204653,  17428.880511  ,  17161.68750344,\n",
       "        17096.71834914,  17056.68059288,  16980.8791036 ,  16721.22281588,\n",
       "        16598.3362723 ,  16509.24113688,  16389.29831386,  16095.71279864,\n",
       "        15916.67502045,  15821.14503339,  15531.07874295,  15376.76989412,\n",
       "        15273.61368853,  15103.50682502,  14979.24203892,  14832.15551231,\n",
       "        14640.38481991,  14632.16465141,  14437.05465998,  14382.96390353])"
      ]
     },
     "execution_count": 15,
     "metadata": {},
     "output_type": "execute_result"
    }
   ],
   "source": [
    "S_reduced            #show the matrix of S which is reduced"
   ]
  },
  {
   "cell_type": "code",
   "execution_count": 16,
   "id": "a273888b",
   "metadata": {},
   "outputs": [
    {
     "data": {
      "text/plain": [
       "(100,)"
      ]
     },
     "execution_count": 16,
     "metadata": {},
     "output_type": "execute_result"
    }
   ],
   "source": [
    "U_reduced.shape        # #show the dimension of U_reduced matrix "
   ]
  },
  {
   "cell_type": "code",
   "execution_count": 17,
   "id": "301415e9",
   "metadata": {},
   "outputs": [
    {
     "data": {
      "text/plain": [
       "(100,)"
      ]
     },
     "execution_count": 17,
     "metadata": {},
     "output_type": "execute_result"
    }
   ],
   "source": [
    "S_reduced.shape       # #show the dimension of S_reduced matrix"
   ]
  },
  {
   "cell_type": "code",
   "execution_count": 18,
   "id": "be8f0e44",
   "metadata": {},
   "outputs": [
    {
     "data": {
      "text/plain": [
       "(100, 785)"
      ]
     },
     "execution_count": 18,
     "metadata": {},
     "output_type": "execute_result"
    }
   ],
   "source": [
    "Vt_reduced.shape     # #show the dimension of Vt_reduced matrix"
   ]
  },
  {
   "cell_type": "code",
   "execution_count": 19,
   "id": "879505c4",
   "metadata": {},
   "outputs": [
    {
     "data": {
      "text/plain": [
       "array([ 5.62237472e+00,  2.09355392e-13,  8.66715044e-14, -6.34004803e-14,\n",
       "       -7.76772319e-14,  4.50468427e-14, -8.39247827e-14, -1.06518620e-13,\n",
       "       -5.85525109e-14,  1.91295324e-13,  1.71206555e-13,  4.73479683e-14,\n",
       "       -2.83249532e-14,  3.62703752e-02,  4.27401525e-02, -4.08172235e-02,\n",
       "       -1.70071764e-03,  9.61966099e-14,  2.06984023e-14, -4.59112998e-14,\n",
       "        6.56707452e-14, -8.34276380e-14,  5.34863457e-14, -7.55181745e-15,\n",
       "        5.90856516e-15, -9.00971304e-14,  2.72462991e-14,  5.52149733e-14,\n",
       "        2.82715205e-14, -3.19067203e-14,  4.71599287e-14,  3.28195045e-14,\n",
       "        3.32070829e-14, -1.94909069e-03, -5.66421597e-03,  5.83891609e-02,\n",
       "        9.66698566e-02,  1.66394398e-01,  5.10394420e-02, -1.89265493e-01,\n",
       "       -6.96098180e-01, -5.59121917e-01, -2.92212351e-02, -4.14906693e-01,\n",
       "       -4.08978371e-01, -2.15402132e-01,  1.81633607e-01,  7.80751336e-02,\n",
       "        9.26748360e-03,  4.30789059e-02,  2.79254167e-02, -6.81695634e-02,\n",
       "       -4.76854003e-02, -3.60257259e-14, -1.27133740e-14,  1.34429241e-13,\n",
       "        7.34854639e-14,  2.81168656e-14, -7.66345097e-14,  8.12782149e-03,\n",
       "       -3.22223451e-03, -5.10172849e-02, -7.36476562e-03,  2.60470598e-02,\n",
       "        7.10086360e-02,  6.38321930e-02, -6.51002437e-01, -2.23817417e+00,\n",
       "       -4.75854070e+00, -5.70640868e+00, -3.92094275e+00, -1.19258360e+00,\n",
       "        1.64324364e+00,  1.16289863e+00, -2.24740851e+00, -5.51384121e+00,\n",
       "       -5.56616379e+00, -3.25555570e+00, -1.18129374e+00, -4.86191072e-01,\n",
       "       -1.60153504e-01,  1.91363081e-01,  9.39790452e-02,  8.23246146e-15,\n",
       "        2.55309518e-15, -1.17567911e-14, -8.64349818e-16,  3.25927840e-02,\n",
       "        9.48399831e-03, -1.98771992e-02, -4.17770447e-02,  2.71211078e-01,\n",
       "        5.64584759e-01,  5.11572050e-01, -1.21780428e+00, -4.07205113e+00,\n",
       "       -6.15645827e+00, -6.05362749e+00, -4.95192071e-01,  9.89099934e+00,\n",
       "        1.91947811e+01,  1.70084362e+01,  6.78108142e+00, -5.70605683e+00,\n",
       "       -1.05256401e+01, -6.49854775e+00, -2.57895507e+00, -7.71425958e-01,\n",
       "        3.92875584e-01,  5.74971371e-01,  1.54031899e-01,  1.97885312e-02,\n",
       "       -4.19117680e-15, -4.82055173e-15,  4.05703463e-03,  3.98634633e-02,\n",
       "        1.06241136e-02, -1.34748495e-01, -1.11344805e-01,  2.89619477e-01,\n",
       "        2.43628821e-01, -9.44953913e-01, -2.49732192e+00, -5.39113041e+00,\n",
       "       -5.74036554e+00, -6.11936873e+00, -4.24956612e+00,  1.26931205e+01,\n",
       "        1.96963794e+01,  1.51205907e+00, -2.21916654e+01, -2.70947997e+01,\n",
       "       -2.23856322e+01, -2.05615183e+01, -1.57569737e+01, -8.56335291e+00,\n",
       "       -3.29959591e+00, -3.84697209e-01,  5.25156713e-01,  1.57063153e-01,\n",
       "        6.04284348e-03,  2.04805072e-15,  9.73136581e-15,  3.21548400e-02,\n",
       "       -2.69644021e-01, -1.04277319e+00, -2.10623372e+00, -2.76662756e+00,\n",
       "        4.97586585e-02,  6.02453627e+00,  9.46853944e+00,  1.01653436e+01,\n",
       "        6.93593493e+00, -7.41904498e-01, -1.52968740e+01, -1.16364062e+01,\n",
       "       -7.40827595e+00, -1.50449084e+01,  5.69044562e+00,  5.36025471e+01,\n",
       "        7.21439366e+01,  4.50217033e+01,  1.13940956e+01, -5.00276510e+00,\n",
       "       -7.57451850e+00, -1.87014590e+00,  1.35896384e+00,  7.99722916e-01,\n",
       "       -2.46288961e-02,  4.95388595e-18,  2.23957594e-04,  1.48847403e-01,\n",
       "       -5.30095237e-01, -2.28768861e+00, -3.19419658e+00, -2.71569433e+00,\n",
       "        5.46494687e+00,  1.21780432e+01,  1.12058773e+01,  2.53796444e+00,\n",
       "        1.60363499e-01,  2.89054815e+00,  6.55266687e+00,  3.84221751e+01,\n",
       "        7.74333437e+01,  1.02493952e+02,  1.40772258e+02,  2.02551904e+02,\n",
       "        2.17424737e+02,  1.62681414e+02,  7.84490325e+01,  1.96084441e+01,\n",
       "       -3.00289756e+00, -8.75779263e-01,  3.69234893e+00,  1.39317396e+00,\n",
       "       -3.06580812e-02,  1.32921574e-02,  9.46951165e-02,  6.50041832e-01,\n",
       "        5.00447144e-01, -8.49575979e-01, -2.91968010e+00, -1.80362380e+00,\n",
       "        2.36993251e+00,  7.11775565e-02, -1.12532075e+01, -1.53607753e+01,\n",
       "        2.53220655e+01,  8.79934468e+01,  1.43793893e+02,  2.14296497e+02,\n",
       "        2.74929302e+02,  2.83071694e+02,  2.60428259e+02,  2.42319650e+02,\n",
       "        2.18984407e+02,  1.62563934e+02,  8.75188323e+01,  1.78513937e+01,\n",
       "       -1.44145407e+01, -1.03590784e+01, -4.73316608e-01,  1.28741859e+00,\n",
       "        2.34851668e-01,  5.59939072e-02,  6.81166391e-01,  2.41597006e+00,\n",
       "        3.26341704e+00,  9.85739241e-01, -3.69715205e-01,  1.40421590e+00,\n",
       "        2.87421818e+00, -7.47913862e+00, -1.33224366e+01,  3.95366711e+01,\n",
       "        1.51778237e+02,  2.39409056e+02,  2.63425843e+02,  2.64724679e+02,\n",
       "        2.54523829e+02,  2.19850419e+02,  1.53339404e+02,  9.54685766e+01,\n",
       "        5.97391794e+01,  3.76826609e+01,  2.14436081e+01, -1.03039666e+01,\n",
       "       -2.92953156e+01, -2.08349151e+01, -6.28293799e+00,  3.91060998e-02,\n",
       "        2.40078999e-01,  4.47167185e-02,  8.18776740e-01,  3.53945175e+00,\n",
       "        5.98473644e+00,  4.46872916e+00,  3.60183562e+00,  7.08530264e+00,\n",
       "        5.07500706e+00, -6.22517379e+00,  1.71741091e+01,  1.20143820e+02,\n",
       "        2.44527141e+02,  2.90296166e+02,  2.24381013e+02,  1.24839431e+02,\n",
       "        6.61024201e+01,  4.25322419e+01,  5.85744534e+00, -2.27259000e+01,\n",
       "       -3.38831793e+01, -3.75043963e+01, -1.87625237e+01, -1.01334289e+01,\n",
       "       -1.11699300e+01, -8.66301743e+00, -2.34799211e+00,  5.99560913e-01,\n",
       "        1.74113606e-01,  7.95705884e-02,  1.16908873e+00,  3.91771122e+00,\n",
       "        6.18200751e+00,  6.12761788e+00,  7.55238962e+00,  1.05253862e+01,\n",
       "        5.12006425e+00, -5.82389178e+00,  3.91268640e+01,  1.52933284e+02,\n",
       "        2.64346130e+02,  2.80135926e+02,  1.62039795e+02,  2.94698477e+01,\n",
       "       -3.94202129e+00,  1.44360554e+01, -1.72601839e+00, -1.36857647e+01,\n",
       "       -3.04118015e-01, -1.36784892e+01, -8.10689815e+00,  1.03967666e+01,\n",
       "        1.42652702e+01,  5.97074503e+00,  2.21130901e+00,  9.64411408e-01,\n",
       "        1.80391748e-01,  8.05279699e-02,  9.97962220e-01,  3.03403024e+00,\n",
       "        5.06602262e+00,  4.88070428e+00,  5.24110121e+00,  6.00644372e+00,\n",
       "       -1.27208480e+00, -7.75287855e+00,  3.07839465e+01,  1.36058787e+02,\n",
       "        2.55009452e+02,  2.69291190e+02,  1.31299445e+02,  8.31761066e-01,\n",
       "       -3.71447762e+00,  3.49827152e+01,  1.12073525e+01,  1.16201964e+01,\n",
       "        3.58284090e+01,  7.23236733e+00, -2.18768538e+00,  1.66276321e+01,\n",
       "        2.06723919e+01,  8.31588803e+00,  2.06357364e+00,  4.11813074e-01,\n",
       "        2.21754913e-02,  5.34574501e-02,  5.42998893e-01,  1.98270196e+00,\n",
       "        3.19292747e+00,  2.36073225e+00,  1.00804863e+00, -1.14646587e+00,\n",
       "       -6.18696892e+00, -6.95114696e+00,  8.38581041e+00,  1.07197952e+02,\n",
       "        2.41739185e+02,  2.48547714e+02,  8.63009233e+01, -4.05397079e+01,\n",
       "       -2.52625763e+01,  7.99319625e+00, -2.68275320e+01, -9.60815126e+00,\n",
       "        2.24640598e+01, -1.04043710e-01, -9.33411229e+00,  9.38711655e+00,\n",
       "        1.35932099e+01,  4.21874089e+00,  8.76364080e-01,  3.01611812e-01,\n",
       "        3.47475737e-02, -4.90498075e-03,  5.23056926e-02,  9.90619269e-01,\n",
       "        1.40042509e+00,  2.89494080e-01, -2.47460823e+00, -1.95420411e+00,\n",
       "        1.65644131e+00, -4.10420013e+00, -2.62410580e+00,  1.02552764e+02,\n",
       "        2.32281747e+02,  2.21785426e+02,  5.55086348e+01, -3.87823083e+01,\n",
       "       -1.39631976e+00,  2.17425328e+01, -2.42424896e+01, -2.48941238e+01,\n",
       "       -4.11853741e+00, -1.10289370e+01, -1.04573526e+01, -5.42528486e-01,\n",
       "        2.28285547e+00, -3.89855167e-01,  4.57639069e-01,  2.25557556e-01,\n",
       "        8.50345951e-02,  1.89908321e-02, -4.94838407e-02,  3.00855661e-01,\n",
       "        3.52177024e-01, -4.61518443e-01, -3.10998057e+00,  1.92495150e+00,\n",
       "        1.34258578e+01,  1.25221195e+00, -5.27470172e+00,  1.16625436e+02,\n",
       "        2.47158972e+02,  2.26696408e+02,  6.31617889e+01, -2.29567086e+01,\n",
       "        7.46172408e+00,  4.19508128e+01,  1.73385905e+01,  8.67577617e-01,\n",
       "       -5.34744735e-01, -4.36844772e+00, -4.28118643e+00, -7.82008589e+00,\n",
       "       -8.66924244e+00, -4.96297295e+00,  4.59585476e-01,  4.92332977e-01,\n",
       "        1.97218483e-03,  5.59977274e-03, -4.51271889e-02, -2.96478273e-03,\n",
       "        4.74250588e-02,  2.76372894e-01, -3.86660541e+00,  4.17563398e+00,\n",
       "        1.93773270e+01, -6.18557945e+00, -1.60821518e+01,  1.06481761e+02,\n",
       "        2.37450247e+02,  2.13778956e+02,  5.03977571e+01, -5.43983108e+01,\n",
       "       -5.21376094e+01, -9.34396017e+00, -6.05684579e-01,  9.49322687e+00,\n",
       "        5.19655773e+00,  9.43301970e+00,  4.04011118e+00, -1.15705567e+01,\n",
       "       -1.70134720e+01, -8.22718687e+00,  5.92076101e-01,  5.89372224e-01,\n",
       "        3.23551206e-02, -3.53408180e-03, -1.95722525e-02, -9.21304202e-02,\n",
       "        2.97350599e-01,  3.16318776e+00, -3.35954603e+00,  1.42292597e+00,\n",
       "        1.70025109e+01, -8.08131658e+00, -2.95668659e+01,  7.76459098e+01,\n",
       "        2.08423260e+02,  2.09168040e+02,  9.72171144e+01,  3.22742120e+01,\n",
       "        1.84974898e+01, -2.09200005e+00, -2.02295393e+01, -1.37689050e+01,\n",
       "       -1.17815808e+01,  1.13078368e+01,  1.18078888e+01, -1.29293408e+01,\n",
       "       -1.89763521e+01, -7.07836275e+00,  1.61859284e+00,  6.04556246e-01,\n",
       "        8.96857055e-02,  0.00000000e+00,  4.07763779e-02,  1.50044121e-02,\n",
       "        1.36023842e+00,  8.41136894e+00, -6.14354800e+00, -8.25926534e+00,\n",
       "        1.16906528e+01,  1.00865398e+00, -2.38002165e+01,  5.79807401e+01,\n",
       "        1.93934349e+02,  2.48644203e+02,  2.19281579e+02,  2.15767301e+02,\n",
       "        2.01785634e+02,  1.25553574e+02,  5.53097912e+01,  1.86337971e+00,\n",
       "       -2.90766770e+01, -1.72041175e+00,  1.06838788e+01, -6.42894593e+00,\n",
       "       -9.40613377e+00, -4.13254622e-01,  4.61400814e+00,  1.14696540e+00,\n",
       "        1.16290792e-02, -3.56682226e-03,  3.43445624e-02,  2.01400199e-01,\n",
       "        4.42522002e+00,  1.32193010e+01, -6.25494259e+00, -1.97064963e+01,\n",
       "        7.97204949e+00,  1.29008870e+01, -2.32584853e+01,  2.47605267e+01,\n",
       "        1.56524838e+02,  2.31123543e+02,  2.26505935e+02,  2.48524638e+02,\n",
       "        2.67282040e+02,  2.37003507e+02,  1.80384052e+02,  7.83803046e+01,\n",
       "       -1.59378648e+01, -1.30809953e+01,  8.74162744e+00,  6.95932518e+00,\n",
       "        5.82266214e+00,  8.49316558e+00,  7.17570529e+00,  1.28128634e+00,\n",
       "        2.14918086e-02, -1.86884085e-03, -9.28822435e-03,  8.72562860e-01,\n",
       "        7.21204749e+00,  1.73172685e+01, -3.86043026e+00, -2.08837402e+01,\n",
       "        8.55330151e+00,  2.01037851e+01, -2.30593626e+01, -1.57344223e+01,\n",
       "        7.11968378e+01,  1.16080397e+02,  9.75430264e+01,  1.29174218e+02,\n",
       "        1.83162614e+02,  2.35365838e+02,  2.57793049e+02,  1.57199117e+02,\n",
       "        1.41954794e+01, -1.88877202e+01,  1.80064015e+00,  1.08889572e+01,\n",
       "        1.29778094e+01,  1.17343256e+01,  6.62139915e+00,  1.12053760e+00,\n",
       "        1.50854327e-02,  0.00000000e+00, -3.06057871e-02,  1.18626262e+00,\n",
       "        8.02229113e+00,  1.91390254e+01,  5.77112115e+00, -9.42106763e+00,\n",
       "        8.42699154e+00,  2.12389554e+01, -1.07440080e+01, -2.01112810e+01,\n",
       "        6.16630577e+00, -4.85350113e+00, -2.40885205e+01,  1.74371071e+01,\n",
       "        7.58781572e+01,  1.73225463e+02,  2.66994114e+02,  1.88465463e+02,\n",
       "        3.65068576e+01, -2.29687062e+01, -1.13147932e+01,  2.53468199e+00,\n",
       "        8.59922488e+00,  7.24232977e+00,  3.37507721e+00,  6.09996646e-01,\n",
       "       -8.72975740e-03, -1.51195030e-03, -1.86547074e-03,  1.05354966e+00,\n",
       "        5.99052586e+00,  1.41375923e+01,  1.00583200e+01,  3.11000148e-01,\n",
       "        1.85808706e+00,  8.10228643e+00,  1.21810457e+00,  8.12707583e+00,\n",
       "        3.19106084e+00, -2.58599854e+01, -2.24490255e+01,  1.70434610e+00,\n",
       "        1.31826802e+01,  1.07890851e+02,  2.38431420e+02,  1.90108456e+02,\n",
       "        4.74792149e+01, -2.36992495e+01, -2.25785448e+01, -7.92398361e+00,\n",
       "        1.51552045e-01,  1.19840510e+00,  2.01998871e-01, -1.36283672e-02,\n",
       "       -1.96444181e-03, -1.46470186e-03, -9.94364442e-03,  5.28464114e-01,\n",
       "        3.04199495e+00,  6.98728979e+00,  5.86660254e+00,  8.30223255e-01,\n",
       "       -7.02722442e+00, -7.37864509e+00, -2.12083015e+00,  8.83112042e+00,\n",
       "        1.05080772e+01,  1.10725522e+01,  2.94929324e+01, -3.94914782e-03,\n",
       "       -4.22574509e+01,  6.52577954e+01,  2.27910424e+02,  1.97392131e+02,\n",
       "        6.13981488e+01, -1.70112843e+01, -2.48476617e+01, -1.38545022e+01,\n",
       "       -4.52153544e+00, -1.20420541e+00, -1.99323547e-01, -3.10573641e-02,\n",
       "       -3.62666180e-03,  0.00000000e+00,  0.00000000e+00, -8.43312266e-03,\n",
       "        7.94720474e-01,  1.47655713e+00, -2.92499163e-01, -4.05440936e+00,\n",
       "       -6.51327598e+00, -6.59527122e+00, -2.62423792e+00, -4.00448167e+00,\n",
       "       -1.53713723e+01, -3.70444151e+00,  9.50467898e+00, -4.06288639e+01,\n",
       "       -5.38548492e+01,  9.77839305e+01,  2.46974745e+02,  2.04592803e+02,\n",
       "        7.49613415e+01, -5.42562998e+00, -2.12219363e+01, -1.24781029e+01,\n",
       "       -4.47489962e+00, -9.82235479e-01, -6.78872848e-02,  1.09812899e-02,\n",
       "        0.00000000e+00,  0.00000000e+00,  0.00000000e+00, -6.31169114e-02,\n",
       "       -4.91466081e-03,  1.20583504e-01, -2.51952952e-01,  3.48234890e-02,\n",
       "        3.53720781e+00,  1.17599033e+01,  1.64895379e+01,  8.69633247e+00,\n",
       "       -5.75636005e+00,  5.57336274e+00,  1.82626384e+01, -3.94102240e+00,\n",
       "        1.59977779e+01,  1.32088172e+02,  2.14808336e+02,  1.65693573e+02,\n",
       "        6.14253297e+01, -2.37650290e+00, -1.51278286e+01, -8.87438038e+00,\n",
       "       -3.27782899e+00, -3.46343419e-01,  1.60907933e-02, -7.00584828e-03,\n",
       "        0.00000000e+00,  0.00000000e+00,  0.00000000e+00, -7.26322160e-03,\n",
       "        1.24243491e-01,  1.66418925e-01,  4.93122857e-01,  1.65519343e+00,\n",
       "        3.04690581e+00,  3.84107519e+00, -1.82983885e+00, -1.24770297e+01,\n",
       "       -1.36421035e+01,  1.78511720e+00,  5.62317278e+00, -1.09107001e+01,\n",
       "        3.41365098e+00,  6.79692425e+01,  1.17194112e+02,  9.38461759e+01,\n",
       "        3.73039337e+01,  1.61016800e+00, -7.16271055e+00, -4.20508853e+00,\n",
       "       -1.22930521e+00, -1.95994227e-01, -2.36193703e-02, -9.61864147e-03,\n",
       "        0.00000000e+00,  0.00000000e+00,  0.00000000e+00,  0.00000000e+00,\n",
       "        5.75861238e-03, -5.23540437e-02, -2.13268612e-01, -8.78876163e-01,\n",
       "       -2.23225422e+00, -5.63111981e+00, -1.13361065e+01, -1.70595630e+01,\n",
       "       -1.47544699e+01, -6.13069283e+00, -6.02396976e+00, -1.31458407e+01,\n",
       "       -3.40909784e+00,  2.50334232e+01,  4.35086064e+01,  3.43492588e+01,\n",
       "        1.33560984e+01,  8.26873601e-01, -1.74303593e+00, -7.32603394e-01,\n",
       "       -1.48921328e-01, -8.37438777e-03, -1.45080505e-04,  0.00000000e+00,\n",
       "        0.00000000e+00,  0.00000000e+00,  0.00000000e+00,  0.00000000e+00,\n",
       "        0.00000000e+00, -2.33182230e-02, -1.15484744e-01, -3.21031995e-01,\n",
       "       -7.50332942e-01, -9.84092863e-01, -1.60759599e+00, -2.58855563e+00,\n",
       "       -2.87648736e+00, -2.65984296e+00, -3.37460050e+00, -4.30641171e+00,\n",
       "       -1.97554593e+00,  3.78804423e+00,  6.98262312e+00,  4.37644030e+00,\n",
       "        1.53841513e+00,  7.43394353e-02, -1.61033800e-01, -1.01088458e-01,\n",
       "       -6.38636439e-03,  0.00000000e+00,  0.00000000e+00,  0.00000000e+00,\n",
       "        0.00000000e+00])"
      ]
     },
     "execution_count": 19,
     "metadata": {},
     "output_type": "execute_result"
    }
   ],
   "source": [
    "k=100\n",
    "data_reduced = np.dot(U_reduced, np.diag(S[:k])).dot(Vt_reduced)    #his line of code reconstructs the original data by multiplying the reduced left singular vectors with a diagonal matrix, The result is a reduced representation of the original data, which captures the most important information while reducing its dimensionality.\n",
    "data_reduced"
   ]
  },
  {
   "cell_type": "code",
   "execution_count": 20,
   "id": "ec380b3e",
   "metadata": {},
   "outputs": [
    {
     "data": {
      "text/plain": [
       "(785,)"
      ]
     },
     "execution_count": 20,
     "metadata": {},
     "output_type": "execute_result"
    }
   ],
   "source": [
    "data_reduced.shape          # it shows the dimension of the reconstructed matrix"
   ]
  },
  {
   "cell_type": "code",
   "execution_count": 21,
   "id": "7af91085",
   "metadata": {},
   "outputs": [],
   "source": [
    "####PCA      proncipal Component Decomposition"
   ]
  },
  {
   "cell_type": "code",
   "execution_count": 22,
   "id": "db6fccf8",
   "metadata": {},
   "outputs": [],
   "source": [
    "import numpy as np\n",
    "import pandas as pd\n",
    "from sklearn.decomposition import PCA"
   ]
  },
  {
   "cell_type": "code",
   "execution_count": 23,
   "id": "010ebbfa",
   "metadata": {},
   "outputs": [
    {
     "data": {
      "text/html": [
       "<div>\n",
       "<style scoped>\n",
       "    .dataframe tbody tr th:only-of-type {\n",
       "        vertical-align: middle;\n",
       "    }\n",
       "\n",
       "    .dataframe tbody tr th {\n",
       "        vertical-align: top;\n",
       "    }\n",
       "\n",
       "    .dataframe thead th {\n",
       "        text-align: right;\n",
       "    }\n",
       "</style>\n",
       "<table border=\"1\" class=\"dataframe\">\n",
       "  <thead>\n",
       "    <tr style=\"text-align: right;\">\n",
       "      <th></th>\n",
       "      <th>label</th>\n",
       "      <th>1x1</th>\n",
       "      <th>1x2</th>\n",
       "      <th>1x3</th>\n",
       "      <th>1x4</th>\n",
       "      <th>1x5</th>\n",
       "      <th>1x6</th>\n",
       "      <th>1x7</th>\n",
       "      <th>1x8</th>\n",
       "      <th>1x9</th>\n",
       "      <th>...</th>\n",
       "      <th>28x19</th>\n",
       "      <th>28x20</th>\n",
       "      <th>28x21</th>\n",
       "      <th>28x22</th>\n",
       "      <th>28x23</th>\n",
       "      <th>28x24</th>\n",
       "      <th>28x25</th>\n",
       "      <th>28x26</th>\n",
       "      <th>28x27</th>\n",
       "      <th>28x28</th>\n",
       "    </tr>\n",
       "  </thead>\n",
       "  <tbody>\n",
       "    <tr>\n",
       "      <th>0</th>\n",
       "      <td>5</td>\n",
       "      <td>0</td>\n",
       "      <td>0</td>\n",
       "      <td>0</td>\n",
       "      <td>0</td>\n",
       "      <td>0</td>\n",
       "      <td>0</td>\n",
       "      <td>0</td>\n",
       "      <td>0</td>\n",
       "      <td>0</td>\n",
       "      <td>...</td>\n",
       "      <td>0</td>\n",
       "      <td>0</td>\n",
       "      <td>0</td>\n",
       "      <td>0</td>\n",
       "      <td>0</td>\n",
       "      <td>0</td>\n",
       "      <td>0</td>\n",
       "      <td>0</td>\n",
       "      <td>0</td>\n",
       "      <td>0</td>\n",
       "    </tr>\n",
       "    <tr>\n",
       "      <th>1</th>\n",
       "      <td>0</td>\n",
       "      <td>0</td>\n",
       "      <td>0</td>\n",
       "      <td>0</td>\n",
       "      <td>0</td>\n",
       "      <td>0</td>\n",
       "      <td>0</td>\n",
       "      <td>0</td>\n",
       "      <td>0</td>\n",
       "      <td>0</td>\n",
       "      <td>...</td>\n",
       "      <td>0</td>\n",
       "      <td>0</td>\n",
       "      <td>0</td>\n",
       "      <td>0</td>\n",
       "      <td>0</td>\n",
       "      <td>0</td>\n",
       "      <td>0</td>\n",
       "      <td>0</td>\n",
       "      <td>0</td>\n",
       "      <td>0</td>\n",
       "    </tr>\n",
       "    <tr>\n",
       "      <th>2</th>\n",
       "      <td>4</td>\n",
       "      <td>0</td>\n",
       "      <td>0</td>\n",
       "      <td>0</td>\n",
       "      <td>0</td>\n",
       "      <td>0</td>\n",
       "      <td>0</td>\n",
       "      <td>0</td>\n",
       "      <td>0</td>\n",
       "      <td>0</td>\n",
       "      <td>...</td>\n",
       "      <td>0</td>\n",
       "      <td>0</td>\n",
       "      <td>0</td>\n",
       "      <td>0</td>\n",
       "      <td>0</td>\n",
       "      <td>0</td>\n",
       "      <td>0</td>\n",
       "      <td>0</td>\n",
       "      <td>0</td>\n",
       "      <td>0</td>\n",
       "    </tr>\n",
       "    <tr>\n",
       "      <th>3</th>\n",
       "      <td>1</td>\n",
       "      <td>0</td>\n",
       "      <td>0</td>\n",
       "      <td>0</td>\n",
       "      <td>0</td>\n",
       "      <td>0</td>\n",
       "      <td>0</td>\n",
       "      <td>0</td>\n",
       "      <td>0</td>\n",
       "      <td>0</td>\n",
       "      <td>...</td>\n",
       "      <td>0</td>\n",
       "      <td>0</td>\n",
       "      <td>0</td>\n",
       "      <td>0</td>\n",
       "      <td>0</td>\n",
       "      <td>0</td>\n",
       "      <td>0</td>\n",
       "      <td>0</td>\n",
       "      <td>0</td>\n",
       "      <td>0</td>\n",
       "    </tr>\n",
       "    <tr>\n",
       "      <th>4</th>\n",
       "      <td>9</td>\n",
       "      <td>0</td>\n",
       "      <td>0</td>\n",
       "      <td>0</td>\n",
       "      <td>0</td>\n",
       "      <td>0</td>\n",
       "      <td>0</td>\n",
       "      <td>0</td>\n",
       "      <td>0</td>\n",
       "      <td>0</td>\n",
       "      <td>...</td>\n",
       "      <td>0</td>\n",
       "      <td>0</td>\n",
       "      <td>0</td>\n",
       "      <td>0</td>\n",
       "      <td>0</td>\n",
       "      <td>0</td>\n",
       "      <td>0</td>\n",
       "      <td>0</td>\n",
       "      <td>0</td>\n",
       "      <td>0</td>\n",
       "    </tr>\n",
       "    <tr>\n",
       "      <th>...</th>\n",
       "      <td>...</td>\n",
       "      <td>...</td>\n",
       "      <td>...</td>\n",
       "      <td>...</td>\n",
       "      <td>...</td>\n",
       "      <td>...</td>\n",
       "      <td>...</td>\n",
       "      <td>...</td>\n",
       "      <td>...</td>\n",
       "      <td>...</td>\n",
       "      <td>...</td>\n",
       "      <td>...</td>\n",
       "      <td>...</td>\n",
       "      <td>...</td>\n",
       "      <td>...</td>\n",
       "      <td>...</td>\n",
       "      <td>...</td>\n",
       "      <td>...</td>\n",
       "      <td>...</td>\n",
       "      <td>...</td>\n",
       "      <td>...</td>\n",
       "    </tr>\n",
       "    <tr>\n",
       "      <th>59995</th>\n",
       "      <td>8</td>\n",
       "      <td>0</td>\n",
       "      <td>0</td>\n",
       "      <td>0</td>\n",
       "      <td>0</td>\n",
       "      <td>0</td>\n",
       "      <td>0</td>\n",
       "      <td>0</td>\n",
       "      <td>0</td>\n",
       "      <td>0</td>\n",
       "      <td>...</td>\n",
       "      <td>0</td>\n",
       "      <td>0</td>\n",
       "      <td>0</td>\n",
       "      <td>0</td>\n",
       "      <td>0</td>\n",
       "      <td>0</td>\n",
       "      <td>0</td>\n",
       "      <td>0</td>\n",
       "      <td>0</td>\n",
       "      <td>0</td>\n",
       "    </tr>\n",
       "    <tr>\n",
       "      <th>59996</th>\n",
       "      <td>3</td>\n",
       "      <td>0</td>\n",
       "      <td>0</td>\n",
       "      <td>0</td>\n",
       "      <td>0</td>\n",
       "      <td>0</td>\n",
       "      <td>0</td>\n",
       "      <td>0</td>\n",
       "      <td>0</td>\n",
       "      <td>0</td>\n",
       "      <td>...</td>\n",
       "      <td>0</td>\n",
       "      <td>0</td>\n",
       "      <td>0</td>\n",
       "      <td>0</td>\n",
       "      <td>0</td>\n",
       "      <td>0</td>\n",
       "      <td>0</td>\n",
       "      <td>0</td>\n",
       "      <td>0</td>\n",
       "      <td>0</td>\n",
       "    </tr>\n",
       "    <tr>\n",
       "      <th>59997</th>\n",
       "      <td>5</td>\n",
       "      <td>0</td>\n",
       "      <td>0</td>\n",
       "      <td>0</td>\n",
       "      <td>0</td>\n",
       "      <td>0</td>\n",
       "      <td>0</td>\n",
       "      <td>0</td>\n",
       "      <td>0</td>\n",
       "      <td>0</td>\n",
       "      <td>...</td>\n",
       "      <td>0</td>\n",
       "      <td>0</td>\n",
       "      <td>0</td>\n",
       "      <td>0</td>\n",
       "      <td>0</td>\n",
       "      <td>0</td>\n",
       "      <td>0</td>\n",
       "      <td>0</td>\n",
       "      <td>0</td>\n",
       "      <td>0</td>\n",
       "    </tr>\n",
       "    <tr>\n",
       "      <th>59998</th>\n",
       "      <td>6</td>\n",
       "      <td>0</td>\n",
       "      <td>0</td>\n",
       "      <td>0</td>\n",
       "      <td>0</td>\n",
       "      <td>0</td>\n",
       "      <td>0</td>\n",
       "      <td>0</td>\n",
       "      <td>0</td>\n",
       "      <td>0</td>\n",
       "      <td>...</td>\n",
       "      <td>0</td>\n",
       "      <td>0</td>\n",
       "      <td>0</td>\n",
       "      <td>0</td>\n",
       "      <td>0</td>\n",
       "      <td>0</td>\n",
       "      <td>0</td>\n",
       "      <td>0</td>\n",
       "      <td>0</td>\n",
       "      <td>0</td>\n",
       "    </tr>\n",
       "    <tr>\n",
       "      <th>59999</th>\n",
       "      <td>8</td>\n",
       "      <td>0</td>\n",
       "      <td>0</td>\n",
       "      <td>0</td>\n",
       "      <td>0</td>\n",
       "      <td>0</td>\n",
       "      <td>0</td>\n",
       "      <td>0</td>\n",
       "      <td>0</td>\n",
       "      <td>0</td>\n",
       "      <td>...</td>\n",
       "      <td>0</td>\n",
       "      <td>0</td>\n",
       "      <td>0</td>\n",
       "      <td>0</td>\n",
       "      <td>0</td>\n",
       "      <td>0</td>\n",
       "      <td>0</td>\n",
       "      <td>0</td>\n",
       "      <td>0</td>\n",
       "      <td>0</td>\n",
       "    </tr>\n",
       "  </tbody>\n",
       "</table>\n",
       "<p>60000 rows × 785 columns</p>\n",
       "</div>"
      ],
      "text/plain": [
       "       label  1x1  1x2  1x3  1x4  1x5  1x6  1x7  1x8  1x9  ...  28x19  28x20  \\\n",
       "0          5    0    0    0    0    0    0    0    0    0  ...      0      0   \n",
       "1          0    0    0    0    0    0    0    0    0    0  ...      0      0   \n",
       "2          4    0    0    0    0    0    0    0    0    0  ...      0      0   \n",
       "3          1    0    0    0    0    0    0    0    0    0  ...      0      0   \n",
       "4          9    0    0    0    0    0    0    0    0    0  ...      0      0   \n",
       "...      ...  ...  ...  ...  ...  ...  ...  ...  ...  ...  ...    ...    ...   \n",
       "59995      8    0    0    0    0    0    0    0    0    0  ...      0      0   \n",
       "59996      3    0    0    0    0    0    0    0    0    0  ...      0      0   \n",
       "59997      5    0    0    0    0    0    0    0    0    0  ...      0      0   \n",
       "59998      6    0    0    0    0    0    0    0    0    0  ...      0      0   \n",
       "59999      8    0    0    0    0    0    0    0    0    0  ...      0      0   \n",
       "\n",
       "       28x21  28x22  28x23  28x24  28x25  28x26  28x27  28x28  \n",
       "0          0      0      0      0      0      0      0      0  \n",
       "1          0      0      0      0      0      0      0      0  \n",
       "2          0      0      0      0      0      0      0      0  \n",
       "3          0      0      0      0      0      0      0      0  \n",
       "4          0      0      0      0      0      0      0      0  \n",
       "...      ...    ...    ...    ...    ...    ...    ...    ...  \n",
       "59995      0      0      0      0      0      0      0      0  \n",
       "59996      0      0      0      0      0      0      0      0  \n",
       "59997      0      0      0      0      0      0      0      0  \n",
       "59998      0      0      0      0      0      0      0      0  \n",
       "59999      0      0      0      0      0      0      0      0  \n",
       "\n",
       "[60000 rows x 785 columns]"
      ]
     },
     "execution_count": 23,
     "metadata": {},
     "output_type": "execute_result"
    }
   ],
   "source": [
    "data=pd.read_csv(r\"C:\\Users\\Kyle\\Desktop\\Middlesex uni\\Machine Learning\\Week5\\mnist.csv\")\n",
    "data"
   ]
  },
  {
   "cell_type": "code",
   "execution_count": 24,
   "id": "bceb2a87",
   "metadata": {},
   "outputs": [
    {
     "data": {
      "text/html": [
       "<style>#sk-container-id-1 {color: black;}#sk-container-id-1 pre{padding: 0;}#sk-container-id-1 div.sk-toggleable {background-color: white;}#sk-container-id-1 label.sk-toggleable__label {cursor: pointer;display: block;width: 100%;margin-bottom: 0;padding: 0.3em;box-sizing: border-box;text-align: center;}#sk-container-id-1 label.sk-toggleable__label-arrow:before {content: \"▸\";float: left;margin-right: 0.25em;color: #696969;}#sk-container-id-1 label.sk-toggleable__label-arrow:hover:before {color: black;}#sk-container-id-1 div.sk-estimator:hover label.sk-toggleable__label-arrow:before {color: black;}#sk-container-id-1 div.sk-toggleable__content {max-height: 0;max-width: 0;overflow: hidden;text-align: left;background-color: #f0f8ff;}#sk-container-id-1 div.sk-toggleable__content pre {margin: 0.2em;color: black;border-radius: 0.25em;background-color: #f0f8ff;}#sk-container-id-1 input.sk-toggleable__control:checked~div.sk-toggleable__content {max-height: 200px;max-width: 100%;overflow: auto;}#sk-container-id-1 input.sk-toggleable__control:checked~label.sk-toggleable__label-arrow:before {content: \"▾\";}#sk-container-id-1 div.sk-estimator input.sk-toggleable__control:checked~label.sk-toggleable__label {background-color: #d4ebff;}#sk-container-id-1 div.sk-label input.sk-toggleable__control:checked~label.sk-toggleable__label {background-color: #d4ebff;}#sk-container-id-1 input.sk-hidden--visually {border: 0;clip: rect(1px 1px 1px 1px);clip: rect(1px, 1px, 1px, 1px);height: 1px;margin: -1px;overflow: hidden;padding: 0;position: absolute;width: 1px;}#sk-container-id-1 div.sk-estimator {font-family: monospace;background-color: #f0f8ff;border: 1px dotted black;border-radius: 0.25em;box-sizing: border-box;margin-bottom: 0.5em;}#sk-container-id-1 div.sk-estimator:hover {background-color: #d4ebff;}#sk-container-id-1 div.sk-parallel-item::after {content: \"\";width: 100%;border-bottom: 1px solid gray;flex-grow: 1;}#sk-container-id-1 div.sk-label:hover label.sk-toggleable__label {background-color: #d4ebff;}#sk-container-id-1 div.sk-serial::before {content: \"\";position: absolute;border-left: 1px solid gray;box-sizing: border-box;top: 0;bottom: 0;left: 50%;z-index: 0;}#sk-container-id-1 div.sk-serial {display: flex;flex-direction: column;align-items: center;background-color: white;padding-right: 0.2em;padding-left: 0.2em;position: relative;}#sk-container-id-1 div.sk-item {position: relative;z-index: 1;}#sk-container-id-1 div.sk-parallel {display: flex;align-items: stretch;justify-content: center;background-color: white;position: relative;}#sk-container-id-1 div.sk-item::before, #sk-container-id-1 div.sk-parallel-item::before {content: \"\";position: absolute;border-left: 1px solid gray;box-sizing: border-box;top: 0;bottom: 0;left: 50%;z-index: -1;}#sk-container-id-1 div.sk-parallel-item {display: flex;flex-direction: column;z-index: 1;position: relative;background-color: white;}#sk-container-id-1 div.sk-parallel-item:first-child::after {align-self: flex-end;width: 50%;}#sk-container-id-1 div.sk-parallel-item:last-child::after {align-self: flex-start;width: 50%;}#sk-container-id-1 div.sk-parallel-item:only-child::after {width: 0;}#sk-container-id-1 div.sk-dashed-wrapped {border: 1px dashed gray;margin: 0 0.4em 0.5em 0.4em;box-sizing: border-box;padding-bottom: 0.4em;background-color: white;}#sk-container-id-1 div.sk-label label {font-family: monospace;font-weight: bold;display: inline-block;line-height: 1.2em;}#sk-container-id-1 div.sk-label-container {text-align: center;}#sk-container-id-1 div.sk-container {/* jupyter's `normalize.less` sets `[hidden] { display: none; }` but bootstrap.min.css set `[hidden] { display: none !important; }` so we also need the `!important` here to be able to override the default hidden behavior on the sphinx rendered scikit-learn.org. See: https://github.com/scikit-learn/scikit-learn/issues/21755 */display: inline-block !important;position: relative;}#sk-container-id-1 div.sk-text-repr-fallback {display: none;}</style><div id=\"sk-container-id-1\" class=\"sk-top-container\"><div class=\"sk-text-repr-fallback\"><pre>PCA()</pre><b>In a Jupyter environment, please rerun this cell to show the HTML representation or trust the notebook. <br />On GitHub, the HTML representation is unable to render, please try loading this page with nbviewer.org.</b></div><div class=\"sk-container\" hidden><div class=\"sk-item\"><div class=\"sk-estimator sk-toggleable\"><input class=\"sk-toggleable__control sk-hidden--visually\" id=\"sk-estimator-id-1\" type=\"checkbox\" checked><label for=\"sk-estimator-id-1\" class=\"sk-toggleable__label sk-toggleable__label-arrow\">PCA</label><div class=\"sk-toggleable__content\"><pre>PCA()</pre></div></div></div></div></div>"
      ],
      "text/plain": [
       "PCA()"
      ]
     },
     "execution_count": 24,
     "metadata": {},
     "output_type": "execute_result"
    }
   ],
   "source": [
    "pca=PCA()    # use PCA methed\n",
    "pca\n"
   ]
  },
  {
   "cell_type": "code",
   "execution_count": 25,
   "id": "3f6b67d8",
   "metadata": {},
   "outputs": [
    {
     "data": {
      "text/plain": [
       "array([[5, 0, 0, ..., 0, 0, 0],\n",
       "       [0, 0, 0, ..., 0, 0, 0],\n",
       "       [4, 0, 0, ..., 0, 0, 0],\n",
       "       ...,\n",
       "       [5, 0, 0, ..., 0, 0, 0],\n",
       "       [6, 0, 0, ..., 0, 0, 0],\n",
       "       [8, 0, 0, ..., 0, 0, 0]], dtype=int64)"
      ]
     },
     "execution_count": 25,
     "metadata": {},
     "output_type": "execute_result"
    }
   ],
   "source": [
    "matrix = data.values      # change datatype to matrix\n",
    "matrix"
   ]
  },
  {
   "cell_type": "code",
   "execution_count": 26,
   "id": "16b4fdbe",
   "metadata": {},
   "outputs": [
    {
     "data": {
      "text/html": [
       "<style>#sk-container-id-2 {color: black;}#sk-container-id-2 pre{padding: 0;}#sk-container-id-2 div.sk-toggleable {background-color: white;}#sk-container-id-2 label.sk-toggleable__label {cursor: pointer;display: block;width: 100%;margin-bottom: 0;padding: 0.3em;box-sizing: border-box;text-align: center;}#sk-container-id-2 label.sk-toggleable__label-arrow:before {content: \"▸\";float: left;margin-right: 0.25em;color: #696969;}#sk-container-id-2 label.sk-toggleable__label-arrow:hover:before {color: black;}#sk-container-id-2 div.sk-estimator:hover label.sk-toggleable__label-arrow:before {color: black;}#sk-container-id-2 div.sk-toggleable__content {max-height: 0;max-width: 0;overflow: hidden;text-align: left;background-color: #f0f8ff;}#sk-container-id-2 div.sk-toggleable__content pre {margin: 0.2em;color: black;border-radius: 0.25em;background-color: #f0f8ff;}#sk-container-id-2 input.sk-toggleable__control:checked~div.sk-toggleable__content {max-height: 200px;max-width: 100%;overflow: auto;}#sk-container-id-2 input.sk-toggleable__control:checked~label.sk-toggleable__label-arrow:before {content: \"▾\";}#sk-container-id-2 div.sk-estimator input.sk-toggleable__control:checked~label.sk-toggleable__label {background-color: #d4ebff;}#sk-container-id-2 div.sk-label input.sk-toggleable__control:checked~label.sk-toggleable__label {background-color: #d4ebff;}#sk-container-id-2 input.sk-hidden--visually {border: 0;clip: rect(1px 1px 1px 1px);clip: rect(1px, 1px, 1px, 1px);height: 1px;margin: -1px;overflow: hidden;padding: 0;position: absolute;width: 1px;}#sk-container-id-2 div.sk-estimator {font-family: monospace;background-color: #f0f8ff;border: 1px dotted black;border-radius: 0.25em;box-sizing: border-box;margin-bottom: 0.5em;}#sk-container-id-2 div.sk-estimator:hover {background-color: #d4ebff;}#sk-container-id-2 div.sk-parallel-item::after {content: \"\";width: 100%;border-bottom: 1px solid gray;flex-grow: 1;}#sk-container-id-2 div.sk-label:hover label.sk-toggleable__label {background-color: #d4ebff;}#sk-container-id-2 div.sk-serial::before {content: \"\";position: absolute;border-left: 1px solid gray;box-sizing: border-box;top: 0;bottom: 0;left: 50%;z-index: 0;}#sk-container-id-2 div.sk-serial {display: flex;flex-direction: column;align-items: center;background-color: white;padding-right: 0.2em;padding-left: 0.2em;position: relative;}#sk-container-id-2 div.sk-item {position: relative;z-index: 1;}#sk-container-id-2 div.sk-parallel {display: flex;align-items: stretch;justify-content: center;background-color: white;position: relative;}#sk-container-id-2 div.sk-item::before, #sk-container-id-2 div.sk-parallel-item::before {content: \"\";position: absolute;border-left: 1px solid gray;box-sizing: border-box;top: 0;bottom: 0;left: 50%;z-index: -1;}#sk-container-id-2 div.sk-parallel-item {display: flex;flex-direction: column;z-index: 1;position: relative;background-color: white;}#sk-container-id-2 div.sk-parallel-item:first-child::after {align-self: flex-end;width: 50%;}#sk-container-id-2 div.sk-parallel-item:last-child::after {align-self: flex-start;width: 50%;}#sk-container-id-2 div.sk-parallel-item:only-child::after {width: 0;}#sk-container-id-2 div.sk-dashed-wrapped {border: 1px dashed gray;margin: 0 0.4em 0.5em 0.4em;box-sizing: border-box;padding-bottom: 0.4em;background-color: white;}#sk-container-id-2 div.sk-label label {font-family: monospace;font-weight: bold;display: inline-block;line-height: 1.2em;}#sk-container-id-2 div.sk-label-container {text-align: center;}#sk-container-id-2 div.sk-container {/* jupyter's `normalize.less` sets `[hidden] { display: none; }` but bootstrap.min.css set `[hidden] { display: none !important; }` so we also need the `!important` here to be able to override the default hidden behavior on the sphinx rendered scikit-learn.org. See: https://github.com/scikit-learn/scikit-learn/issues/21755 */display: inline-block !important;position: relative;}#sk-container-id-2 div.sk-text-repr-fallback {display: none;}</style><div id=\"sk-container-id-2\" class=\"sk-top-container\"><div class=\"sk-text-repr-fallback\"><pre>PCA()</pre><b>In a Jupyter environment, please rerun this cell to show the HTML representation or trust the notebook. <br />On GitHub, the HTML representation is unable to render, please try loading this page with nbviewer.org.</b></div><div class=\"sk-container\" hidden><div class=\"sk-item\"><div class=\"sk-estimator sk-toggleable\"><input class=\"sk-toggleable__control sk-hidden--visually\" id=\"sk-estimator-id-2\" type=\"checkbox\" checked><label for=\"sk-estimator-id-2\" class=\"sk-toggleable__label sk-toggleable__label-arrow\">PCA</label><div class=\"sk-toggleable__content\"><pre>PCA()</pre></div></div></div></div></div>"
      ],
      "text/plain": [
       "PCA()"
      ]
     },
     "execution_count": 26,
     "metadata": {},
     "output_type": "execute_result"
    }
   ],
   "source": [
    "pca.fit(matrix)    # fir PCA on a matrix whch should be centerlized the values in a methed of PCA"
   ]
  },
  {
   "cell_type": "code",
   "execution_count": 27,
   "id": "aa0bab98",
   "metadata": {},
   "outputs": [
    {
     "data": {
      "text/plain": [
       "array([9.70464628e-02, 7.09596555e-02, 6.16907525e-02, 5.38941251e-02,\n",
       "       4.86881088e-02, 4.31222172e-02, 3.27192199e-02, 2.88388963e-02,\n",
       "       2.76202269e-02, 2.35699646e-02, 2.10918450e-02, 2.02298926e-02,\n",
       "       1.71582003e-02, 1.69210739e-02, 1.57863984e-02, 1.48294913e-02,\n",
       "       1.32456202e-02, 1.27689461e-02, 1.18726038e-02, 1.15268310e-02,\n",
       "       1.06616391e-02, 1.00671092e-02, 9.53574220e-03, 9.12541525e-03,\n",
       "       8.83402637e-03, 8.39317884e-03, 8.12578615e-03, 7.86365071e-03,\n",
       "       7.44731638e-03, 6.90857509e-03, 6.58092179e-03, 6.48147509e-03,\n",
       "       6.02613576e-03, 5.86581516e-03, 5.70020110e-03, 5.43626573e-03,\n",
       "       5.05785339e-03, 4.87857500e-03, 4.81428193e-03, 4.72265219e-03,\n",
       "       4.56746531e-03, 4.44835226e-03, 4.18500768e-03, 3.98214850e-03,\n",
       "       3.84974040e-03, 3.75102503e-03, 3.62008641e-03, 3.51590627e-03,\n",
       "       3.40057660e-03, 3.21873767e-03, 3.19016586e-03, 3.12804269e-03,\n",
       "       2.95981948e-03, 2.88954107e-03, 2.84129916e-03, 2.71435419e-03,\n",
       "       2.69520797e-03, 2.58472033e-03, 2.53769976e-03, 2.44781116e-03,\n",
       "       2.40505616e-03, 2.39262365e-03, 2.30407940e-03, 2.21531761e-03,\n",
       "       2.13720376e-03, 2.07225219e-03, 2.03042186e-03, 1.96782321e-03,\n",
       "       1.92852128e-03, 1.88632116e-03, 1.86976675e-03, 1.81082877e-03,\n",
       "       1.77562223e-03, 1.74897715e-03, 1.65757857e-03, 1.63893529e-03,\n",
       "       1.61461726e-03, 1.55116139e-03, 1.47613014e-03, 1.43175962e-03,\n",
       "       1.42093892e-03, 1.41153043e-03, 1.40174074e-03, 1.35736049e-03,\n",
       "       1.33846937e-03, 1.32396077e-03, 1.30156941e-03, 1.25872819e-03,\n",
       "       1.22828027e-03, 1.21584194e-03, 1.17034514e-03, 1.14873313e-03,\n",
       "       1.13243983e-03, 1.10885381e-03, 1.09001545e-03, 1.06923044e-03,\n",
       "       1.04195901e-03, 1.04006699e-03, 1.01256039e-03, 1.00527237e-03,\n",
       "       9.84014924e-04, 9.49688825e-04, 9.41339165e-04, 9.16164178e-04,\n",
       "       9.07848572e-04, 8.96870418e-04, 8.65389722e-04, 8.55170358e-04,\n",
       "       8.45618323e-04, 8.22493626e-04, 7.91582898e-04, 7.85936937e-04,\n",
       "       7.84604797e-04, 7.68829791e-04, 7.64014181e-04, 7.53089250e-04,\n",
       "       7.36781189e-04, 7.27130354e-04, 7.19649954e-04, 7.06814566e-04,\n",
       "       6.95423536e-04, 6.92160304e-04, 6.83301689e-04, 6.74058959e-04,\n",
       "       6.66877644e-04, 6.45264172e-04, 6.35592638e-04, 6.31644743e-04,\n",
       "       6.22936979e-04, 6.05288778e-04, 6.03590099e-04, 5.94480153e-04,\n",
       "       5.88306471e-04, 5.86518633e-04, 5.81339544e-04, 5.76833881e-04,\n",
       "       5.65367739e-04, 5.54764085e-04, 5.35169569e-04, 5.25925656e-04,\n",
       "       5.25092082e-04, 5.10255752e-04, 5.02969636e-04, 5.01076888e-04,\n",
       "       4.98712172e-04, 4.91068965e-04, 4.85537545e-04, 4.82845168e-04,\n",
       "       4.74012671e-04, 4.68350158e-04, 4.66598157e-04, 4.63326986e-04,\n",
       "       4.59292976e-04, 4.50378913e-04, 4.48806490e-04, 4.42709572e-04,\n",
       "       4.36673283e-04, 4.27447467e-04, 4.24978883e-04, 4.22011866e-04,\n",
       "       4.15512535e-04, 4.09636405e-04, 4.00822872e-04, 3.97881591e-04,\n",
       "       3.94081750e-04, 3.90494223e-04, 3.85851926e-04, 3.79775631e-04,\n",
       "       3.78898524e-04, 3.73938531e-04, 3.69413846e-04, 3.65149806e-04,\n",
       "       3.63812790e-04, 3.59874012e-04, 3.54641365e-04, 3.52897376e-04,\n",
       "       3.47287655e-04, 3.45956403e-04, 3.41448389e-04, 3.37645686e-04,\n",
       "       3.37099691e-04, 3.30226431e-04, 3.28356302e-04, 3.25906764e-04,\n",
       "       3.22943843e-04, 3.21268560e-04, 3.17298856e-04, 3.16174541e-04,\n",
       "       3.10942590e-04, 3.09536433e-04, 3.05965628e-04, 3.03274731e-04,\n",
       "       3.02409650e-04, 3.01568191e-04, 2.96706680e-04, 2.95746163e-04,\n",
       "       2.93471058e-04, 2.92671874e-04, 2.87751647e-04, 2.84344582e-04,\n",
       "       2.81965605e-04, 2.79069600e-04, 2.75735174e-04, 2.72474047e-04,\n",
       "       2.69434641e-04, 2.67706700e-04, 2.65119463e-04, 2.64327104e-04,\n",
       "       2.61882636e-04, 2.59450358e-04, 2.58556677e-04, 2.56922180e-04,\n",
       "       2.54736542e-04, 2.52812170e-04, 2.52289395e-04, 2.49562348e-04,\n",
       "       2.48516077e-04, 2.46074706e-04, 2.43954403e-04, 2.41862516e-04,\n",
       "       2.40967634e-04, 2.40443469e-04, 2.38269780e-04, 2.36852846e-04,\n",
       "       2.32577527e-04, 2.31308379e-04, 2.30127512e-04, 2.28086278e-04,\n",
       "       2.27582790e-04, 2.22775883e-04, 2.21862472e-04, 2.20441961e-04,\n",
       "       2.17866351e-04, 2.16655965e-04, 2.15163668e-04, 2.14194350e-04,\n",
       "       2.12855933e-04, 2.10372229e-04, 2.09754825e-04, 2.06961068e-04,\n",
       "       2.04724046e-04, 2.04270893e-04, 2.01313769e-04, 2.00984712e-04,\n",
       "       1.98996079e-04, 1.97630292e-04, 1.95826976e-04, 1.93728317e-04,\n",
       "       1.92858358e-04, 1.91773518e-04, 1.91541827e-04, 1.89077490e-04,\n",
       "       1.88012255e-04, 1.86392820e-04, 1.85847101e-04, 1.84617755e-04,\n",
       "       1.83695398e-04, 1.83145950e-04, 1.81880310e-04, 1.79865980e-04,\n",
       "       1.77555465e-04, 1.76688307e-04, 1.75961806e-04, 1.73882468e-04,\n",
       "       1.73428289e-04, 1.72645121e-04, 1.71385226e-04, 1.70036059e-04,\n",
       "       1.69300336e-04, 1.68005074e-04, 1.66921362e-04, 1.66452027e-04,\n",
       "       1.64205266e-04, 1.63481473e-04, 1.62657673e-04, 1.61890107e-04,\n",
       "       1.60890901e-04, 1.59843547e-04, 1.58832509e-04, 1.57351541e-04,\n",
       "       1.56737443e-04, 1.54896771e-04, 1.53808908e-04, 1.53067829e-04,\n",
       "       1.52038517e-04, 1.50010412e-04, 1.49664682e-04, 1.48228875e-04,\n",
       "       1.47673775e-04, 1.46127041e-04, 1.44652015e-04, 1.43233458e-04,\n",
       "       1.42722637e-04, 1.42069237e-04, 1.41748699e-04, 1.40491906e-04,\n",
       "       1.38237604e-04, 1.37972124e-04, 1.36840932e-04, 1.35975301e-04,\n",
       "       1.35795008e-04, 1.34508854e-04, 1.33617050e-04, 1.32342525e-04,\n",
       "       1.30701643e-04, 1.30189259e-04, 1.29162802e-04, 1.28111333e-04,\n",
       "       1.27515316e-04, 1.27217665e-04, 1.26338536e-04, 1.25859775e-04,\n",
       "       1.24730451e-04, 1.23562124e-04, 1.22621708e-04, 1.21567133e-04,\n",
       "       1.21026784e-04, 1.19967214e-04, 1.19421863e-04, 1.18948488e-04,\n",
       "       1.17871852e-04, 1.17060181e-04, 1.16494657e-04, 1.16098798e-04,\n",
       "       1.14530280e-04, 1.14216836e-04, 1.12406308e-04, 1.11275289e-04,\n",
       "       1.10539819e-04, 1.10431361e-04, 1.10058769e-04, 1.08974989e-04,\n",
       "       1.08322806e-04, 1.07595559e-04, 1.07004242e-04, 1.06204718e-04,\n",
       "       1.05928791e-04, 1.05049604e-04, 1.03420387e-04, 1.02250034e-04,\n",
       "       1.02045610e-04, 1.00845551e-04, 1.00264530e-04, 9.95975184e-05,\n",
       "       9.93726918e-05, 9.81247365e-05, 9.75949035e-05, 9.68309640e-05,\n",
       "       9.55241874e-05, 9.45446288e-05, 9.37979935e-05, 9.37225616e-05,\n",
       "       9.24928327e-05, 9.15873489e-05, 9.13965631e-05, 9.06739668e-05,\n",
       "       9.00749752e-05, 8.93702956e-05, 8.91557977e-05, 8.82616733e-05,\n",
       "       8.73277030e-05, 8.63095331e-05, 8.55751852e-05, 8.51576155e-05,\n",
       "       8.46018644e-05, 8.33126992e-05, 8.29777725e-05, 8.24987019e-05,\n",
       "       8.19114534e-05, 8.10901740e-05, 8.09029999e-05, 7.96085311e-05,\n",
       "       7.94682867e-05, 7.86259509e-05, 7.80613500e-05, 7.74252133e-05,\n",
       "       7.65901925e-05, 7.58037363e-05, 7.46094691e-05, 7.38457016e-05,\n",
       "       7.35690294e-05, 7.28154912e-05, 7.27138457e-05, 7.20665589e-05,\n",
       "       7.14162522e-05, 7.08056707e-05, 6.96515978e-05, 6.92448572e-05,\n",
       "       6.82994665e-05, 6.79383864e-05, 6.70585662e-05, 6.62343574e-05,\n",
       "       6.52424666e-05, 6.42023403e-05, 6.37102434e-05, 6.34534889e-05,\n",
       "       6.20327183e-05, 6.12865694e-05, 6.03188836e-05, 5.99281541e-05,\n",
       "       5.93681684e-05, 5.87299068e-05, 5.86205488e-05, 5.73860753e-05,\n",
       "       5.67252602e-05, 5.63736946e-05, 5.56165234e-05, 5.49011589e-05,\n",
       "       5.47388376e-05, 5.44729103e-05, 5.33300362e-05, 5.27554895e-05,\n",
       "       5.25475656e-05, 5.21982303e-05, 5.18519940e-05, 5.10147651e-05,\n",
       "       5.03810394e-05, 4.97553713e-05, 4.90672781e-05, 4.87007089e-05,\n",
       "       4.79421350e-05, 4.72083204e-05, 4.66605801e-05, 4.64426483e-05,\n",
       "       4.56015906e-05, 4.49093245e-05, 4.37133728e-05, 4.29264596e-05,\n",
       "       4.26088999e-05, 4.23855144e-05, 4.21741419e-05, 4.17846448e-05,\n",
       "       4.13869378e-05, 4.08460907e-05, 4.02867644e-05, 3.85887716e-05,\n",
       "       3.82519072e-05, 3.81418213e-05, 3.78837454e-05, 3.73239618e-05,\n",
       "       3.70741568e-05, 3.65900854e-05, 3.57648500e-05, 3.53578695e-05,\n",
       "       3.52530260e-05, 3.48699548e-05, 3.45506658e-05, 3.43835038e-05,\n",
       "       3.34025355e-05, 3.29991401e-05, 3.21984832e-05, 3.19392829e-05,\n",
       "       3.16407700e-05, 3.10130339e-05, 3.04091809e-05, 3.01559519e-05,\n",
       "       2.99062598e-05, 2.92128535e-05, 2.88664085e-05, 2.85183845e-05,\n",
       "       2.80650956e-05, 2.79073352e-05, 2.75172725e-05, 2.69452763e-05,\n",
       "       2.57725842e-05, 2.52920047e-05, 2.51629118e-05, 2.48285032e-05,\n",
       "       2.46875336e-05, 2.43564198e-05, 2.43140659e-05, 2.42489739e-05,\n",
       "       2.37257601e-05, 2.33512904e-05, 2.32170258e-05, 2.25183751e-05,\n",
       "       2.23651946e-05, 2.21184357e-05, 2.14323383e-05, 2.12954067e-05,\n",
       "       2.10674100e-05, 2.08562246e-05, 2.03770599e-05, 2.00897990e-05,\n",
       "       1.98644836e-05, 1.96244821e-05, 1.95146406e-05, 1.89595844e-05,\n",
       "       1.84494655e-05, 1.81865730e-05, 1.81024517e-05, 1.79572891e-05,\n",
       "       1.75883948e-05, 1.74100300e-05, 1.63583204e-05, 1.61733055e-05,\n",
       "       1.61083436e-05, 1.59039075e-05, 1.55391665e-05, 1.52059196e-05,\n",
       "       1.51670030e-05, 1.49795102e-05, 1.47584361e-05, 1.45782608e-05,\n",
       "       1.43546432e-05, 1.41771779e-05, 1.39622153e-05, 1.37897763e-05,\n",
       "       1.36745581e-05, 1.33334323e-05, 1.31039256e-05, 1.25487425e-05,\n",
       "       1.23813387e-05, 1.21852527e-05, 1.20015260e-05, 1.19125296e-05,\n",
       "       1.17766000e-05, 1.17307244e-05, 1.13788551e-05, 1.13168411e-05,\n",
       "       1.12463787e-05, 1.10025857e-05, 1.09370042e-05, 1.05700497e-05,\n",
       "       1.05383909e-05, 1.02320132e-05, 1.00218946e-05, 9.57494022e-06,\n",
       "       9.37247894e-06, 9.26034098e-06, 9.22226331e-06, 8.87163474e-06,\n",
       "       8.80977907e-06, 8.59227579e-06, 8.16028647e-06, 7.96996044e-06,\n",
       "       7.86717567e-06, 7.73393845e-06, 7.64386960e-06, 7.57751546e-06,\n",
       "       7.53194938e-06, 7.36859347e-06, 7.26926698e-06, 7.14867137e-06,\n",
       "       6.96160976e-06, 6.88113427e-06, 6.71536226e-06, 6.65580181e-06,\n",
       "       6.53806955e-06, 6.47015362e-06, 6.13998861e-06, 5.92739456e-06,\n",
       "       5.72724838e-06, 5.67734125e-06, 5.55497505e-06, 5.34940992e-06,\n",
       "       5.27073809e-06, 5.18255603e-06, 5.03921646e-06, 4.99554127e-06,\n",
       "       4.93269808e-06, 4.90087816e-06, 4.81067964e-06, 4.69601301e-06,\n",
       "       4.62327716e-06, 4.55457483e-06, 4.19829334e-06, 4.18489580e-06,\n",
       "       4.01271930e-06, 4.00155939e-06, 3.94520090e-06, 3.79975367e-06,\n",
       "       3.78085729e-06, 3.31217161e-06, 3.23788526e-06, 3.21258782e-06,\n",
       "       3.17520674e-06, 3.11964577e-06, 3.08215652e-06, 3.02587286e-06,\n",
       "       3.01222264e-06, 2.97069739e-06, 2.95594939e-06, 2.92457703e-06,\n",
       "       2.80382025e-06, 2.62851039e-06, 2.54993041e-06, 2.36169986e-06,\n",
       "       2.31564036e-06, 2.26295820e-06, 2.24476780e-06, 2.20774194e-06,\n",
       "       2.15120285e-06, 2.14665613e-06, 2.10203457e-06, 2.04176908e-06,\n",
       "       1.87920095e-06, 1.86506887e-06, 1.85219550e-06, 1.84445477e-06,\n",
       "       1.80036595e-06, 1.75435656e-06, 1.61843301e-06, 1.60541072e-06,\n",
       "       1.50353370e-06, 1.46134868e-06, 1.41334516e-06, 1.38835146e-06,\n",
       "       1.31821936e-06, 1.30330142e-06, 1.28466982e-06, 1.24684036e-06,\n",
       "       1.11920258e-06, 1.07885651e-06, 1.04802268e-06, 1.04216640e-06,\n",
       "       1.03575288e-06, 9.81298686e-07, 9.66431356e-07, 9.36869656e-07,\n",
       "       9.34146209e-07, 9.15732725e-07, 9.09108980e-07, 8.97647670e-07,\n",
       "       8.75288391e-07, 8.33049068e-07, 7.76122291e-07, 7.44893516e-07,\n",
       "       7.21821709e-07, 6.66486316e-07, 6.59677694e-07, 6.36891034e-07,\n",
       "       6.25523088e-07, 6.25357680e-07, 5.90919968e-07, 5.82884621e-07,\n",
       "       5.66868494e-07, 5.60951228e-07, 5.28203951e-07, 5.22241958e-07,\n",
       "       4.77478834e-07, 4.71664394e-07, 4.66129178e-07, 4.32272276e-07,\n",
       "       4.20411637e-07, 4.06461557e-07, 3.83881141e-07, 3.62129125e-07,\n",
       "       3.56659407e-07, 3.12299619e-07, 2.96829824e-07, 2.78413560e-07,\n",
       "       2.72680033e-07, 2.57476070e-07, 2.55544617e-07, 2.41286377e-07,\n",
       "       2.35704842e-07, 2.29938147e-07, 2.25350876e-07, 2.14994109e-07,\n",
       "       2.02528782e-07, 2.01435711e-07, 1.96159232e-07, 1.76728657e-07,\n",
       "       1.71228061e-07, 1.50993082e-07, 1.49705202e-07, 1.36594789e-07,\n",
       "       1.35301985e-07, 1.28053474e-07, 1.07047177e-07, 9.44878175e-08,\n",
       "       8.78312946e-08, 8.32639484e-08, 8.16744876e-08, 6.84885540e-08,\n",
       "       6.72353539e-08, 6.42103681e-08, 5.95883218e-08, 5.54018586e-08,\n",
       "       4.66110952e-08, 4.59351152e-08, 4.06512604e-08, 3.93580581e-08,\n",
       "       3.60346129e-08, 3.56936600e-08, 3.24012329e-08, 3.08759611e-08,\n",
       "       3.00466588e-08, 2.89069939e-08, 2.40249383e-08, 1.88463308e-08,\n",
       "       1.77257270e-08, 1.66296353e-08, 1.62046943e-08, 1.11498076e-08,\n",
       "       1.03067807e-08, 1.00983693e-08, 8.64468940e-09, 7.95773027e-09,\n",
       "       6.91633390e-09, 6.88520824e-09, 5.43212147e-09, 4.96584010e-09,\n",
       "       3.69812804e-09, 3.02030462e-09, 1.94004862e-09, 8.67374889e-10,\n",
       "       7.08185345e-10, 6.92217023e-10, 2.53496685e-10, 2.36218211e-10,\n",
       "       1.53058363e-11, 1.91390401e-32, 3.46365515e-33, 3.06485609e-33,\n",
       "       2.52917488e-33, 1.83239871e-33, 1.62718984e-33, 1.48374459e-33,\n",
       "       1.06454662e-33, 9.27213323e-34, 5.06066901e-34, 4.64104234e-34,\n",
       "       4.06978148e-34, 3.62267222e-34, 3.62267222e-34, 3.62267222e-34,\n",
       "       3.62267222e-34, 3.62267222e-34, 3.62267222e-34, 3.62267222e-34,\n",
       "       3.62267222e-34, 3.62267222e-34, 3.62267222e-34, 3.62267222e-34,\n",
       "       3.62267222e-34, 3.62267222e-34, 3.62267222e-34, 3.62267222e-34,\n",
       "       3.62267222e-34, 3.62267222e-34, 3.62267222e-34, 3.62267222e-34,\n",
       "       3.62267222e-34, 3.62267222e-34, 3.62267222e-34, 3.62267222e-34,\n",
       "       3.62267222e-34, 3.62267222e-34, 3.62267222e-34, 3.62267222e-34,\n",
       "       3.62267222e-34, 3.62267222e-34, 3.62267222e-34, 3.62267222e-34,\n",
       "       3.62267222e-34, 3.62267222e-34, 3.62267222e-34, 3.62267222e-34,\n",
       "       3.62267222e-34, 3.62267222e-34, 3.62267222e-34, 3.62267222e-34,\n",
       "       3.62267222e-34, 3.62267222e-34, 3.62267222e-34, 3.62267222e-34,\n",
       "       3.62267222e-34, 3.62267222e-34, 3.62267222e-34, 3.62267222e-34,\n",
       "       3.62267222e-34, 3.62267222e-34, 3.62267222e-34, 3.62267222e-34,\n",
       "       3.62267222e-34, 3.62267222e-34, 3.62267222e-34, 3.62267222e-34,\n",
       "       3.62267222e-34, 2.36006530e-34, 1.39661315e-34, 5.04824803e-35,\n",
       "       4.75163845e-35])"
      ]
     },
     "execution_count": 27,
     "metadata": {},
     "output_type": "execute_result"
    }
   ],
   "source": [
    "pca.explained_variance_ratio_       # #Specify the ratio of variance matrix"
   ]
  },
  {
   "cell_type": "code",
   "execution_count": 28,
   "id": "51278f4f",
   "metadata": {},
   "outputs": [
    {
     "data": {
      "text/plain": [
       "(785,)"
      ]
     },
     "execution_count": 28,
     "metadata": {},
     "output_type": "execute_result"
    }
   ],
   "source": [
    "pca.explained_variance_ratio_.shape   #Specify the dimension of the variance ratio of the matrix"
   ]
  },
  {
   "cell_type": "code",
   "execution_count": 29,
   "id": "9489ec46",
   "metadata": {},
   "outputs": [
    {
     "data": {
      "text/plain": [
       "array([3.32724858e+05, 2.43285954e+05, 2.11507419e+05, 1.84776597e+05,\n",
       "       1.66927713e+05, 1.47844993e+05, 1.12178203e+05, 9.88744711e+04,\n",
       "       9.46962494e+04, 8.08098812e+04, 7.23136211e+04, 6.93584076e+04,\n",
       "       5.88270770e+04, 5.80140866e+04, 5.41238395e+04, 5.08430731e+04,\n",
       "       4.54127537e+04, 4.37784712e+04, 4.07053518e+04, 3.95198661e+04,\n",
       "       3.65535462e+04, 3.45151939e+04, 3.26933963e+04, 3.12865859e+04,\n",
       "       3.02875559e+04, 2.87761053e+04, 2.78593466e+04, 2.69606124e+04,\n",
       "       2.55332055e+04, 2.36861251e+04, 2.25627622e+04, 2.22218081e+04,\n",
       "       2.06606723e+04, 2.01110114e+04, 1.95432017e+04, 1.86382964e+04,\n",
       "       1.73409056e+04, 1.67262477e+04, 1.65058182e+04, 1.61916646e+04,\n",
       "       1.56596047e+04, 1.52512243e+04, 1.43483445e+04, 1.36528396e+04,\n",
       "       1.31988770e+04, 1.28604303e+04, 1.24115058e+04, 1.20543230e+04,\n",
       "       1.16589140e+04, 1.10354773e+04, 1.09375185e+04, 1.07245285e+04,\n",
       "       1.01477734e+04, 9.90682313e+03, 9.74142519e+03, 9.30619299e+03,\n",
       "       9.24054997e+03, 8.86174188e+03, 8.70053135e+03, 8.39234730e+03,\n",
       "       8.24576132e+03, 8.20313631e+03, 7.89956138e+03, 7.59524061e+03,\n",
       "       7.32742645e+03, 7.10473927e+03, 6.96132352e+03, 6.74670337e+03,\n",
       "       6.61195627e+03, 6.46727271e+03, 6.41051574e+03, 6.20844623e+03,\n",
       "       6.08774021e+03, 5.99638726e+03, 5.68302622e+03, 5.61910753e+03,\n",
       "       5.53573292e+03, 5.31817376e+03, 5.06092830e+03, 4.90880349e+03,\n",
       "       4.87170460e+03, 4.83944748e+03, 4.80588343e+03, 4.65372526e+03,\n",
       "       4.58895687e+03, 4.53921395e+03, 4.46244495e+03, 4.31556335e+03,\n",
       "       4.21117232e+03, 4.16852739e+03, 4.01254108e+03, 3.93844407e+03,\n",
       "       3.88258232e+03, 3.80171741e+03, 3.73712989e+03, 3.66586823e+03,\n",
       "       3.57236783e+03, 3.56588104e+03, 3.47157437e+03, 3.44658732e+03,\n",
       "       3.37370591e+03, 3.25601851e+03, 3.22739161e+03, 3.14107889e+03,\n",
       "       3.11256874e+03, 3.07493002e+03, 2.96699811e+03, 2.93196091e+03,\n",
       "       2.89921166e+03, 2.81992838e+03, 2.71395061e+03, 2.69459337e+03,\n",
       "       2.69002612e+03, 2.63594134e+03, 2.61943096e+03, 2.58197472e+03,\n",
       "       2.52606235e+03, 2.49297436e+03, 2.46732773e+03, 2.42332146e+03,\n",
       "       2.38426719e+03, 2.37307916e+03, 2.34270730e+03, 2.31101850e+03,\n",
       "       2.28639729e+03, 2.21229526e+03, 2.17913630e+03, 2.16560090e+03,\n",
       "       2.13574624e+03, 2.07523919e+03, 2.06941525e+03, 2.03818170e+03,\n",
       "       2.01701516e+03, 2.01088554e+03, 1.99312898e+03, 1.97768126e+03,\n",
       "       1.93836947e+03, 1.90201472e+03, 1.83483471e+03, 1.80314185e+03,\n",
       "       1.80028394e+03, 1.74941742e+03, 1.72443689e+03, 1.71794758e+03,\n",
       "       1.70984013e+03, 1.68363531e+03, 1.66467077e+03, 1.65543993e+03,\n",
       "       1.62515762e+03, 1.60574363e+03, 1.59973688e+03, 1.58852163e+03,\n",
       "       1.57469098e+03, 1.54412902e+03, 1.53873795e+03, 1.51783460e+03,\n",
       "       1.49713912e+03, 1.46550831e+03, 1.45704474e+03, 1.44687229e+03,\n",
       "       1.42458926e+03, 1.40444289e+03, 1.37422559e+03, 1.36414138e+03,\n",
       "       1.35111359e+03, 1.33881371e+03, 1.32289754e+03, 1.30206490e+03,\n",
       "       1.29905773e+03, 1.28205234e+03, 1.26653941e+03, 1.25192010e+03,\n",
       "       1.24733613e+03, 1.23383198e+03, 1.21589179e+03, 1.20991251e+03,\n",
       "       1.19067952e+03, 1.18611531e+03, 1.17065953e+03, 1.15762192e+03,\n",
       "       1.15574997e+03, 1.13218493e+03, 1.12577317e+03, 1.11737490e+03,\n",
       "       1.10721649e+03, 1.10147277e+03, 1.08786260e+03, 1.08400787e+03,\n",
       "       1.06607007e+03, 1.06124904e+03, 1.04900650e+03, 1.03978073e+03,\n",
       "       1.03681479e+03, 1.03392984e+03, 1.01726209e+03, 1.01396895e+03,\n",
       "       1.00616873e+03, 1.00342872e+03, 9.86559664e+02, 9.74878507e+02,\n",
       "       9.66722157e+02, 9.56793172e+02, 9.45361056e+02, 9.34180245e+02,\n",
       "       9.23759609e+02, 9.17835345e+02, 9.08964976e+02, 9.06248364e+02,\n",
       "       8.97867479e+02, 8.89528386e+02, 8.86464391e+02, 8.80860502e+02,\n",
       "       8.73367017e+02, 8.66769285e+02, 8.64976948e+02, 8.55627235e+02,\n",
       "       8.52040086e+02, 8.43669817e+02, 8.36400335e+02, 8.29228277e+02,\n",
       "       8.26160164e+02, 8.24363060e+02, 8.16910542e+02, 8.12052568e+02,\n",
       "       7.97394592e+02, 7.93043303e+02, 7.88994690e+02, 7.81996297e+02,\n",
       "       7.80270083e+02, 7.63789546e+02, 7.60657908e+02, 7.55787671e+02,\n",
       "       7.46957163e+02, 7.42807343e+02, 7.37690984e+02, 7.34367670e+02,\n",
       "       7.29778893e+02, 7.21263486e+02, 7.19146707e+02, 7.09568281e+02,\n",
       "       7.01898627e+02, 7.00344989e+02, 6.90206457e+02, 6.89078279e+02,\n",
       "       6.82260230e+02, 6.77577614e+02, 6.71394927e+02, 6.64199650e+02,\n",
       "       6.61216986e+02, 6.57497601e+02, 6.56703246e+02, 6.48254240e+02,\n",
       "       6.44602070e+02, 6.39049821e+02, 6.37178814e+02, 6.32963991e+02,\n",
       "       6.29801680e+02, 6.27917891e+02, 6.23578629e+02, 6.16672475e+02,\n",
       "       6.08750852e+02, 6.05777791e+02, 6.03286974e+02, 5.96157940e+02,\n",
       "       5.94600783e+02, 5.91915683e+02, 5.87596119e+02, 5.82970485e+02,\n",
       "       5.80448052e+02, 5.76007232e+02, 5.72291714e+02, 5.70682591e+02,\n",
       "       5.62979548e+02, 5.60498016e+02, 5.57673609e+02, 5.55042002e+02,\n",
       "       5.51616211e+02, 5.48025346e+02, 5.44558993e+02, 5.39481476e+02,\n",
       "       5.37376035e+02, 5.31065270e+02, 5.27335522e+02, 5.24794723e+02,\n",
       "       5.21265715e+02, 5.14312337e+02, 5.13126995e+02, 5.08204317e+02,\n",
       "       5.06301151e+02, 5.00998157e+02, 4.95941015e+02, 4.91077476e+02,\n",
       "       4.89326118e+02, 4.87085931e+02, 4.85986962e+02, 4.81678035e+02,\n",
       "       4.73949136e+02, 4.73038933e+02, 4.69160630e+02, 4.66192806e+02,\n",
       "       4.65574667e+02, 4.61165074e+02, 4.58107516e+02, 4.53737791e+02,\n",
       "       4.48112010e+02, 4.46355298e+02, 4.42836079e+02, 4.39231104e+02,\n",
       "       4.37187652e+02, 4.36167155e+02, 4.33153049e+02, 4.31511615e+02,\n",
       "       4.27639714e+02, 4.23634092e+02, 4.20409866e+02, 4.16794244e+02,\n",
       "       4.14941651e+02, 4.11308903e+02, 4.09439162e+02, 4.07816190e+02,\n",
       "       4.04124933e+02, 4.01342109e+02, 3.99403203e+02, 3.98045999e+02,\n",
       "       3.92668317e+02, 3.91593668e+02, 3.85386254e+02, 3.81508545e+02,\n",
       "       3.78986976e+02, 3.78615127e+02, 3.77337692e+02, 3.73621939e+02,\n",
       "       3.71385924e+02, 3.68892549e+02, 3.66865211e+02, 3.64124036e+02,\n",
       "       3.63178018e+02, 3.60163715e+02, 3.54577926e+02, 3.50565358e+02,\n",
       "       3.49864490e+02, 3.45750072e+02, 3.43758038e+02, 3.41471180e+02,\n",
       "       3.40700359e+02, 3.36421731e+02, 3.34605193e+02, 3.31986018e+02,\n",
       "       3.27505720e+02, 3.24147293e+02, 3.21587445e+02, 3.21328826e+02,\n",
       "       3.17112687e+02, 3.14008226e+02, 3.13354115e+02, 3.10876686e+02,\n",
       "       3.08823036e+02, 3.06407035e+02, 3.05671626e+02, 3.02606111e+02,\n",
       "       2.99403984e+02, 2.95913177e+02, 2.93395457e+02, 2.91963815e+02,\n",
       "       2.90058416e+02, 2.85638499e+02, 2.84490199e+02, 2.82847700e+02,\n",
       "       2.80834313e+02, 2.78018547e+02, 2.77376819e+02, 2.72938718e+02,\n",
       "       2.72457889e+02, 2.69569931e+02, 2.67634191e+02, 2.65453190e+02,\n",
       "       2.62590312e+02, 2.59893938e+02, 2.55799380e+02, 2.53180795e+02,\n",
       "       2.52232221e+02, 2.49648707e+02, 2.49300214e+02, 2.47080984e+02,\n",
       "       2.44851401e+02, 2.42758016e+02, 2.38801264e+02, 2.37406749e+02,\n",
       "       2.34165467e+02, 2.32927500e+02, 2.29911027e+02, 2.27085218e+02,\n",
       "       2.23684509e+02, 2.20118425e+02, 2.18431265e+02, 2.17550980e+02,\n",
       "       2.12679852e+02, 2.10121672e+02, 2.06803951e+02, 2.05464331e+02,\n",
       "       2.03544414e+02, 2.01356127e+02, 2.00981192e+02, 1.96748786e+02,\n",
       "       1.94483174e+02, 1.93277828e+02, 1.90681858e+02, 1.88229223e+02,\n",
       "       1.87672703e+02, 1.86760968e+02, 1.82842612e+02, 1.80872772e+02,\n",
       "       1.80159903e+02, 1.78962203e+02, 1.77775128e+02, 1.74904680e+02,\n",
       "       1.72731944e+02, 1.70586834e+02, 1.68227699e+02, 1.66970912e+02,\n",
       "       1.64370133e+02, 1.61854242e+02, 1.59976309e+02, 1.59229127e+02,\n",
       "       1.56345552e+02, 1.53972109e+02, 1.49871776e+02, 1.47173836e+02,\n",
       "       1.46085079e+02, 1.45319199e+02, 1.44594506e+02, 1.43259111e+02,\n",
       "       1.41895568e+02, 1.40041268e+02, 1.38123612e+02, 1.32302025e+02,\n",
       "       1.31147082e+02, 1.30769651e+02, 1.29884835e+02, 1.27965611e+02,\n",
       "       1.27109152e+02, 1.25449507e+02, 1.22620179e+02, 1.21224842e+02,\n",
       "       1.20865385e+02, 1.19552021e+02, 1.18457335e+02, 1.17884218e+02,\n",
       "       1.14520958e+02, 1.13137912e+02, 1.10392851e+02, 1.09504180e+02,\n",
       "       1.08480726e+02, 1.06328526e+02, 1.04258209e+02, 1.03390011e+02,\n",
       "       1.02533938e+02, 1.00156587e+02, 9.89687970e+01, 9.77755929e+01,\n",
       "       9.62214867e+01, 9.56806036e+01, 9.43432695e+01, 9.23821742e+01,\n",
       "       8.83615865e+01, 8.67139144e+01, 8.62713179e+01, 8.51247946e+01,\n",
       "       8.46414785e+01, 8.35062512e+01, 8.33610406e+01, 8.31378720e+01,\n",
       "       8.13440276e+01, 8.00601540e+01, 7.95998266e+01, 7.72044949e+01,\n",
       "       7.66793141e+01, 7.58332984e+01, 7.34810061e+01, 7.30115344e+01,\n",
       "       7.22298455e+01, 7.15057939e+01, 6.98629724e+01, 6.88780953e+01,\n",
       "       6.81055992e+01, 6.72827512e+01, 6.69061585e+01, 6.50031421e+01,\n",
       "       6.32541941e+01, 6.23528643e+01, 6.20644535e+01, 6.15667618e+01,\n",
       "       6.03020036e+01, 5.96904780e+01, 5.60846801e+01, 5.54503545e+01,\n",
       "       5.52276319e+01, 5.45267206e+01, 5.32762022e+01, 5.21336615e+01,\n",
       "       5.20002355e+01, 5.13574144e+01, 5.05994594e+01, 4.99817264e+01,\n",
       "       4.92150512e+01, 4.86066092e+01, 4.78696075e+01, 4.72783988e+01,\n",
       "       4.68833718e+01, 4.57138184e+01, 4.49269522e+01, 4.30235006e+01,\n",
       "       4.24495549e+01, 4.17772720e+01, 4.11473631e+01, 4.08422378e+01,\n",
       "       4.03762018e+01, 4.02189167e+01, 3.90125290e+01, 3.87999133e+01,\n",
       "       3.85583324e+01, 3.77224852e+01, 3.74976382e+01, 3.62395308e+01,\n",
       "       3.61309884e+01, 3.50805689e+01, 3.43601750e+01, 3.28277871e+01,\n",
       "       3.21336464e+01, 3.17491802e+01, 3.16186305e+01, 3.04164966e+01,\n",
       "       3.02044238e+01, 2.94587114e+01, 2.79776313e+01, 2.73250964e+01,\n",
       "       2.69726977e+01, 2.65158924e+01, 2.62070904e+01, 2.59795945e+01,\n",
       "       2.58233707e+01, 2.52633032e+01, 2.49227612e+01, 2.45092979e+01,\n",
       "       2.38679551e+01, 2.35920440e+01, 2.30236928e+01, 2.28194892e+01,\n",
       "       2.24158429e+01, 2.21829924e+01, 2.10510180e+01, 2.03221370e+01,\n",
       "       1.96359336e+01, 1.94648265e+01, 1.90452926e+01, 1.83405103e+01,\n",
       "       1.80707831e+01, 1.77684500e+01, 1.72770087e+01, 1.71272678e+01,\n",
       "       1.69118092e+01, 1.68027143e+01, 1.64934677e+01, 1.61003319e+01,\n",
       "       1.58509562e+01, 1.56154096e+01, 1.43938946e+01, 1.43479610e+01,\n",
       "       1.37576519e+01, 1.37193901e+01, 1.35261644e+01, 1.30274970e+01,\n",
       "       1.29627105e+01, 1.13558165e+01, 1.11011250e+01, 1.10143924e+01,\n",
       "       1.08862310e+01, 1.06957396e+01, 1.05672073e+01, 1.03742381e+01,\n",
       "       1.03274382e+01, 1.01850684e+01, 1.01345048e+01, 1.00269443e+01,\n",
       "       9.61292836e+00, 9.01187658e+00, 8.74246427e+00, 8.09711376e+00,\n",
       "       7.93919825e+00, 7.75857691e+00, 7.69621092e+00, 7.56926736e+00,\n",
       "       7.37542246e+00, 7.35983397e+00, 7.20684847e+00, 7.00022758e+00,\n",
       "       6.44286100e+00, 6.39440898e+00, 6.35027249e+00, 6.32373332e+00,\n",
       "       6.17257431e+00, 6.01483062e+00, 5.54881524e+00, 5.50416819e+00,\n",
       "       5.15488172e+00, 5.01024991e+00, 4.84566933e+00, 4.75997816e+00,\n",
       "       4.51952947e+00, 4.46838317e+00, 4.40450451e+00, 4.27480581e+00,\n",
       "       3.83719828e+00, 3.69887132e+00, 3.59315719e+00, 3.57307888e+00,\n",
       "       3.55109008e+00, 3.36439326e+00, 3.31342046e+00, 3.21206785e+00,\n",
       "       3.20273048e+00, 3.13959965e+00, 3.11689007e+00, 3.07759484e+00,\n",
       "       3.00093581e+00, 2.85611783e+00, 2.66094375e+00, 2.55387555e+00,\n",
       "       2.47477361e+00, 2.28505562e+00, 2.26171218e+00, 2.18358787e+00,\n",
       "       2.14461274e+00, 2.14404564e+00, 2.02597556e+00, 1.99842629e+00,\n",
       "       1.94351482e+00, 1.92322741e+00, 1.81095301e+00, 1.79051226e+00,\n",
       "       1.63704140e+00, 1.61710653e+00, 1.59812898e+00, 1.48205022e+00,\n",
       "       1.44138589e+00, 1.39355789e+00, 1.31614068e+00, 1.24156366e+00,\n",
       "       1.22281067e+00, 1.07072266e+00, 1.01768429e+00, 9.54543931e-01,\n",
       "       9.34886473e-01, 8.82759520e-01, 8.76137510e-01, 8.27252980e-01,\n",
       "       8.08116627e-01, 7.88345450e-01, 7.72617941e-01, 7.37109653e-01,\n",
       "       6.94372141e-01, 6.90624537e-01, 6.72534069e-01, 6.05916131e-01,\n",
       "       5.87057278e-01, 5.17681432e-01, 5.13265919e-01, 4.68316726e-01,\n",
       "       4.63884332e-01, 4.39032734e-01, 3.67012417e-01, 3.23952514e-01,\n",
       "       3.01130553e-01, 2.85471357e-01, 2.80021873e-01, 2.34813755e-01,\n",
       "       2.30517145e-01, 2.20145949e-01, 2.04299212e-01, 1.89945877e-01,\n",
       "       1.59806649e-01, 1.57489044e-01, 1.39373290e-01, 1.34939532e-01,\n",
       "       1.23545064e-01, 1.22376103e-01, 1.11087981e-01, 1.05858570e-01,\n",
       "       1.03015298e-01, 9.91079443e-02, 8.23697634e-02, 6.46148512e-02,\n",
       "       6.07728488e-02, 5.70148864e-02, 5.55579715e-02, 3.82272371e-02,\n",
       "       3.53369102e-02, 3.46223693e-02, 2.96384120e-02, 2.72831651e-02,\n",
       "       2.37127263e-02, 2.36060117e-02, 1.86240878e-02, 1.70254370e-02,\n",
       "       1.26790724e-02, 1.03551474e-02, 6.65147788e-03, 2.97380428e-03,\n",
       "       2.42802119e-03, 2.37327362e-03, 8.69116154e-04, 8.09876717e-04,\n",
       "       5.24762270e-05, 6.56184081e-26, 1.18751795e-26, 1.05078926e-26,\n",
       "       8.67130369e-27, 6.28239898e-27, 5.57883813e-27, 5.08703453e-27,\n",
       "       3.64980972e-27, 3.17896101e-27, 1.73505590e-27, 1.59118643e-27,\n",
       "       1.39532903e-27, 1.24203713e-27, 1.24203713e-27, 1.24203713e-27,\n",
       "       1.24203713e-27, 1.24203713e-27, 1.24203713e-27, 1.24203713e-27,\n",
       "       1.24203713e-27, 1.24203713e-27, 1.24203713e-27, 1.24203713e-27,\n",
       "       1.24203713e-27, 1.24203713e-27, 1.24203713e-27, 1.24203713e-27,\n",
       "       1.24203713e-27, 1.24203713e-27, 1.24203713e-27, 1.24203713e-27,\n",
       "       1.24203713e-27, 1.24203713e-27, 1.24203713e-27, 1.24203713e-27,\n",
       "       1.24203713e-27, 1.24203713e-27, 1.24203713e-27, 1.24203713e-27,\n",
       "       1.24203713e-27, 1.24203713e-27, 1.24203713e-27, 1.24203713e-27,\n",
       "       1.24203713e-27, 1.24203713e-27, 1.24203713e-27, 1.24203713e-27,\n",
       "       1.24203713e-27, 1.24203713e-27, 1.24203713e-27, 1.24203713e-27,\n",
       "       1.24203713e-27, 1.24203713e-27, 1.24203713e-27, 1.24203713e-27,\n",
       "       1.24203713e-27, 1.24203713e-27, 1.24203713e-27, 1.24203713e-27,\n",
       "       1.24203713e-27, 1.24203713e-27, 1.24203713e-27, 1.24203713e-27,\n",
       "       1.24203713e-27, 1.24203713e-27, 1.24203713e-27, 1.24203713e-27,\n",
       "       1.24203713e-27, 8.09150966e-28, 4.78830345e-28, 1.73079735e-28,\n",
       "       1.62910443e-28])"
      ]
     },
     "execution_count": 29,
     "metadata": {},
     "output_type": "execute_result"
    }
   ],
   "source": [
    "pca.explained_variance_    #Specify the variance matrix"
   ]
  },
  {
   "cell_type": "code",
   "execution_count": 30,
   "id": "3ea77695",
   "metadata": {},
   "outputs": [],
   "source": [
    "import matplotlib.pyplot as plt"
   ]
  },
  {
   "cell_type": "code",
   "execution_count": 31,
   "id": "752a58ba",
   "metadata": {},
   "outputs": [
    {
     "data": {
      "text/plain": [
       "<BarContainer object of 20 artists>"
      ]
     },
     "execution_count": 31,
     "metadata": {},
     "output_type": "execute_result"
    },
    {
     "data": {
      "image/png": "[encoded data removed]",
      "text/plain": [
       "<Figure size 640x480 with 1 Axes>"
      ]
     },
     "metadata": {},
     "output_type": "display_data"
    }
   ],
   "source": [
    "plt.bar(range(20),pca.explained_variance_ratio_[:20]) # extract the first 20 of the features in dataset"
   ]
  },
  {
   "cell_type": "code",
   "execution_count": 32,
   "id": "da1e021d",
   "metadata": {},
   "outputs": [
    {
     "name": "stderr",
     "output_type": "stream",
     "text": [
      "C:\\ProgramData\\anaconda3\\Lib\\site-packages\\sklearn\\base.py:457: UserWarning: X has feature names, but PCA was fitted without feature names\n",
      "  warnings.warn(\n"
     ]
    }
   ],
   "source": [
    "z=pca.transform(data)        # This method of the PCA model is used to transform the original data into the principal component space."
   ]
  },
  {
   "cell_type": "code",
   "execution_count": 33,
   "id": "0db078cf",
   "metadata": {},
   "outputs": [
    {
     "data": {
      "text/plain": [
       "<matplotlib.collections.PathCollection at 0x270dabc7090>"
      ]
     },
     "execution_count": 33,
     "metadata": {},
     "output_type": "execute_result"
    },
    {
     "data": {
      "image/png": "[encoded data removed]",
      "text/plain": [
       "<Figure size 640x480 with 1 Axes>"
      ]
     },
     "metadata": {},
     "output_type": "display_data"
    }
   ],
   "source": [
    "plt.scatter(z[:,0],z[:,1])   #creates a scatter plot using the transformed data z, specifically using the first two principal components"
   ]
  },
  {
   "cell_type": "code",
   "execution_count": 34,
   "id": "fcce2df8",
   "metadata": {},
   "outputs": [
    {
     "data": {
      "text/html": [
       "<style>#sk-container-id-3 {color: black;}#sk-container-id-3 pre{padding: 0;}#sk-container-id-3 div.sk-toggleable {background-color: white;}#sk-container-id-3 label.sk-toggleable__label {cursor: pointer;display: block;width: 100%;margin-bottom: 0;padding: 0.3em;box-sizing: border-box;text-align: center;}#sk-container-id-3 label.sk-toggleable__label-arrow:before {content: \"▸\";float: left;margin-right: 0.25em;color: #696969;}#sk-container-id-3 label.sk-toggleable__label-arrow:hover:before {color: black;}#sk-container-id-3 div.sk-estimator:hover label.sk-toggleable__label-arrow:before {color: black;}#sk-container-id-3 div.sk-toggleable__content {max-height: 0;max-width: 0;overflow: hidden;text-align: left;background-color: #f0f8ff;}#sk-container-id-3 div.sk-toggleable__content pre {margin: 0.2em;color: black;border-radius: 0.25em;background-color: #f0f8ff;}#sk-container-id-3 input.sk-toggleable__control:checked~div.sk-toggleable__content {max-height: 200px;max-width: 100%;overflow: auto;}#sk-container-id-3 input.sk-toggleable__control:checked~label.sk-toggleable__label-arrow:before {content: \"▾\";}#sk-container-id-3 div.sk-estimator input.sk-toggleable__control:checked~label.sk-toggleable__label {background-color: #d4ebff;}#sk-container-id-3 div.sk-label input.sk-toggleable__control:checked~label.sk-toggleable__label {background-color: #d4ebff;}#sk-container-id-3 input.sk-hidden--visually {border: 0;clip: rect(1px 1px 1px 1px);clip: rect(1px, 1px, 1px, 1px);height: 1px;margin: -1px;overflow: hidden;padding: 0;position: absolute;width: 1px;}#sk-container-id-3 div.sk-estimator {font-family: monospace;background-color: #f0f8ff;border: 1px dotted black;border-radius: 0.25em;box-sizing: border-box;margin-bottom: 0.5em;}#sk-container-id-3 div.sk-estimator:hover {background-color: #d4ebff;}#sk-container-id-3 div.sk-parallel-item::after {content: \"\";width: 100%;border-bottom: 1px solid gray;flex-grow: 1;}#sk-container-id-3 div.sk-label:hover label.sk-toggleable__label {background-color: #d4ebff;}#sk-container-id-3 div.sk-serial::before {content: \"\";position: absolute;border-left: 1px solid gray;box-sizing: border-box;top: 0;bottom: 0;left: 50%;z-index: 0;}#sk-container-id-3 div.sk-serial {display: flex;flex-direction: column;align-items: center;background-color: white;padding-right: 0.2em;padding-left: 0.2em;position: relative;}#sk-container-id-3 div.sk-item {position: relative;z-index: 1;}#sk-container-id-3 div.sk-parallel {display: flex;align-items: stretch;justify-content: center;background-color: white;position: relative;}#sk-container-id-3 div.sk-item::before, #sk-container-id-3 div.sk-parallel-item::before {content: \"\";position: absolute;border-left: 1px solid gray;box-sizing: border-box;top: 0;bottom: 0;left: 50%;z-index: -1;}#sk-container-id-3 div.sk-parallel-item {display: flex;flex-direction: column;z-index: 1;position: relative;background-color: white;}#sk-container-id-3 div.sk-parallel-item:first-child::after {align-self: flex-end;width: 50%;}#sk-container-id-3 div.sk-parallel-item:last-child::after {align-self: flex-start;width: 50%;}#sk-container-id-3 div.sk-parallel-item:only-child::after {width: 0;}#sk-container-id-3 div.sk-dashed-wrapped {border: 1px dashed gray;margin: 0 0.4em 0.5em 0.4em;box-sizing: border-box;padding-bottom: 0.4em;background-color: white;}#sk-container-id-3 div.sk-label label {font-family: monospace;font-weight: bold;display: inline-block;line-height: 1.2em;}#sk-container-id-3 div.sk-label-container {text-align: center;}#sk-container-id-3 div.sk-container {/* jupyter's `normalize.less` sets `[hidden] { display: none; }` but bootstrap.min.css set `[hidden] { display: none !important; }` so we also need the `!important` here to be able to override the default hidden behavior on the sphinx rendered scikit-learn.org. See: https://github.com/scikit-learn/scikit-learn/issues/21755 */display: inline-block !important;position: relative;}#sk-container-id-3 div.sk-text-repr-fallback {display: none;}</style><div id=\"sk-container-id-3\" class=\"sk-top-container\"><div class=\"sk-text-repr-fallback\"><pre>PCA(n_components=3)</pre><b>In a Jupyter environment, please rerun this cell to show the HTML representation or trust the notebook. <br />On GitHub, the HTML representation is unable to render, please try loading this page with nbviewer.org.</b></div><div class=\"sk-container\" hidden><div class=\"sk-item\"><div class=\"sk-estimator sk-toggleable\"><input class=\"sk-toggleable__control sk-hidden--visually\" id=\"sk-estimator-id-3\" type=\"checkbox\" checked><label for=\"sk-estimator-id-3\" class=\"sk-toggleable__label sk-toggleable__label-arrow\">PCA</label><div class=\"sk-toggleable__content\"><pre>PCA(n_components=3)</pre></div></div></div></div></div>"
      ],
      "text/plain": [
       "PCA(n_components=3)"
      ]
     },
     "execution_count": 34,
     "metadata": {},
     "output_type": "execute_result"
    }
   ],
   "source": [
    "pca_1=PCA(n_components=3)   # example by considering 3 feature\n",
    "pca_1"
   ]
  },
  {
   "cell_type": "code",
   "execution_count": 35,
   "id": "243dd23b",
   "metadata": {},
   "outputs": [
    {
     "data": {
      "text/html": [
       "<style>#sk-container-id-4 {color: black;}#sk-container-id-4 pre{padding: 0;}#sk-container-id-4 div.sk-toggleable {background-color: white;}#sk-container-id-4 label.sk-toggleable__label {cursor: pointer;display: block;width: 100%;margin-bottom: 0;padding: 0.3em;box-sizing: border-box;text-align: center;}#sk-container-id-4 label.sk-toggleable__label-arrow:before {content: \"▸\";float: left;margin-right: 0.25em;color: #696969;}#sk-container-id-4 label.sk-toggleable__label-arrow:hover:before {color: black;}#sk-container-id-4 div.sk-estimator:hover label.sk-toggleable__label-arrow:before {color: black;}#sk-container-id-4 div.sk-toggleable__content {max-height: 0;max-width: 0;overflow: hidden;text-align: left;background-color: #f0f8ff;}#sk-container-id-4 div.sk-toggleable__content pre {margin: 0.2em;color: black;border-radius: 0.25em;background-color: #f0f8ff;}#sk-container-id-4 input.sk-toggleable__control:checked~div.sk-toggleable__content {max-height: 200px;max-width: 100%;overflow: auto;}#sk-container-id-4 input.sk-toggleable__control:checked~label.sk-toggleable__label-arrow:before {content: \"▾\";}#sk-container-id-4 div.sk-estimator input.sk-toggleable__control:checked~label.sk-toggleable__label {background-color: #d4ebff;}#sk-container-id-4 div.sk-label input.sk-toggleable__control:checked~label.sk-toggleable__label {background-color: #d4ebff;}#sk-container-id-4 input.sk-hidden--visually {border: 0;clip: rect(1px 1px 1px 1px);clip: rect(1px, 1px, 1px, 1px);height: 1px;margin: -1px;overflow: hidden;padding: 0;position: absolute;width: 1px;}#sk-container-id-4 div.sk-estimator {font-family: monospace;background-color: #f0f8ff;border: 1px dotted black;border-radius: 0.25em;box-sizing: border-box;margin-bottom: 0.5em;}#sk-container-id-4 div.sk-estimator:hover {background-color: #d4ebff;}#sk-container-id-4 div.sk-parallel-item::after {content: \"\";width: 100%;border-bottom: 1px solid gray;flex-grow: 1;}#sk-container-id-4 div.sk-label:hover label.sk-toggleable__label {background-color: #d4ebff;}#sk-container-id-4 div.sk-serial::before {content: \"\";position: absolute;border-left: 1px solid gray;box-sizing: border-box;top: 0;bottom: 0;left: 50%;z-index: 0;}#sk-container-id-4 div.sk-serial {display: flex;flex-direction: column;align-items: center;background-color: white;padding-right: 0.2em;padding-left: 0.2em;position: relative;}#sk-container-id-4 div.sk-item {position: relative;z-index: 1;}#sk-container-id-4 div.sk-parallel {display: flex;align-items: stretch;justify-content: center;background-color: white;position: relative;}#sk-container-id-4 div.sk-item::before, #sk-container-id-4 div.sk-parallel-item::before {content: \"\";position: absolute;border-left: 1px solid gray;box-sizing: border-box;top: 0;bottom: 0;left: 50%;z-index: -1;}#sk-container-id-4 div.sk-parallel-item {display: flex;flex-direction: column;z-index: 1;position: relative;background-color: white;}#sk-container-id-4 div.sk-parallel-item:first-child::after {align-self: flex-end;width: 50%;}#sk-container-id-4 div.sk-parallel-item:last-child::after {align-self: flex-start;width: 50%;}#sk-container-id-4 div.sk-parallel-item:only-child::after {width: 0;}#sk-container-id-4 div.sk-dashed-wrapped {border: 1px dashed gray;margin: 0 0.4em 0.5em 0.4em;box-sizing: border-box;padding-bottom: 0.4em;background-color: white;}#sk-container-id-4 div.sk-label label {font-family: monospace;font-weight: bold;display: inline-block;line-height: 1.2em;}#sk-container-id-4 div.sk-label-container {text-align: center;}#sk-container-id-4 div.sk-container {/* jupyter's `normalize.less` sets `[hidden] { display: none; }` but bootstrap.min.css set `[hidden] { display: none !important; }` so we also need the `!important` here to be able to override the default hidden behavior on the sphinx rendered scikit-learn.org. See: https://github.com/scikit-learn/scikit-learn/issues/21755 */display: inline-block !important;position: relative;}#sk-container-id-4 div.sk-text-repr-fallback {display: none;}</style><div id=\"sk-container-id-4\" class=\"sk-top-container\"><div class=\"sk-text-repr-fallback\"><pre>PCA(n_components=3)</pre><b>In a Jupyter environment, please rerun this cell to show the HTML representation or trust the notebook. <br />On GitHub, the HTML representation is unable to render, please try loading this page with nbviewer.org.</b></div><div class=\"sk-container\" hidden><div class=\"sk-item\"><div class=\"sk-estimator sk-toggleable\"><input class=\"sk-toggleable__control sk-hidden--visually\" id=\"sk-estimator-id-4\" type=\"checkbox\" checked><label for=\"sk-estimator-id-4\" class=\"sk-toggleable__label sk-toggleable__label-arrow\">PCA</label><div class=\"sk-toggleable__content\"><pre>PCA(n_components=3)</pre></div></div></div></div></div>"
      ],
      "text/plain": [
       "PCA(n_components=3)"
      ]
     },
     "execution_count": 35,
     "metadata": {},
     "output_type": "execute_result"
    }
   ],
   "source": [
    "pca_1.fit(matrix)        # implement pCA on a dataset"
   ]
  },
  {
   "cell_type": "code",
   "execution_count": 36,
   "id": "b8474848",
   "metadata": {},
   "outputs": [
    {
     "data": {
      "text/plain": [
       "array([0.09704646, 0.07095966, 0.06169075])"
      ]
     },
     "execution_count": 36,
     "metadata": {},
     "output_type": "execute_result"
    }
   ],
   "source": [
    "pca_1.explained_variance_ratio_"
   ]
  },
  {
   "cell_type": "code",
   "execution_count": 37,
   "id": "0d0b5a8e",
   "metadata": {},
   "outputs": [
    {
     "data": {
      "text/plain": [
       "(3,)"
      ]
     },
     "execution_count": 37,
     "metadata": {},
     "output_type": "execute_result"
    }
   ],
   "source": [
    "pca_1.explained_variance_ratio_.shape"
   ]
  },
  {
   "cell_type": "code",
   "execution_count": 38,
   "id": "a70f8c30",
   "metadata": {},
   "outputs": [
    {
     "data": {
      "text/plain": [
       "array([332724.85763191, 243285.95374487, 211507.41729931])"
      ]
     },
     "execution_count": 38,
     "metadata": {},
     "output_type": "execute_result"
    }
   ],
   "source": [
    "pca_1.explained_variance_"
   ]
  },
  {
   "cell_type": "code",
   "execution_count": 39,
   "id": "095bf3bb",
   "metadata": {},
   "outputs": [
    {
     "name": "stderr",
     "output_type": "stream",
     "text": [
      "C:\\ProgramData\\anaconda3\\Lib\\site-packages\\sklearn\\base.py:457: UserWarning: X has feature names, but PCA was fitted without feature names\n",
      "  warnings.warn(\n"
     ]
    },
    {
     "data": {
      "text/plain": [
       "array([[ 123.93401318, -312.66129658,  -24.55633122],\n",
       "       [1011.72493373, -294.87165063,  596.32706573],\n",
       "       [ -51.85036758,  392.16408743, -188.50952102],\n",
       "       ...,\n",
       "       [-178.05578222,  160.08465718, -257.61399782],\n",
       "       [ 130.60616434,   -5.60286432,  513.8570714 ],\n",
       "       [-173.43860209,  -24.71767388,  556.03417729]])"
      ]
     },
     "execution_count": 39,
     "metadata": {},
     "output_type": "execute_result"
    }
   ],
   "source": [
    "zz=pca_1.transform(data)\n",
    "zz"
   ]
  },
  {
   "cell_type": "code",
   "execution_count": 40,
   "id": "aea0f15e",
   "metadata": {},
   "outputs": [
    {
     "name": "stderr",
     "output_type": "stream",
     "text": [
      "C:\\ProgramData\\anaconda3\\Lib\\site-packages\\sklearn\\base.py:457: UserWarning: X has feature names, but PCA was fitted without feature names\n",
      "  warnings.warn(\n"
     ]
    },
    {
     "data": {
      "text/plain": [
       "(60000, 3)"
      ]
     },
     "execution_count": 40,
     "metadata": {},
     "output_type": "execute_result"
    }
   ],
   "source": [
    "pca_1.transform(data).shape"
   ]
  },
  {
   "cell_type": "code",
   "execution_count": 41,
   "id": "944dafb1",
   "metadata": {},
   "outputs": [
    {
     "data": {
      "text/plain": [
       "<matplotlib.collections.PathCollection at 0x270dae67fd0>"
      ]
     },
     "execution_count": 41,
     "metadata": {},
     "output_type": "execute_result"
    },
    {
     "data": {
      "image/png": "[encoded data removed]",
      "text/plain": [
       "<Figure size 640x480 with 1 Axes>"
      ]
     },
     "metadata": {},
     "output_type": "display_data"
    }
   ],
   "source": [
    "plt.scatter(zz[:,0],zz[:,1])"
   ]
  },
  {
   "cell_type": "code",
   "execution_count": 42,
   "id": "94fe96a9",
   "metadata": {},
   "outputs": [],
   "source": [
    "variance_threshold = 0.95    # considering a threshold for variance"
   ]
  },
  {
   "cell_type": "code",
   "execution_count": 43,
   "id": "2e243df0",
   "metadata": {},
   "outputs": [
    {
     "ename": "NameError",
     "evalue": "name 'cumulative_explained_variance_ratio' is not defined",
     "output_type": "error",
     "traceback": [
      "\u001b[1;31m---------------------------------------------------------------------------\u001b[0m",
      "\u001b[1;31mNameError\u001b[0m                                 Traceback (most recent call last)",
      "Cell \u001b[1;32mIn[43], line 1\u001b[0m\n\u001b[1;32m----> 1\u001b[0m n_components \u001b[38;5;241m=\u001b[39m np\u001b[38;5;241m.\u001b[39margmax(cumulative_explained_variance_ratio \u001b[38;5;241m>\u001b[39m\u001b[38;5;241m=\u001b[39m variance_threshold) \u001b[38;5;241m+\u001b[39m \u001b[38;5;241m1\u001b[39m\n",
      "\u001b[1;31mNameError\u001b[0m: name 'cumulative_explained_variance_ratio' is not defined"
     ]
    }
   ],
   "source": [
    "n_components = np.argmax(cumulative_explained_variance_ratio >= variance_threshold) + 1   #finds the index of the first True value, which corresponds to the number of principal components needed to exceed the variance threshold."
   ]
  },
  {
   "cell_type": "code",
   "execution_count": 44,
   "id": "5e5d17a7",
   "metadata": {},
   "outputs": [
    {
     "ename": "NameError",
     "evalue": "name 'n_components' is not defined",
     "output_type": "error",
     "traceback": [
      "\u001b[1;31m---------------------------------------------------------------------------\u001b[0m",
      "\u001b[1;31mNameError\u001b[0m                                 Traceback (most recent call last)",
      "Cell \u001b[1;32mIn[44], line 1\u001b[0m\n\u001b[1;32m----> 1\u001b[0m pca \u001b[38;5;241m=\u001b[39m PCA(n_components\u001b[38;5;241m=\u001b[39mn_components)      \u001b[38;5;66;03m#s used to create an instance of the PCA model with a specified number of principal components.\u001b[39;00m\n\u001b[0;32m      3\u001b[0m \u001b[38;5;28mprint\u001b[39m(\u001b[38;5;124m\"\u001b[39m\u001b[38;5;124mNumber of components to retain:\u001b[39m\u001b[38;5;124m\"\u001b[39m, n_components)\n",
      "\u001b[1;31mNameError\u001b[0m: name 'n_components' is not defined"
     ]
    }
   ],
   "source": [
    "pca = PCA(n_components=n_components)      #s used to create an instance of the PCA model with a specified number of principal components.\n",
    "\n",
    "print(\"Number of components to retain:\", n_components)  # Optional: Print the selected number of components"
   ]
  },
  {
   "cell_type": "code",
   "execution_count": 45,
   "id": "2fe74ac0",
   "metadata": {},
   "outputs": [
    {
     "data": {
      "image/png": "[encoded data removed]",
      "text/plain": [
       "<Figure size 640x480 with 1 Axes>"
      ]
     },
     "metadata": {},
     "output_type": "display_data"
    }
   ],
   "source": [
    "import pandas as pd\n",
    "import matplotlib.pyplot as plt\n",
    "\n",
    "# Read the dataset\n",
    "data = pd.read_csv(r\"C:\\Users\\Kyle\\Desktop\\Middlesex uni\\Machine Learning\\Week5\\mnist.csv\")\n",
    "\n",
    "# Extract the pixel values of the first number\n",
    "number_data = data.iloc[0, 1:].values.reshape(28, 28)\n",
    "\n",
    "# Display the image\n",
    "plt.imshow(number_data, cmap='gray')\n",
    "plt.axis('off')\n",
    "plt.show()\n"
   ]
  },
  {
   "cell_type": "code",
   "execution_count": 62,
   "id": "e49a2bf3",
   "metadata": {},
   "outputs": [
    {
     "name": "stderr",
     "output_type": "stream",
     "text": [
      "C:\\ProgramData\\anaconda3\\Lib\\site-packages\\seaborn\\axisgrid.py:118: UserWarning: The figure layout has changed to tight\n",
      "  self._figure.tight_layout(*args, **kwargs)\n"
     ]
    },
    {
     "data": {
      "image/png": "[encoded data removed]",
      "text/plain": [
       "<Figure size 750x750 with 12 Axes>"
      ]
     },
     "metadata": {},
     "output_type": "display_data"
    }
   ],
   "source": [
    "import seaborn as sns\n",
    "import pandas as pd\n",
    "import matplotlib.pyplot as plt\n",
    "\n",
    "# Assuming pca_data is your DataFrame containing three PCA components named 'PC1', 'PC2', and 'PC3'\n",
    "\n",
    "# Sample data\n",
    "pca_data = pd.DataFrame({\n",
    "    'PC1': [0.1, 0.5, 0.3, 0.2],\n",
    "    'PC2': [0.4, 0.6, 0.7, 0.9],\n",
    "    'PC3': [0.2, 0.3, 0.6, 0.8]\n",
    "})\n",
    "\n",
    "# Create a pairplot for the PCA components\n",
    "sns.pairplot(pca_data)\n",
    "plt.show()\n"
   ]
  },
  {
   "cell_type": "code",
   "execution_count": null,
   "id": "09517cb4",
   "metadata": {},
   "outputs": [],
   "source": []
  },
  {
   "cell_type": "code",
   "execution_count": null,
   "id": "cda8ee03",
   "metadata": {},
   "outputs": [],
   "source": []
  }
 ],
 "metadata": {
  "kernelspec": {
   "display_name": "Python 3 (ipykernel)",
   "language": "python",
   "name": "python3"
  },
  "language_info": {
   "codemirror_mode": {
    "name": "ipython",
    "version": 3
   },
   "file_extension": ".py",
   "mimetype": "text/x-python",
   "name": "python",
   "nbconvert_exporter": "python",
   "pygments_lexer": "ipython3",
   "version": "3.11.7"
  }
 },
 "nbformat": 4,
 "nbformat_minor": 5
}
